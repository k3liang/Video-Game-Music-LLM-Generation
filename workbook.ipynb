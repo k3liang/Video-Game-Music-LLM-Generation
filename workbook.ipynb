{
 "cells": [
  {
   "cell_type": "markdown",
   "metadata": {
    "id": "F9Ecs-6yxiud"
   },
   "source": [
    "# Install and load required libraries"
   ]
  },
  {
   "cell_type": "code",
   "execution_count": null,
   "metadata": {
    "colab": {
     "base_uri": "https://localhost:8080/"
    },
    "executionInfo": {
     "elapsed": 5438,
     "status": "ok",
     "timestamp": 1745877885531,
     "user": {
      "displayName": "Jingyue Huang",
      "userId": "11611851786193480123"
     },
     "user_tz": 420
    },
    "id": "8g_o3ViHxiue",
    "outputId": "9f607179-f5da-4309-b2e4-0b35f0d5b5f5"
   },
   "outputs": [],
   "source": [
    "#!pip install miditok\n",
    "#!pip install symusic\n",
    "#!pip install glob\n",
    "#!pip install torch"
   ]
  },
  {
   "cell_type": "code",
   "execution_count": 32,
   "metadata": {
    "executionInfo": {
     "elapsed": 4702,
     "status": "ok",
     "timestamp": 1745877899137,
     "user": {
      "displayName": "Jingyue Huang",
      "userId": "11611851786193480123"
     },
     "user_tz": 420
    },
    "id": "g4VJpcg4xiue"
   },
   "outputs": [],
   "source": [
    "import glob\n",
    "import random\n",
    "from typing import List\n",
    "from collections import defaultdict\n",
    "from collections import Counter\n",
    "\n",
    "import numpy as np\n",
    "from numpy.random import choice\n",
    "import math\n",
    "from scipy import stats\n",
    "\n",
    "import torch\n",
    "import torch.nn as nn\n",
    "import torch.optim as optim\n",
    "import torch.nn.functional as F\n",
    "from torch.utils.data import Dataset, DataLoader\n",
    "from tqdm import tqdm\n",
    "\n",
    "from symusic import Score\n",
    "from miditok import REMI, TokenizerConfig\n",
    "import miditoolkit\n",
    "import pandas as pd\n",
    "import matplotlib.pyplot as plt\n",
    "import pretty_midi"
   ]
  },
  {
   "cell_type": "markdown",
   "metadata": {},
   "source": [
    "# Task 1: Symbolic, unconditioned generation"
   ]
  },
  {
   "cell_type": "markdown",
   "metadata": {},
   "source": [
    "# Exploratory Data Analysis"
   ]
  },
  {
   "cell_type": "code",
   "execution_count": 2,
   "metadata": {},
   "outputs": [
    {
     "data": {
      "text/html": [
       "<div>\n",
       "<style scoped>\n",
       "    .dataframe tbody tr th:only-of-type {\n",
       "        vertical-align: middle;\n",
       "    }\n",
       "\n",
       "    .dataframe tbody tr th {\n",
       "        vertical-align: top;\n",
       "    }\n",
       "\n",
       "    .dataframe thead th {\n",
       "        text-align: right;\n",
       "    }\n",
       "</style>\n",
       "<table border=\"1\" class=\"dataframe\">\n",
       "  <thead>\n",
       "    <tr style=\"text-align: right;\">\n",
       "      <th></th>\n",
       "      <th>id</th>\n",
       "      <th>series</th>\n",
       "      <th>console</th>\n",
       "      <th>game</th>\n",
       "      <th>piece</th>\n",
       "      <th>midi</th>\n",
       "      <th>pdf</th>\n",
       "    </tr>\n",
       "  </thead>\n",
       "  <tbody>\n",
       "    <tr>\n",
       "      <th>0</th>\n",
       "      <td>2932</td>\n",
       "      <td>Ace Attorney</td>\n",
       "      <td>Nintendo DS</td>\n",
       "      <td>Ace Attorney Investigations Miles Edgeworth</td>\n",
       "      <td>Kay Faraday The Great Truth Burglar</td>\n",
       "      <td>data_clean/midi/Ace Attorney_Nintendo DS_Ace A...</td>\n",
       "      <td>data_clean/pdf/Ace Attorney_Nintendo DS_Ace At...</td>\n",
       "    </tr>\n",
       "    <tr>\n",
       "      <th>1</th>\n",
       "      <td>4627</td>\n",
       "      <td>Ace Attorney</td>\n",
       "      <td>Nintendo DS</td>\n",
       "      <td>Ace Attorney Investigations Miles Edgeworth</td>\n",
       "      <td>Pursuit Lying Coldly</td>\n",
       "      <td>data_clean/midi/Ace Attorney_Nintendo DS_Ace A...</td>\n",
       "      <td>data_clean/pdf/Ace Attorney_Nintendo DS_Ace At...</td>\n",
       "    </tr>\n",
       "    <tr>\n",
       "      <th>2</th>\n",
       "      <td>4022</td>\n",
       "      <td>Ace Attorney</td>\n",
       "      <td>Nintendo DS</td>\n",
       "      <td>Apollo Justice Ace Attorney</td>\n",
       "      <td>Court Begins</td>\n",
       "      <td>data_clean/midi/Ace Attorney_Nintendo DS_Apoll...</td>\n",
       "      <td>data_clean/pdf/Ace Attorney_Nintendo DS_Apollo...</td>\n",
       "    </tr>\n",
       "    <tr>\n",
       "      <th>3</th>\n",
       "      <td>579</td>\n",
       "      <td>Ace Attorney</td>\n",
       "      <td>Nintendo DS</td>\n",
       "      <td>Apollo Justice Ace Attorney</td>\n",
       "      <td>Cross-Examination Moderato 2007</td>\n",
       "      <td>data_clean/midi/Ace Attorney_Nintendo DS_Apoll...</td>\n",
       "      <td>data_clean/pdf/Ace Attorney_Nintendo DS_Apollo...</td>\n",
       "    </tr>\n",
       "    <tr>\n",
       "      <th>4</th>\n",
       "      <td>2555</td>\n",
       "      <td>Ace Attorney</td>\n",
       "      <td>Nintendo DS</td>\n",
       "      <td>Apollo Justice Ace Attorney</td>\n",
       "      <td>Telling the Truth 2007</td>\n",
       "      <td>data_clean/midi/Ace Attorney_Nintendo DS_Apoll...</td>\n",
       "      <td>data_clean/pdf/Ace Attorney_Nintendo DS_Apollo...</td>\n",
       "    </tr>\n",
       "  </tbody>\n",
       "</table>\n",
       "</div>"
      ],
      "text/plain": [
       "     id        series      console  \\\n",
       "0  2932  Ace Attorney  Nintendo DS   \n",
       "1  4627  Ace Attorney  Nintendo DS   \n",
       "2  4022  Ace Attorney  Nintendo DS   \n",
       "3   579  Ace Attorney  Nintendo DS   \n",
       "4  2555  Ace Attorney  Nintendo DS   \n",
       "\n",
       "                                          game  \\\n",
       "0  Ace Attorney Investigations Miles Edgeworth   \n",
       "1  Ace Attorney Investigations Miles Edgeworth   \n",
       "2                  Apollo Justice Ace Attorney   \n",
       "3                  Apollo Justice Ace Attorney   \n",
       "4                  Apollo Justice Ace Attorney   \n",
       "\n",
       "                                 piece  \\\n",
       "0  Kay Faraday The Great Truth Burglar   \n",
       "1                 Pursuit Lying Coldly   \n",
       "2                         Court Begins   \n",
       "3      Cross-Examination Moderato 2007   \n",
       "4               Telling the Truth 2007   \n",
       "\n",
       "                                                midi  \\\n",
       "0  data_clean/midi/Ace Attorney_Nintendo DS_Ace A...   \n",
       "1  data_clean/midi/Ace Attorney_Nintendo DS_Ace A...   \n",
       "2  data_clean/midi/Ace Attorney_Nintendo DS_Apoll...   \n",
       "3  data_clean/midi/Ace Attorney_Nintendo DS_Apoll...   \n",
       "4  data_clean/midi/Ace Attorney_Nintendo DS_Apoll...   \n",
       "\n",
       "                                                 pdf  \n",
       "0  data_clean/pdf/Ace Attorney_Nintendo DS_Ace At...  \n",
       "1  data_clean/pdf/Ace Attorney_Nintendo DS_Ace At...  \n",
       "2  data_clean/pdf/Ace Attorney_Nintendo DS_Apollo...  \n",
       "3  data_clean/pdf/Ace Attorney_Nintendo DS_Apollo...  \n",
       "4  data_clean/pdf/Ace Attorney_Nintendo DS_Apollo...  "
      ]
     },
     "execution_count": 2,
     "metadata": {},
     "output_type": "execute_result"
    }
   ],
   "source": [
    "df = pd.read_csv(\"vgmidi_unlabelled.csv\")\n",
    "df.head()"
   ]
  },
  {
   "cell_type": "code",
   "execution_count": 3,
   "metadata": {},
   "outputs": [],
   "source": [
    "all_files = np.array(df['midi'])"
   ]
  },
  {
   "cell_type": "code",
   "execution_count": 14,
   "metadata": {},
   "outputs": [
    {
     "name": "stdout",
     "output_type": "stream",
     "text": [
      "Number of MIDI files:  3850\n",
      "Example MIDI file:  data_clean/midi/Animal Crossing_Nintendo GameCube_Animal Crossing_Crazy Redds Black Market.mid\n"
     ]
    }
   ],
   "source": [
    "print(\"Number of MIDI files: \", len(all_files))\n",
    "print(\"Example MIDI file: \", all_files[50])"
   ]
  },
  {
   "cell_type": "code",
   "execution_count": 10,
   "metadata": {},
   "outputs": [
    {
     "data": {
      "text/plain": [
       "(3850, 7)"
      ]
     },
     "execution_count": 10,
     "metadata": {},
     "output_type": "execute_result"
    }
   ],
   "source": [
    "df.shape"
   ]
  },
  {
   "cell_type": "code",
   "execution_count": null,
   "metadata": {},
   "outputs": [],
   "source": [
    "tracks = []\n",
    "durations = []\n",
    "\n",
    "for path in all_files:\n",
    "    midi_data = pretty_midi.PrettyMIDI(path)\n",
    "\n",
    "    tracks.append(len(midi_data.instruments))\n",
    "    durations.append(midi_data.get_end_time())"
   ]
  },
  {
   "cell_type": "code",
   "execution_count": 46,
   "metadata": {},
   "outputs": [
    {
     "data": {
      "image/png": "[encoded data removed]",
      "text/plain": [
       "<Figure size 640x480 with 1 Axes>"
      ]
     },
     "metadata": {},
     "output_type": "display_data"
    }
   ],
   "source": [
    "plt.hist(durations, bins=50)\n",
    "plt.title(\"Duration Distribution\")\n",
    "plt.xlabel(\"Duration (s)\")\n",
    "plt.ylabel(\"Count\")\n",
    "plt.show()"
   ]
  },
  {
   "cell_type": "code",
   "execution_count": 4,
   "metadata": {},
   "outputs": [
    {
     "name": "stderr",
     "output_type": "stream",
     "text": [
      "/home/k3liang/.local/lib/python3.11/site-packages/pretty_midi/pretty_midi.py:100: RuntimeWarning: Tempo, Key or Time signature change events found on non-zero tracks.  This is not a valid type 0 or type 1 MIDI file.  Tempo, Key or Time Signature may be wrong.\n",
      "  warnings.warn(\n"
     ]
    },
    {
     "name": "stdout",
     "output_type": "stream",
     "text": [
      "Number of files after removing long MIDIs:  3702\n"
     ]
    }
   ],
   "source": [
    "new_all_files = []\n",
    "for path in all_files:\n",
    "    midi_data = pretty_midi.PrettyMIDI(path)\n",
    "    \n",
    "    if midi_data.get_end_time() <= 300:\n",
    "        new_all_files.append(path)\n",
    "\n",
    "all_files = np.array(new_all_files)\n",
    "print(\"Number of files after removing long MIDIs: \", len(all_files))"
   ]
  },
  {
   "cell_type": "code",
   "execution_count": 5,
   "metadata": {},
   "outputs": [
    {
     "data": {
      "text/plain": [
       "(3702, 7)"
      ]
     },
     "execution_count": 5,
     "metadata": {},
     "output_type": "execute_result"
    }
   ],
   "source": [
    "df = df[df[\"midi\"].isin(all_files)]\n",
    "df.shape"
   ]
  },
  {
   "cell_type": "code",
   "execution_count": 53,
   "metadata": {},
   "outputs": [
    {
     "name": "stdout",
     "output_type": "stream",
     "text": [
      "Number of franchises:  45\n",
      "Number of consoles:  37\n",
      "Number of games:  721\n"
     ]
    }
   ],
   "source": [
    "print(\"Number of franchises: \", len(np.unique(df['series'])))\n",
    "print(\"Number of consoles: \", len(np.unique(df['console'])))\n",
    "print(\"Number of games: \", len(np.unique(df['game'])))"
   ]
  },
  {
   "cell_type": "code",
   "execution_count": 51,
   "metadata": {},
   "outputs": [
    {
     "data": {
      "image/png": "[encoded data removed]",
      "text/plain": [
       "<Figure size 1200x600 with 1 Axes>"
      ]
     },
     "metadata": {},
     "output_type": "display_data"
    }
   ],
   "source": [
    "series_counts = df[\"series\"].value_counts()\n",
    "\n",
    "top_n = 20\n",
    "series_counts.head(top_n).plot(kind='bar', figsize=(12, 6), color='skyblue')\n",
    "plt.title(f\"Top {top_n} Franchises in VGMidi Dataset\")\n",
    "plt.xlabel(\"Franchise\")\n",
    "plt.ylabel(\"Number of MIDI Files\")\n",
    "plt.xticks(rotation=45, ha='right')\n",
    "plt.tight_layout()\n",
    "plt.show()\n"
   ]
  },
  {
   "cell_type": "code",
   "execution_count": 52,
   "metadata": {},
   "outputs": [
    {
     "data": {
      "image/png": "[encoded data removed]",
      "text/plain": [
       "<Figure size 1200x600 with 1 Axes>"
      ]
     },
     "metadata": {},
     "output_type": "display_data"
    }
   ],
   "source": [
    "series_counts = df[\"console\"].value_counts()\n",
    "\n",
    "top_n = 20\n",
    "series_counts.head(top_n).plot(kind='bar', figsize=(12, 6), color='skyblue')\n",
    "plt.title(f\"Top {top_n} Platforms in VGMidi Dataset\")\n",
    "plt.xlabel(\"Platform\")\n",
    "plt.ylabel(\"Number of MIDI Files\")\n",
    "plt.xticks(rotation=45, ha='right')\n",
    "plt.tight_layout()\n",
    "plt.show()\n"
   ]
  },
  {
   "cell_type": "code",
   "execution_count": null,
   "metadata": {},
   "outputs": [],
   "source": [
    "tracks = []\n",
    "durations = []\n",
    "\n",
    "for path in all_files:\n",
    "    midi_data = pretty_midi.PrettyMIDI(path)\n",
    "\n",
    "    tracks.append(len(midi_data.instruments))\n",
    "    durations.append(midi_data.get_end_time())"
   ]
  },
  {
   "cell_type": "code",
   "execution_count": 14,
   "metadata": {},
   "outputs": [
    {
     "name": "stdout",
     "output_type": "stream",
     "text": [
      "Total Duration of MIDI files (hours):  111.7153737507914\n"
     ]
    }
   ],
   "source": [
    "print(\"Total Duration of MIDI files (hours): \", sum(durations) / 3600)"
   ]
  },
  {
   "cell_type": "code",
   "execution_count": 63,
   "metadata": {},
   "outputs": [
    {
     "data": {
      "image/png": "[encoded data removed]",
      "text/plain": [
       "<Figure size 640x480 with 1 Axes>"
      ]
     },
     "metadata": {},
     "output_type": "display_data"
    }
   ],
   "source": [
    "plt.hist(durations, bins=15)\n",
    "plt.title(\"Duration Distribution\")\n",
    "plt.xlabel(\"Duration (s)\")\n",
    "plt.ylabel(\"Count\")\n",
    "plt.show()"
   ]
  },
  {
   "cell_type": "code",
   "execution_count": 62,
   "metadata": {},
   "outputs": [
    {
     "data": {
      "image/png": "[encoded data removed]",
      "text/plain": [
       "<Figure size 800x500 with 1 Axes>"
      ]
     },
     "metadata": {},
     "output_type": "display_data"
    }
   ],
   "source": [
    "plt.figure(figsize=(8, 5))\n",
    "plt.hist(tracks, bins=range(1, max(tracks)+2), align='left', rwidth=0.8, color='skyblue')\n",
    "plt.xticks(range(1, max(tracks)+1))\n",
    "plt.xlabel(\"Number of Tracks\")\n",
    "plt.ylabel(\"Number of MIDI Files\")\n",
    "plt.title(\"Distribution of Tracks per MIDI\")\n",
    "plt.tight_layout()\n",
    "plt.show()"
   ]
  },
  {
   "cell_type": "code",
   "execution_count": 64,
   "metadata": {},
   "outputs": [],
   "source": [
    "durations = []\n",
    "note_densities = []\n",
    "velocities = []\n",
    "velocities_stds = []\n",
    "tempos = []\n",
    "pitches = []\n",
    "pitch_stds = []\n",
    "intervals = []\n",
    "\n",
    "for path in all_files:\n",
    "    midi = miditoolkit.MidiFile(path)\n",
    "    ticks_per_beat = midi.ticks_per_beat\n",
    "    notes = [note for inst in midi.instruments for note in inst.notes]\n",
    "    \n",
    "    if not notes:\n",
    "        continue\n",
    "\n",
    "    total_ticks = max(n.end for n in notes)\n",
    "    tempo = 120\n",
    "    avg_tempo = 0\n",
    "    tempo_cnt = 0\n",
    "    if midi.tempo_changes:\n",
    "        tempo = midi.tempo_changes[0].tempo\n",
    "        for temp in midi.tempo_changes:\n",
    "            avg_tempo += temp.tempo\n",
    "            tempo_cnt += 1\n",
    "    avg_tempo = avg_tempo / tempo_cnt if tempo_cnt > 0 else 120\n",
    "    total_sec = (total_ticks / ticks_per_beat) * (60 / avg_tempo)\n",
    "\n",
    "    midi_pitches = [note.pitch for note in notes]\n",
    "    midi_velocities = [note.velocity for note in notes]\n",
    "    \n",
    "    durations.append(total_sec)\n",
    "    note_densities.append(len(notes) / total_sec)\n",
    "    velocities.extend(midi_velocities)\n",
    "    velocities_stds.append(np.std(midi_velocities))\n",
    "    tempos.append(avg_tempo)\n",
    "    pitches.extend(midi_pitches)\n",
    "    pitch_stds.append(np.std(midi_pitches))\n",
    "\n",
    "    midi_intervals = np.diff(midi_pitches)\n",
    "    intervals.extend(midi_intervals)\n"
   ]
  },
  {
   "cell_type": "code",
   "execution_count": 67,
   "metadata": {},
   "outputs": [
    {
     "data": {
      "image/png": "[encoded data removed]",
      "text/plain": [
       "<Figure size 640x480 with 1 Axes>"
      ]
     },
     "metadata": {},
     "output_type": "display_data"
    },
    {
     "data": {
      "image/png": "[encoded data removed]",
      "text/plain": [
       "<Figure size 640x480 with 1 Axes>"
      ]
     },
     "metadata": {},
     "output_type": "display_data"
    },
    {
     "data": {
      "image/png": "[encoded data removed]",
      "text/plain": [
       "<Figure size 640x480 with 1 Axes>"
      ]
     },
     "metadata": {},
     "output_type": "display_data"
    },
    {
     "data": {
      "image/png": "[encoded data removed]",
      "text/plain": [
       "<Figure size 640x480 with 1 Axes>"
      ]
     },
     "metadata": {},
     "output_type": "display_data"
    },
    {
     "data": {
      "image/png": "[encoded data removed]",
      "text/plain": [
       "<Figure size 640x480 with 1 Axes>"
      ]
     },
     "metadata": {},
     "output_type": "display_data"
    },
    {
     "data": {
      "image/png": "[encoded data removed]",
      "text/plain": [
       "<Figure size 640x480 with 1 Axes>"
      ]
     },
     "metadata": {},
     "output_type": "display_data"
    },
    {
     "data": {
      "image/png": "[encoded data removed]",
      "text/plain": [
       "<Figure size 640x480 with 1 Axes>"
      ]
     },
     "metadata": {},
     "output_type": "display_data"
    }
   ],
   "source": [
    "plt.hist(note_densities, bins=35)\n",
    "plt.title(\"Note Density Distribution\")\n",
    "plt.xlabel(\"Note Density (notes/s)\")\n",
    "plt.ylabel(\"Count\")\n",
    "plt.show()\n",
    "\n",
    "plt.hist(velocities, bins=15)\n",
    "plt.title(\"Velocity Distribution\")\n",
    "plt.xlabel(\"Velocity\")\n",
    "plt.ylabel(\"Count\")\n",
    "plt.show()\n",
    "\n",
    "plt.hist(velocities_stds, bins=15)\n",
    "plt.title(\"Velocity STD Distribution\")\n",
    "plt.xlabel(\"Velocity STD\")\n",
    "plt.ylabel(\"Count\")\n",
    "plt.show()\n",
    "\n",
    "plt.hist(tempos, bins=15)\n",
    "plt.title(\"Tempo Distribution\")\n",
    "plt.xlabel(\"Tempo (BPM)\")\n",
    "plt.ylabel(\"Count\")\n",
    "plt.show()\n",
    "\n",
    "plt.hist(pitches, bins=15)\n",
    "plt.title(\"Pitch Distribution\")\n",
    "plt.xlabel(\"Pitch (value from 0-127)\")\n",
    "plt.ylabel(\"Count\")\n",
    "plt.show()\n",
    "\n",
    "plt.hist(pitch_stds, bins=15)\n",
    "plt.title(\"Pitch STD Distribution\")\n",
    "plt.xlabel(\"Pitch STD\")\n",
    "plt.ylabel(\"Count\")\n",
    "plt.show()\n",
    "\n",
    "plt.hist(intervals, bins=15)\n",
    "plt.title(\"Consecutive Pitch Difference (Pitch Interval) Distribution\")\n",
    "plt.xlabel(\"Pitch Difference from one note to the next\")\n",
    "plt.ylabel(\"Count\")\n",
    "plt.show()"
   ]
  },
  {
   "cell_type": "markdown",
   "metadata": {},
   "source": [
    "**Train-Validation-Test Split**  \n",
    "80-10-10"
   ]
  },
  {
   "cell_type": "code",
   "execution_count": 6,
   "metadata": {},
   "outputs": [
    {
     "data": {
      "text/plain": [
       "(3702, 2962, 370, 370)"
      ]
     },
     "execution_count": 6,
     "metadata": {},
     "output_type": "execute_result"
    }
   ],
   "source": [
    "np.random.seed(42)\n",
    "np.random.shuffle(all_files)\n",
    "\n",
    "total_len = len(all_files)\n",
    "val_size = 0.1\n",
    "test_size = 0.1\n",
    "\n",
    "train_files = all_files[:-int(total_len*(test_size+val_size))]\n",
    "val_files = all_files[-int(total_len*(test_size+val_size)):-int(total_len*test_size)]\n",
    "test_files = all_files[-int(total_len*test_size):]\n",
    "\n",
    "len(all_files), len(train_files), len(val_files), len(test_files)"
   ]
  },
  {
   "cell_type": "markdown",
   "metadata": {
    "id": "AzLU_2qjxiug"
   },
   "source": [
    "# Markov Chain (BASELINE)"
   ]
  },
  {
   "cell_type": "markdown",
   "metadata": {
    "id": "zcnRQllAxiug"
   },
   "source": [
    "## Train the MIDI tokenizer"
   ]
  },
  {
   "cell_type": "code",
   "execution_count": null,
   "metadata": {
    "colab": {
     "base_uri": "https://localhost:8080/"
    },
    "executionInfo": {
     "elapsed": 4871,
     "status": "ok",
     "timestamp": 1745878027318,
     "user": {
      "displayName": "Jingyue Huang",
      "userId": "11611851786193480123"
     },
     "user_tz": 420
    },
    "id": "i-fRQcSyxiug",
    "outputId": "f1abe86e-4a53-4ed9-ffe6-2e158ec4a409"
   },
   "outputs": [
    {
     "name": "stderr",
     "output_type": "stream",
     "text": [
      "/home/k3liang/.local/lib/python3.11/site-packages/miditok/tokenizations/remi.py:88: UserWarning: Attribute controls are not compatible with 'config.one_token_stream_for_programs' and multi-vocabulary tokenizers. Disabling them from the config.\n",
      "  super().__init__(tokenizer_config, params)\n"
     ]
    },
    {
     "name": "stdout",
     "output_type": "stream",
     "text": [
      "\n"
     ]
    }
   ],
   "source": [
    "config = TokenizerConfig(num_velocities=1, use_chords=False, use_programs=True)\n",
    "tokenizer = REMI(config)\n",
    "tokenizer.train(vocab_size=1000, files_paths=train_files)\n",
    "tokenizer.save(\"markovtokenizer.json\")"
   ]
  },
  {
   "cell_type": "code",
   "execution_count": 8,
   "metadata": {},
   "outputs": [],
   "source": [
    "#tokenizer = REMI(params=\"markovtokenizer.json\")"
   ]
  },
  {
   "cell_type": "code",
   "execution_count": 99,
   "metadata": {},
   "outputs": [],
   "source": [
    "markov_tokenizer = tokenizer"
   ]
  },
  {
   "cell_type": "markdown",
   "metadata": {
    "id": "BxuSZPQGxiug"
   },
   "source": [
    "## Construct a PyTorch Dataset"
   ]
  },
  {
   "cell_type": "code",
   "execution_count": 10,
   "metadata": {
    "executionInfo": {
     "elapsed": 1,
     "status": "ok",
     "timestamp": 1745878029126,
     "user": {
      "displayName": "Jingyue Huang",
      "userId": "11611851786193480123"
     },
     "user_tz": 420
    },
    "id": "3XTgwwDbxiug"
   },
   "outputs": [],
   "source": [
    "class MIDIDataset(Dataset):\n",
    "    def __init__(self, file_paths: List[str], tokenizer):\n",
    "        self.tokenizer = tokenizer\n",
    "        self.file_paths = file_paths\n",
    "    def __len__(self):\n",
    "        return len(self.file_paths)\n",
    "\n",
    "    def __getitem__(self, idx):\n",
    "        midi = Score(self.file_paths[idx])\n",
    "        tokens = self.tokenizer(midi)\n",
    "        return np.array(tokens)"
   ]
  },
  {
   "cell_type": "markdown",
   "metadata": {
    "id": "NDC-VgQ8xiug"
   },
   "source": [
    "## Define PyTorch datasets and dataloaders"
   ]
  },
  {
   "cell_type": "code",
   "execution_count": 11,
   "metadata": {
    "executionInfo": {
     "elapsed": 5,
     "status": "ok",
     "timestamp": 1745878030484,
     "user": {
      "displayName": "Jingyue Huang",
      "userId": "11611851786193480123"
     },
     "user_tz": 420
    },
    "id": "ZpF66QOKxiug"
   },
   "outputs": [],
   "source": [
    "train_dataset = MIDIDataset(train_files, tokenizer)\n",
    "val_dataset = MIDIDataset(val_files, tokenizer)\n",
    "test_dataset = MIDIDataset(test_files, tokenizer)\n",
    "\n",
    "train_loader = DataLoader(train_dataset, batch_size=1, shuffle=True)\n",
    "val_loader = DataLoader(val_dataset, batch_size=1, shuffle=False)\n",
    "test_loader = DataLoader(test_dataset, batch_size=1, shuffle=False)"
   ]
  },
  {
   "cell_type": "markdown",
   "metadata": {
    "id": "N1lYNgFYxiug"
   },
   "source": [
    "## Define a Second Order Markov Chain model"
   ]
  },
  {
   "cell_type": "code",
   "execution_count": 12,
   "metadata": {
    "executionInfo": {
     "elapsed": 6,
     "status": "ok",
     "timestamp": 1745878032483,
     "user": {
      "displayName": "Jingyue Huang",
      "userId": "11611851786193480123"
     },
     "user_tz": 420
    },
    "id": "wbbkhpLZxiug"
   },
   "outputs": [],
   "source": [
    "class SecondOrderMarkovChain:\n",
    "    def __init__(self):\n",
    "        self.transitions = defaultdict(lambda: defaultdict(int))\n",
    "        self.probabilities = defaultdict(lambda: defaultdict(float))\n",
    "\n",
    "    def train(self, train_loader):\n",
    "        for sequence in train_loader:\n",
    "            sequence = sequence[0].numpy().astype(int)\n",
    "            for i in range(len(sequence) - 2):\n",
    "                state1, state2 = sequence[i], sequence[i + 1]\n",
    "                next_state = sequence[i + 2]\n",
    "                self.transitions[(state1, state2)][next_state] += 1\n",
    "\n",
    "        for (state1, state2), next_states in self.transitions.items():\n",
    "            total = sum(next_states.values())\n",
    "            for next_state, count in next_states.items():\n",
    "                self.probabilities[(state1, state2)][next_state] = count / total\n",
    "        return self.probabilities\n",
    "\n",
    "    def generate(self, test_sequence, gen_length=100, num_predictions=1):\n",
    "        test_sequence = test_sequence[0].numpy().astype(int)\n",
    "        results = [test_sequence[0], test_sequence[1]]\n",
    "        for i in range(gen_length):\n",
    "            if (results[-2], results[-1]) not in self.probabilities:\n",
    "                break\n",
    "            else:\n",
    "                probs = self.probabilities[(results[-2], results[-1])]\n",
    "                states = list(probs.keys())\n",
    "                probabilities = list(probs.values())\n",
    "                if not states:\n",
    "                    break\n",
    "                try:\n",
    "                    predictions = np.random.choice(states, size=num_predictions, p=probabilities)\n",
    "                except:\n",
    "                    break\n",
    "                results.append(predictions[0])\n",
    "        return results"
   ]
  },
  {
   "cell_type": "markdown",
   "metadata": {
    "id": "QzKyEWGNxiug"
   },
   "source": [
    "## Train the model and make inferences"
   ]
  },
  {
   "cell_type": "code",
   "execution_count": null,
   "metadata": {},
   "outputs": [],
   "source": [
    "model = SecondOrderMarkovChain()\n",
    "model.train(train_loader)"
   ]
  },
  {
   "cell_type": "code",
   "execution_count": 98,
   "metadata": {
    "executionInfo": {
     "elapsed": 3142,
     "status": "ok",
     "timestamp": 1745878037208,
     "user": {
      "displayName": "Jingyue Huang",
      "userId": "11611851786193480123"
     },
     "user_tz": 420
    },
    "id": "lbLz6RjZxiug"
   },
   "outputs": [],
   "source": [
    "predictions = []\n",
    "for i, test_sequence in enumerate(test_loader):\n",
    "    if i >= 500:\n",
    "        break\n",
    "    predictions.append(model.generate(test_sequence, gen_length=1000))\n",
    "for i, prediction in enumerate(predictions):\n",
    "    output_score = tokenizer.decode(torch.Tensor(prediction))\n",
    "    output_score.dump_midi(f\"markov/{i}.mid\")"
   ]
  },
  {
   "cell_type": "code",
   "execution_count": 95,
   "metadata": {
    "id": "wS0Rdr-0xiug"
   },
   "outputs": [],
   "source": [
    "#!brew install wget\n",
    "#!wget https://raw.githubusercontent.com/musescore/MuseScore/master/share/sound/FluidR3Mono_GM.sf3\n",
    "#!pip install midi2audio\n",
    "#!pip install IPython"
   ]
  },
  {
   "cell_type": "code",
   "execution_count": null,
   "metadata": {
    "id": "vPE9G-rKxiug",
    "outputId": "e8315302-6cf1-45e6-886d-d52d5b3d0a33"
   },
   "outputs": [],
   "source": [
    "from midi2audio import FluidSynth # Import library\n",
    "from IPython.display import Audio, display\n",
    "fs = FluidSynth(\"FluidR3Mono_GM.sf3\") # Initialize FluidSynth\n",
    "for i in range(len(predictions)):\n",
    "    fs.midi_to_audio(f\"{i}.mid\", f\"{i}.wav\")\n",
    "    display(Audio(f\"{i}.wav\"))"
   ]
  },
  {
   "cell_type": "code",
   "execution_count": null,
   "metadata": {},
   "outputs": [],
   "source": []
  },
  {
   "cell_type": "markdown",
   "metadata": {},
   "source": [
    "## Evaluation of the Markov Model (Baseline)"
   ]
  },
  {
   "cell_type": "code",
   "execution_count": 66,
   "metadata": {},
   "outputs": [],
   "source": [
    "def compute_markov_perplexity(markov_model, data_loader):\n",
    "    log_prob_sum = 0\n",
    "    token_count = 0\n",
    "\n",
    "    for sequence in data_loader:\n",
    "        sequence = sequence[0].numpy().astype(int)\n",
    "        if len(sequence) < 3:\n",
    "            continue\n",
    "\n",
    "        for i in range(2, len(sequence)):\n",
    "            state = (sequence[i-2], sequence[i-1])\n",
    "            next_token = sequence[i]\n",
    "\n",
    "            probs = markov_model.probabilities.get(state)\n",
    "            if probs is None:\n",
    "                continue  # skip unknown state\n",
    "\n",
    "            prob = probs.get(next_token, 1e-8)  # small value to avoid log(0)\n",
    "            log_prob_sum += math.log(prob)\n",
    "            token_count += 1\n",
    "\n",
    "    if token_count == 0:\n",
    "        return float('inf') \n",
    "\n",
    "    perplexity = math.exp(-log_prob_sum / token_count)\n",
    "    return perplexity\n",
    "\n",
    "\n"
   ]
  },
  {
   "cell_type": "code",
   "execution_count": 17,
   "metadata": {},
   "outputs": [
    {
     "name": "stdout",
     "output_type": "stream",
     "text": [
      "Markov Train Perplexity 13.172659238581225\n"
     ]
    }
   ],
   "source": [
    "print(\"Markov Train Perplexity\", compute_markov_perplexity(model, train_loader))"
   ]
  },
  {
   "cell_type": "code",
   "execution_count": 18,
   "metadata": {},
   "outputs": [
    {
     "name": "stdout",
     "output_type": "stream",
     "text": [
      "Markov Validation Perplexity 2023.3476095934257\n"
     ]
    }
   ],
   "source": [
    "print(\"Markov Validation Perplexity\", compute_markov_perplexity(model, val_loader))"
   ]
  },
  {
   "cell_type": "code",
   "execution_count": 19,
   "metadata": {},
   "outputs": [
    {
     "name": "stdout",
     "output_type": "stream",
     "text": [
      "Markov Test Perplexity 2040.7549596730541\n"
     ]
    }
   ],
   "source": [
    "print(\"Markov Test Perplexity\", compute_markov_perplexity(model, test_loader))"
   ]
  },
  {
   "cell_type": "markdown",
   "metadata": {
    "id": "VBN0aYQ3TsIj"
   },
   "source": [
    "# LSTM for MIDI generation"
   ]
  },
  {
   "cell_type": "code",
   "execution_count": 8,
   "metadata": {},
   "outputs": [],
   "source": [
    "from miditok.pytorch_data import DatasetMIDI, DataCollator"
   ]
  },
  {
   "cell_type": "code",
   "execution_count": 45,
   "metadata": {
    "id": "PtVV2bvtkNZQ"
   },
   "outputs": [],
   "source": [
    "\n",
    "tokenizer = REMI()  # using defaults parameters (constants.py)\n",
    "train_dataset = DatasetMIDI(\n",
    "    files_paths=train_files,\n",
    "    tokenizer=tokenizer,\n",
    "    max_seq_len=1024,\n",
    "    bos_token_id=tokenizer[\"BOS_None\"],\n",
    "    eos_token_id=tokenizer[\"EOS_None\"],\n",
    ")\n",
    "val_dataset = DatasetMIDI(\n",
    "    files_paths=val_files,\n",
    "    tokenizer=tokenizer,\n",
    "    max_seq_len=1024,\n",
    "    bos_token_id=tokenizer[\"BOS_None\"],\n",
    "    eos_token_id=tokenizer[\"EOS_None\"],\n",
    ")\n",
    "test_dataset = DatasetMIDI(\n",
    "    files_paths=test_files,\n",
    "    tokenizer=tokenizer,\n",
    "    max_seq_len=1024,\n",
    "    bos_token_id=tokenizer[\"BOS_None\"],\n",
    "    eos_token_id=tokenizer[\"EOS_None\"],\n",
    ")\n",
    "collator = DataCollator(tokenizer.pad_token_id)\n",
    "train_loader = DataLoader(train_dataset, batch_size=16, shuffle=True, collate_fn=collator, num_workers=4)\n",
    "val_loader = DataLoader(val_dataset, batch_size=16, shuffle=False, collate_fn=collator, num_workers=4)\n",
    "test_loader = DataLoader(test_dataset, batch_size=16, shuffle=False, collate_fn=collator, num_workers=4)"
   ]
  },
  {
   "cell_type": "code",
   "execution_count": 46,
   "metadata": {
    "colab": {
     "base_uri": "https://localhost:8080/"
    },
    "executionInfo": {
     "elapsed": 8,
     "status": "ok",
     "timestamp": 1745713128943,
     "user": {
      "displayName": "Jingyue Huang",
      "userId": "11611851786193480123"
     },
     "user_tz": -120
    },
    "id": "eN62DQ2MbnvF",
    "outputId": "23e7fece-e34c-4065-ac0a-2c266e28ea59"
   },
   "outputs": [
    {
     "data": {
      "text/plain": [
       "(186, 24, 24)"
      ]
     },
     "execution_count": 46,
     "metadata": {},
     "output_type": "execute_result"
    }
   ],
   "source": [
    "len(train_loader), len(val_loader), len(test_loader)"
   ]
  },
  {
   "cell_type": "markdown",
   "metadata": {
    "id": "VR7hZbrLTyu1"
   },
   "source": [
    "## LSTM (with layer norm and dropout)"
   ]
  },
  {
   "cell_type": "code",
   "execution_count": 100,
   "metadata": {
    "id": "wfddI849TzsN"
   },
   "outputs": [],
   "source": [
    "class MusicRNN(nn.Module):\n",
    "    def __init__(self, vocab_size, embedding_dim, hidden_dim, num_layers, dropout=0.3):\n",
    "        super(MusicRNN, self).__init__()\n",
    "        self.embedding = nn.Embedding(vocab_size, embedding_dim)\n",
    "        self.rnn = nn.LSTM(\n",
    "            input_size=embedding_dim,\n",
    "            hidden_size=hidden_dim,\n",
    "            num_layers=num_layers,\n",
    "            batch_first=True\n",
    "        )\n",
    "        \n",
    "        self.fc = nn.Linear(hidden_dim, vocab_size)\n",
    "        self.dropout = nn.Dropout(dropout)\n",
    "        self.norm = nn.LayerNorm(hidden_dim)\n",
    "\n",
    "    def forward(self, x, hidden=None):\n",
    "        # x: (batch_size, seq_length)\n",
    "        x = self.embedding(x)  # (batch_size, seq_length, embedding_dim)\n",
    "        out, hidden = self.rnn(x, hidden)  # out: (batch_size, seq_length, hidden_dim)\n",
    "        out = self.norm(out)\n",
    "        out = self.dropout(out)\n",
    "        out = self.fc(out)  # (batch_size, seq_length, vocab_size)\n",
    "        return out, hidden"
   ]
  },
  {
   "cell_type": "markdown",
   "metadata": {
    "id": "aVSszSART00u"
   },
   "source": [
    "### Training"
   ]
  },
  {
   "cell_type": "code",
   "execution_count": null,
   "metadata": {},
   "outputs": [],
   "source": [
    "def train(model, train_loader, val_loader, vocab_size, num_epochs=20, lr=0.001, device='cuda'):\n",
    "    model = model.to(device)\n",
    "    criterion = nn.CrossEntropyLoss()\n",
    "    optimizer = optim.Adam(model.parameters(), lr=lr)\n",
    "\n",
    "    best_val_loss = float('inf')\n",
    "    for epoch in range(num_epochs):\n",
    "        # --------- Training ---------\n",
    "        model.train()\n",
    "        total_train_loss = 0\n",
    "        pbar = tqdm(train_loader, desc=f\"Epoch {epoch+1}/{num_epochs} [Train]\")\n",
    "\n",
    "        #for batch in train_loader:\n",
    "        for batch in pbar:\n",
    "            batch = batch['input_ids'].to(device)  # (batch_size, seq_length)\n",
    "\n",
    "            inputs = batch[:, :-1]\n",
    "            targets = batch[:, 1:]\n",
    "\n",
    "            optimizer.zero_grad()\n",
    "            outputs, _ = model(inputs)\n",
    "            outputs = outputs.reshape(-1, vocab_size)\n",
    "            targets = targets.reshape(-1)\n",
    "\n",
    "            loss = criterion(outputs, targets)\n",
    "            loss.backward()\n",
    "            optimizer.step()\n",
    "\n",
    "            total_train_loss += loss.item()\n",
    "            pbar.set_postfix(loss=loss.item())\n",
    "\n",
    "        avg_train_loss = total_train_loss / len(train_loader)\n",
    "\n",
    "        # --------- Validation ---------\n",
    "        model.eval()\n",
    "        total_val_loss = 0\n",
    "        pbar = tqdm(val_loader, desc=f\"Epoch {epoch+1}/{num_epochs} [Val]\")\n",
    "        \n",
    "        with torch.no_grad():\n",
    "            #for batch in val_loader:\n",
    "            for batch in pbar:\n",
    "                batch = batch['input_ids'].to(device)\n",
    "\n",
    "                inputs = batch[:, :-1]\n",
    "                targets = batch[:, 1:]\n",
    "\n",
    "                outputs, _ = model(inputs)\n",
    "                outputs = outputs.reshape(-1, vocab_size)\n",
    "                targets = targets.reshape(-1)\n",
    "\n",
    "                loss = criterion(outputs, targets)\n",
    "                total_val_loss += loss.item()\n",
    "                pbar.set_postfix(loss=loss.item())\n",
    "\n",
    "        avg_val_loss = total_val_loss / len(val_loader)\n",
    "\n",
    "        if avg_val_loss < best_val_loss:\n",
    "            best_val_loss = avg_val_loss\n",
    "            torch.save(model.state_dict(), \"best_LSTM_model.pt\")\n",
    "\n",
    "        print(f\"Epoch {epoch+1}/{num_epochs} | Train Loss: {avg_train_loss:.4f} | Val Loss: {avg_val_loss:.4f}\")"
   ]
  },
  {
   "cell_type": "markdown",
   "metadata": {},
   "source": [
    "#### Note that the \"KeyboardInterrupt\" errors are from me stopping the code, due to the validation loss plateauing"
   ]
  },
  {
   "cell_type": "code",
   "execution_count": 18,
   "metadata": {
    "colab": {
     "base_uri": "https://localhost:8080/"
    },
    "executionInfo": {
     "elapsed": 169117,
     "status": "ok",
     "timestamp": 1745714014906,
     "user": {
      "displayName": "Jingyue Huang",
      "userId": "11611851786193480123"
     },
     "user_tz": -120
    },
    "id": "-OelLTyQT3gY",
    "outputId": "f3ac99f9-eda4-4f20-c319-7746797ab340"
   },
   "outputs": [
    {
     "name": "stderr",
     "output_type": "stream",
     "text": [
      "Epoch 1/20 [Train]: 100%|██████████| 186/186 [01:50<00:00,  1.69it/s, loss=1.62]\n",
      "Epoch 1/20 [Val]: 100%|██████████| 24/24 [00:09<00:00,  2.58it/s, loss=2.13]\n"
     ]
    },
    {
     "name": "stdout",
     "output_type": "stream",
     "text": [
      "Epoch 1/20 | Train Loss: 2.1240 | Val Loss: 1.7004\n"
     ]
    },
    {
     "name": "stderr",
     "output_type": "stream",
     "text": [
      "Epoch 2/20 [Train]: 100%|██████████| 186/186 [01:49<00:00,  1.70it/s, loss=1.01]\n",
      "Epoch 2/20 [Val]: 100%|██████████| 24/24 [00:09<00:00,  2.56it/s, loss=1.91]\n"
     ]
    },
    {
     "name": "stdout",
     "output_type": "stream",
     "text": [
      "Epoch 2/20 | Train Loss: 1.5620 | Val Loss: 1.5095\n"
     ]
    },
    {
     "name": "stderr",
     "output_type": "stream",
     "text": [
      "Epoch 3/20 [Train]: 100%|██████████| 186/186 [01:49<00:00,  1.70it/s, loss=1.05]\n",
      "Epoch 3/20 [Val]: 100%|██████████| 24/24 [00:09<00:00,  2.65it/s, loss=1.79]\n"
     ]
    },
    {
     "name": "stdout",
     "output_type": "stream",
     "text": [
      "Epoch 3/20 | Train Loss: 1.3790 | Val Loss: 1.3890\n"
     ]
    },
    {
     "name": "stderr",
     "output_type": "stream",
     "text": [
      "Epoch 4/20 [Train]: 100%|██████████| 186/186 [01:49<00:00,  1.70it/s, loss=1.39]\n",
      "Epoch 4/20 [Val]: 100%|██████████| 24/24 [00:09<00:00,  2.65it/s, loss=1.79]\n"
     ]
    },
    {
     "name": "stdout",
     "output_type": "stream",
     "text": [
      "Epoch 4/20 | Train Loss: 1.2515 | Val Loss: 1.3267\n"
     ]
    },
    {
     "name": "stderr",
     "output_type": "stream",
     "text": [
      "Epoch 5/20 [Train]: 100%|██████████| 186/186 [01:49<00:00,  1.70it/s, loss=0.818]\n",
      "Epoch 5/20 [Val]: 100%|██████████| 24/24 [00:09<00:00,  2.64it/s, loss=1.81]\n"
     ]
    },
    {
     "name": "stdout",
     "output_type": "stream",
     "text": [
      "Epoch 5/20 | Train Loss: 1.1432 | Val Loss: 1.2916\n"
     ]
    },
    {
     "name": "stderr",
     "output_type": "stream",
     "text": [
      "Epoch 6/20 [Train]: 100%|██████████| 186/186 [01:49<00:00,  1.70it/s, loss=1.42] \n",
      "Epoch 6/20 [Val]: 100%|██████████| 24/24 [00:09<00:00,  2.62it/s, loss=1.76]\n"
     ]
    },
    {
     "name": "stdout",
     "output_type": "stream",
     "text": [
      "Epoch 6/20 | Train Loss: 1.0577 | Val Loss: 1.2702\n"
     ]
    },
    {
     "name": "stderr",
     "output_type": "stream",
     "text": [
      "Epoch 7/20 [Train]: 100%|██████████| 186/186 [01:49<00:00,  1.70it/s, loss=0.968]\n",
      "Epoch 7/20 [Val]: 100%|██████████| 24/24 [00:09<00:00,  2.63it/s, loss=1.79]\n"
     ]
    },
    {
     "name": "stdout",
     "output_type": "stream",
     "text": [
      "Epoch 7/20 | Train Loss: 0.9691 | Val Loss: 1.2685\n"
     ]
    },
    {
     "name": "stderr",
     "output_type": "stream",
     "text": [
      "Epoch 8/20 [Train]: 100%|██████████| 186/186 [01:49<00:00,  1.69it/s, loss=1.12] \n",
      "Epoch 8/20 [Val]: 100%|██████████| 24/24 [00:09<00:00,  2.62it/s, loss=1.79]\n"
     ]
    },
    {
     "name": "stdout",
     "output_type": "stream",
     "text": [
      "Epoch 8/20 | Train Loss: 0.8890 | Val Loss: 1.2853\n"
     ]
    },
    {
     "name": "stderr",
     "output_type": "stream",
     "text": [
      "Epoch 9/20 [Train]: 100%|██████████| 186/186 [01:49<00:00,  1.70it/s, loss=0.783]\n",
      "Epoch 9/20 [Val]: 100%|██████████| 24/24 [00:09<00:00,  2.55it/s, loss=1.9] \n"
     ]
    },
    {
     "name": "stdout",
     "output_type": "stream",
     "text": [
      "Epoch 9/20 | Train Loss: 0.8118 | Val Loss: 1.3109\n"
     ]
    },
    {
     "name": "stderr",
     "output_type": "stream",
     "text": [
      "Epoch 10/20 [Train]: 100%|██████████| 186/186 [01:49<00:00,  1.70it/s, loss=0.622]\n",
      "Epoch 10/20 [Val]: 100%|██████████| 24/24 [00:09<00:00,  2.56it/s, loss=1.97]\n"
     ]
    },
    {
     "name": "stdout",
     "output_type": "stream",
     "text": [
      "Epoch 10/20 | Train Loss: 0.7357 | Val Loss: 1.3563\n"
     ]
    },
    {
     "name": "stderr",
     "output_type": "stream",
     "text": [
      "Epoch 11/20 [Train]: 100%|██████████| 186/186 [01:50<00:00,  1.69it/s, loss=0.524]\n",
      "Epoch 11/20 [Val]: 100%|██████████| 24/24 [00:09<00:00,  2.62it/s, loss=1.92]\n"
     ]
    },
    {
     "name": "stdout",
     "output_type": "stream",
     "text": [
      "Epoch 11/20 | Train Loss: 0.6590 | Val Loss: 1.3941\n"
     ]
    },
    {
     "name": "stderr",
     "output_type": "stream",
     "text": [
      "Epoch 12/20 [Train]: 100%|██████████| 186/186 [01:49<00:00,  1.69it/s, loss=0.281]\n",
      "Epoch 12/20 [Val]: 100%|██████████| 24/24 [00:09<00:00,  2.58it/s, loss=1.99]\n"
     ]
    },
    {
     "name": "stdout",
     "output_type": "stream",
     "text": [
      "Epoch 12/20 | Train Loss: 0.5922 | Val Loss: 1.4348\n"
     ]
    },
    {
     "name": "stderr",
     "output_type": "stream",
     "text": [
      "Epoch 13/20 [Train]: 100%|██████████| 186/186 [01:49<00:00,  1.69it/s, loss=0.547]\n",
      "Epoch 13/20 [Val]: 100%|██████████| 24/24 [00:09<00:00,  2.62it/s, loss=2.1] \n"
     ]
    },
    {
     "name": "stdout",
     "output_type": "stream",
     "text": [
      "Epoch 13/20 | Train Loss: 0.5307 | Val Loss: 1.5131\n"
     ]
    },
    {
     "name": "stderr",
     "output_type": "stream",
     "text": [
      "Epoch 14/20 [Train]: 100%|██████████| 186/186 [01:50<00:00,  1.69it/s, loss=0.22] \n",
      "Epoch 14/20 [Val]: 100%|██████████| 24/24 [00:09<00:00,  2.58it/s, loss=2.29]\n"
     ]
    },
    {
     "name": "stdout",
     "output_type": "stream",
     "text": [
      "Epoch 14/20 | Train Loss: 0.4721 | Val Loss: 1.5812\n"
     ]
    },
    {
     "name": "stderr",
     "output_type": "stream",
     "text": [
      "Epoch 15/20 [Train]: 100%|██████████| 186/186 [01:49<00:00,  1.70it/s, loss=0.396]\n",
      "Epoch 15/20 [Val]: 100%|██████████| 24/24 [00:09<00:00,  2.61it/s, loss=2.4] \n"
     ]
    },
    {
     "name": "stdout",
     "output_type": "stream",
     "text": [
      "Epoch 15/20 | Train Loss: 0.4134 | Val Loss: 1.6686\n"
     ]
    },
    {
     "name": "stderr",
     "output_type": "stream",
     "text": [
      "Epoch 16/20 [Train]: 100%|██████████| 186/186 [01:49<00:00,  1.69it/s, loss=0.392]\n",
      "Epoch 16/20 [Val]: 100%|██████████| 24/24 [00:09<00:00,  2.57it/s, loss=2.45]\n"
     ]
    },
    {
     "name": "stdout",
     "output_type": "stream",
     "text": [
      "Epoch 16/20 | Train Loss: 0.3693 | Val Loss: 1.7343\n"
     ]
    },
    {
     "name": "stderr",
     "output_type": "stream",
     "text": [
      "Epoch 17/20 [Train]: 100%|██████████| 186/186 [01:49<00:00,  1.70it/s, loss=0.17] \n",
      "Epoch 17/20 [Val]: 100%|██████████| 24/24 [00:09<00:00,  2.61it/s, loss=2.58]\n"
     ]
    },
    {
     "name": "stdout",
     "output_type": "stream",
     "text": [
      "Epoch 17/20 | Train Loss: 0.3297 | Val Loss: 1.8310\n"
     ]
    },
    {
     "name": "stderr",
     "output_type": "stream",
     "text": [
      "Epoch 18/20 [Train]: 100%|██████████| 186/186 [01:49<00:00,  1.70it/s, loss=0.487]\n",
      "Epoch 18/20 [Val]: 100%|██████████| 24/24 [00:09<00:00,  2.61it/s, loss=2.63]\n"
     ]
    },
    {
     "name": "stdout",
     "output_type": "stream",
     "text": [
      "Epoch 18/20 | Train Loss: 0.2959 | Val Loss: 1.8987\n"
     ]
    },
    {
     "name": "stderr",
     "output_type": "stream",
     "text": [
      "Epoch 19/20 [Train]:  26%|██▋       | 49/186 [00:30<01:25,  1.61it/s, loss=0.349]\n"
     ]
    },
    {
     "ename": "KeyboardInterrupt",
     "evalue": "",
     "output_type": "error",
     "traceback": [
      "\u001b[0;31m---------------------------------------------------------------------------\u001b[0m",
      "\u001b[0;31mKeyboardInterrupt\u001b[0m                         Traceback (most recent call last)",
      "Cell \u001b[0;32mIn[18], line 74\u001b[0m\n\u001b[1;32m     71\u001b[0m num_layers \u001b[38;5;241m=\u001b[39m \u001b[38;5;241m2\u001b[39m\n\u001b[1;32m     73\u001b[0m model \u001b[38;5;241m=\u001b[39m MusicRNN(vocab_size, embedding_dim, hidden_dim, num_layers)\n\u001b[0;32m---> 74\u001b[0m \u001b[43mtrain\u001b[49m\u001b[43m(\u001b[49m\u001b[43mmodel\u001b[49m\u001b[43m,\u001b[49m\u001b[43m \u001b[49m\u001b[43mtrain_loader\u001b[49m\u001b[43m,\u001b[49m\u001b[43m \u001b[49m\u001b[43mval_loader\u001b[49m\u001b[43m,\u001b[49m\u001b[43m \u001b[49m\u001b[43mvocab_size\u001b[49m\u001b[43m)\u001b[49m\n",
      "Cell \u001b[0;32mIn[18], line 26\u001b[0m, in \u001b[0;36mtrain\u001b[0;34m(model, train_loader, val_loader, vocab_size, num_epochs, lr, device)\u001b[0m\n\u001b[1;32m     23\u001b[0m targets \u001b[38;5;241m=\u001b[39m targets\u001b[38;5;241m.\u001b[39mreshape(\u001b[38;5;241m-\u001b[39m\u001b[38;5;241m1\u001b[39m)\n\u001b[1;32m     25\u001b[0m loss \u001b[38;5;241m=\u001b[39m criterion(outputs, targets)\n\u001b[0;32m---> 26\u001b[0m \u001b[43mloss\u001b[49m\u001b[38;5;241;43m.\u001b[39;49m\u001b[43mbackward\u001b[49m\u001b[43m(\u001b[49m\u001b[43m)\u001b[49m\n\u001b[1;32m     27\u001b[0m optimizer\u001b[38;5;241m.\u001b[39mstep()\n\u001b[1;32m     29\u001b[0m total_train_loss \u001b[38;5;241m+\u001b[39m\u001b[38;5;241m=\u001b[39m loss\u001b[38;5;241m.\u001b[39mitem()\n",
      "File \u001b[0;32m/opt/conda/lib/python3.11/site-packages/torch/_tensor.py:522\u001b[0m, in \u001b[0;36mTensor.backward\u001b[0;34m(self, gradient, retain_graph, create_graph, inputs)\u001b[0m\n\u001b[1;32m    512\u001b[0m \u001b[38;5;28;01mif\u001b[39;00m has_torch_function_unary(\u001b[38;5;28mself\u001b[39m):\n\u001b[1;32m    513\u001b[0m     \u001b[38;5;28;01mreturn\u001b[39;00m handle_torch_function(\n\u001b[1;32m    514\u001b[0m         Tensor\u001b[38;5;241m.\u001b[39mbackward,\n\u001b[1;32m    515\u001b[0m         (\u001b[38;5;28mself\u001b[39m,),\n\u001b[0;32m   (...)\u001b[0m\n\u001b[1;32m    520\u001b[0m         inputs\u001b[38;5;241m=\u001b[39minputs,\n\u001b[1;32m    521\u001b[0m     )\n\u001b[0;32m--> 522\u001b[0m \u001b[43mtorch\u001b[49m\u001b[38;5;241;43m.\u001b[39;49m\u001b[43mautograd\u001b[49m\u001b[38;5;241;43m.\u001b[39;49m\u001b[43mbackward\u001b[49m\u001b[43m(\u001b[49m\n\u001b[1;32m    523\u001b[0m \u001b[43m    \u001b[49m\u001b[38;5;28;43mself\u001b[39;49m\u001b[43m,\u001b[49m\u001b[43m \u001b[49m\u001b[43mgradient\u001b[49m\u001b[43m,\u001b[49m\u001b[43m \u001b[49m\u001b[43mretain_graph\u001b[49m\u001b[43m,\u001b[49m\u001b[43m \u001b[49m\u001b[43mcreate_graph\u001b[49m\u001b[43m,\u001b[49m\u001b[43m \u001b[49m\u001b[43minputs\u001b[49m\u001b[38;5;241;43m=\u001b[39;49m\u001b[43minputs\u001b[49m\n\u001b[1;32m    524\u001b[0m \u001b[43m\u001b[49m\u001b[43m)\u001b[49m\n",
      "File \u001b[0;32m/opt/conda/lib/python3.11/site-packages/torch/autograd/__init__.py:266\u001b[0m, in \u001b[0;36mbackward\u001b[0;34m(tensors, grad_tensors, retain_graph, create_graph, grad_variables, inputs)\u001b[0m\n\u001b[1;32m    261\u001b[0m     retain_graph \u001b[38;5;241m=\u001b[39m create_graph\n\u001b[1;32m    263\u001b[0m \u001b[38;5;66;03m# The reason we repeat the same comment below is that\u001b[39;00m\n\u001b[1;32m    264\u001b[0m \u001b[38;5;66;03m# some Python versions print out the first line of a multi-line function\u001b[39;00m\n\u001b[1;32m    265\u001b[0m \u001b[38;5;66;03m# calls in the traceback and some print out the last line\u001b[39;00m\n\u001b[0;32m--> 266\u001b[0m \u001b[43mVariable\u001b[49m\u001b[38;5;241;43m.\u001b[39;49m\u001b[43m_execution_engine\u001b[49m\u001b[38;5;241;43m.\u001b[39;49m\u001b[43mrun_backward\u001b[49m\u001b[43m(\u001b[49m\u001b[43m  \u001b[49m\u001b[38;5;66;43;03m# Calls into the C++ engine to run the backward pass\u001b[39;49;00m\n\u001b[1;32m    267\u001b[0m \u001b[43m    \u001b[49m\u001b[43mtensors\u001b[49m\u001b[43m,\u001b[49m\n\u001b[1;32m    268\u001b[0m \u001b[43m    \u001b[49m\u001b[43mgrad_tensors_\u001b[49m\u001b[43m,\u001b[49m\n\u001b[1;32m    269\u001b[0m \u001b[43m    \u001b[49m\u001b[43mretain_graph\u001b[49m\u001b[43m,\u001b[49m\n\u001b[1;32m    270\u001b[0m \u001b[43m    \u001b[49m\u001b[43mcreate_graph\u001b[49m\u001b[43m,\u001b[49m\n\u001b[1;32m    271\u001b[0m \u001b[43m    \u001b[49m\u001b[43minputs\u001b[49m\u001b[43m,\u001b[49m\n\u001b[1;32m    272\u001b[0m \u001b[43m    \u001b[49m\u001b[43mallow_unreachable\u001b[49m\u001b[38;5;241;43m=\u001b[39;49m\u001b[38;5;28;43;01mTrue\u001b[39;49;00m\u001b[43m,\u001b[49m\n\u001b[1;32m    273\u001b[0m \u001b[43m    \u001b[49m\u001b[43maccumulate_grad\u001b[49m\u001b[38;5;241;43m=\u001b[39;49m\u001b[38;5;28;43;01mTrue\u001b[39;49;00m\u001b[43m,\u001b[49m\n\u001b[1;32m    274\u001b[0m \u001b[43m\u001b[49m\u001b[43m)\u001b[49m\n",
      "\u001b[0;31mKeyboardInterrupt\u001b[0m: "
     ]
    }
   ],
   "source": [
    "vocab_size = tokenizer.vocab_size\n",
    "embedding_dim = 512\n",
    "hidden_dim = 1024\n",
    "num_layers = 2\n",
    "\n",
    "model = MusicRNN(vocab_size, embedding_dim, hidden_dim, num_layers)\n",
    "train(model, train_loader, val_loader, vocab_size)"
   ]
  },
  {
   "cell_type": "code",
   "execution_count": 24,
   "metadata": {},
   "outputs": [
    {
     "name": "stderr",
     "output_type": "stream",
     "text": [
      "Epoch 1/20 [Train]: 100%|██████████| 186/186 [00:51<00:00,  3.63it/s, loss=1.75]\n",
      "Epoch 1/20 [Val]: 100%|██████████| 24/24 [00:03<00:00,  7.05it/s, loss=2.17]\n"
     ]
    },
    {
     "name": "stdout",
     "output_type": "stream",
     "text": [
      "Epoch 1/20 | Train Loss: 2.1274 | Val Loss: 1.7697\n"
     ]
    },
    {
     "name": "stderr",
     "output_type": "stream",
     "text": [
      "Epoch 2/20 [Train]: 100%|██████████| 186/186 [00:51<00:00,  3.59it/s, loss=2.09]\n",
      "Epoch 2/20 [Val]: 100%|██████████| 24/24 [00:03<00:00,  6.45it/s, loss=1.95]\n"
     ]
    },
    {
     "name": "stdout",
     "output_type": "stream",
     "text": [
      "Epoch 2/20 | Train Loss: 1.6192 | Val Loss: 1.5440\n"
     ]
    },
    {
     "name": "stderr",
     "output_type": "stream",
     "text": [
      "Epoch 3/20 [Train]: 100%|██████████| 186/186 [00:51<00:00,  3.59it/s, loss=1.44]\n",
      "Epoch 3/20 [Val]: 100%|██████████| 24/24 [00:03<00:00,  6.95it/s, loss=1.87]\n"
     ]
    },
    {
     "name": "stdout",
     "output_type": "stream",
     "text": [
      "Epoch 3/20 | Train Loss: 1.4302 | Val Loss: 1.4477\n"
     ]
    },
    {
     "name": "stderr",
     "output_type": "stream",
     "text": [
      "Epoch 4/20 [Train]: 100%|██████████| 186/186 [00:51<00:00,  3.59it/s, loss=1.1]  \n",
      "Epoch 4/20 [Val]: 100%|██████████| 24/24 [00:03<00:00,  7.02it/s, loss=1.8] \n"
     ]
    },
    {
     "name": "stdout",
     "output_type": "stream",
     "text": [
      "Epoch 4/20 | Train Loss: 1.3043 | Val Loss: 1.3607\n"
     ]
    },
    {
     "name": "stderr",
     "output_type": "stream",
     "text": [
      "Epoch 5/20 [Train]: 100%|██████████| 186/186 [00:51<00:00,  3.59it/s, loss=1.18] \n",
      "Epoch 5/20 [Val]: 100%|██████████| 24/24 [00:03<00:00,  6.67it/s, loss=1.8] \n"
     ]
    },
    {
     "name": "stdout",
     "output_type": "stream",
     "text": [
      "Epoch 5/20 | Train Loss: 1.1989 | Val Loss: 1.3232\n"
     ]
    },
    {
     "name": "stderr",
     "output_type": "stream",
     "text": [
      "Epoch 6/20 [Train]: 100%|██████████| 186/186 [00:51<00:00,  3.61it/s, loss=0.522]\n",
      "Epoch 6/20 [Val]: 100%|██████████| 24/24 [00:03<00:00,  6.32it/s, loss=1.81]\n"
     ]
    },
    {
     "name": "stdout",
     "output_type": "stream",
     "text": [
      "Epoch 6/20 | Train Loss: 1.1101 | Val Loss: 1.2937\n"
     ]
    },
    {
     "name": "stderr",
     "output_type": "stream",
     "text": [
      "Epoch 7/20 [Train]: 100%|██████████| 186/186 [00:51<00:00,  3.60it/s, loss=1.09] \n",
      "Epoch 7/20 [Val]: 100%|██████████| 24/24 [00:03<00:00,  6.95it/s, loss=1.83]\n"
     ]
    },
    {
     "name": "stdout",
     "output_type": "stream",
     "text": [
      "Epoch 7/20 | Train Loss: 1.0352 | Val Loss: 1.2835\n"
     ]
    },
    {
     "name": "stderr",
     "output_type": "stream",
     "text": [
      "Epoch 8/20 [Train]: 100%|██████████| 186/186 [00:51<00:00,  3.59it/s, loss=1.05] \n",
      "Epoch 8/20 [Val]: 100%|██████████| 24/24 [00:03<00:00,  6.78it/s, loss=1.8] \n"
     ]
    },
    {
     "name": "stdout",
     "output_type": "stream",
     "text": [
      "Epoch 8/20 | Train Loss: 0.9606 | Val Loss: 1.2891\n"
     ]
    },
    {
     "name": "stderr",
     "output_type": "stream",
     "text": [
      "Epoch 9/20 [Train]: 100%|██████████| 186/186 [00:51<00:00,  3.58it/s, loss=0.774]\n",
      "Epoch 9/20 [Val]: 100%|██████████| 24/24 [00:03<00:00,  7.26it/s, loss=1.86]\n"
     ]
    },
    {
     "name": "stdout",
     "output_type": "stream",
     "text": [
      "Epoch 9/20 | Train Loss: 0.8884 | Val Loss: 1.3082\n"
     ]
    },
    {
     "name": "stderr",
     "output_type": "stream",
     "text": [
      "Epoch 10/20 [Train]:   4%|▍         | 7/186 [00:02<00:56,  3.18it/s, loss=0.68] Exception ignored in: <function tqdm.__del__ at 0x7fe2bfd320c0>\n",
      "Traceback (most recent call last):\n",
      "  File \"/opt/conda/lib/python3.11/site-packages/tqdm/std.py\", line 1147, in __del__\n",
      "    def __del__(self):\n",
      "\n",
      "KeyboardInterrupt: \n",
      "Epoch 10/20 [Train]:   4%|▍         | 7/186 [00:03<01:28,  2.03it/s, loss=0.68]\n"
     ]
    },
    {
     "ename": "KeyboardInterrupt",
     "evalue": "",
     "output_type": "error",
     "traceback": [
      "\u001b[0;31m---------------------------------------------------------------------------\u001b[0m",
      "\u001b[0;31mKeyboardInterrupt\u001b[0m                         Traceback (most recent call last)",
      "Cell \u001b[0;32mIn[24], line 7\u001b[0m\n\u001b[1;32m      4\u001b[0m num_layers \u001b[38;5;241m=\u001b[39m \u001b[38;5;241m2\u001b[39m\n\u001b[1;32m      6\u001b[0m model \u001b[38;5;241m=\u001b[39m MusicRNN(vocab_size, embedding_dim, hidden_dim, num_layers, dropout\u001b[38;5;241m=\u001b[39m\u001b[38;5;241m0.1\u001b[39m)\n\u001b[0;32m----> 7\u001b[0m \u001b[43mtrain\u001b[49m\u001b[43m(\u001b[49m\u001b[43mmodel\u001b[49m\u001b[43m,\u001b[49m\u001b[43m \u001b[49m\u001b[43mtrain_loader\u001b[49m\u001b[43m,\u001b[49m\u001b[43m \u001b[49m\u001b[43mval_loader\u001b[49m\u001b[43m,\u001b[49m\u001b[43m \u001b[49m\u001b[43mvocab_size\u001b[49m\u001b[43m)\u001b[49m\n",
      "Cell \u001b[0;32mIn[18], line 29\u001b[0m, in \u001b[0;36mtrain\u001b[0;34m(model, train_loader, val_loader, vocab_size, num_epochs, lr, device)\u001b[0m\n\u001b[1;32m     26\u001b[0m     loss\u001b[38;5;241m.\u001b[39mbackward()\n\u001b[1;32m     27\u001b[0m     optimizer\u001b[38;5;241m.\u001b[39mstep()\n\u001b[0;32m---> 29\u001b[0m     total_train_loss \u001b[38;5;241m+\u001b[39m\u001b[38;5;241m=\u001b[39m \u001b[43mloss\u001b[49m\u001b[38;5;241;43m.\u001b[39;49m\u001b[43mitem\u001b[49m\u001b[43m(\u001b[49m\u001b[43m)\u001b[49m\n\u001b[1;32m     30\u001b[0m     pbar\u001b[38;5;241m.\u001b[39mset_postfix(loss\u001b[38;5;241m=\u001b[39mloss\u001b[38;5;241m.\u001b[39mitem())\n\u001b[1;32m     32\u001b[0m avg_train_loss \u001b[38;5;241m=\u001b[39m total_train_loss \u001b[38;5;241m/\u001b[39m \u001b[38;5;28mlen\u001b[39m(train_loader)\n",
      "\u001b[0;31mKeyboardInterrupt\u001b[0m: "
     ]
    }
   ],
   "source": [
    "vocab_size = tokenizer.vocab_size\n",
    "embedding_dim = vocab_size\n",
    "hidden_dim = 768\n",
    "num_layers = 2\n",
    "\n",
    "model = MusicRNN(vocab_size, embedding_dim, hidden_dim, num_layers, dropout=0.1)\n",
    "train(model, train_loader, val_loader, vocab_size)"
   ]
  },
  {
   "cell_type": "markdown",
   "metadata": {},
   "source": [
    "## LSTM (no dropout or layer norm)"
   ]
  },
  {
   "cell_type": "code",
   "execution_count": 47,
   "metadata": {},
   "outputs": [],
   "source": [
    "class MusicRNN(nn.Module):\n",
    "    def __init__(self, vocab_size, embedding_dim, hidden_dim, num_layers):\n",
    "        super(MusicRNN, self).__init__()\n",
    "        self.embedding = nn.Embedding(vocab_size, embedding_dim)\n",
    "        self.rnn = nn.LSTM(\n",
    "            input_size=embedding_dim,\n",
    "            hidden_size=hidden_dim,\n",
    "            num_layers=num_layers,\n",
    "            batch_first=True\n",
    "        )\n",
    "        \n",
    "        self.fc = nn.Linear(hidden_dim, vocab_size)\n",
    "\n",
    "    def forward(self, x, hidden=None):\n",
    "        # x: (batch_size, seq_length)\n",
    "        x = self.embedding(x)  # (batch_size, seq_length, embedding_dim)\n",
    "        out, hidden = self.rnn(x, hidden)  # out: (batch_size, seq_length, hidden_dim)\n",
    "        out = self.fc(out)  # (batch_size, seq_length, vocab_size)\n",
    "        return out, hidden"
   ]
  },
  {
   "cell_type": "code",
   "execution_count": 20,
   "metadata": {},
   "outputs": [
    {
     "name": "stderr",
     "output_type": "stream",
     "text": [
      "Epoch 1/20 [Train]: 100%|██████████| 186/186 [00:29<00:00,  6.31it/s, loss=1.7] \n",
      "Epoch 1/20 [Val]: 100%|██████████| 24/24 [00:02<00:00,  8.42it/s, loss=2.44]\n"
     ]
    },
    {
     "name": "stdout",
     "output_type": "stream",
     "text": [
      "Epoch 1/20 | Train Loss: 2.8894 | Val Loss: 2.1130\n"
     ]
    },
    {
     "name": "stderr",
     "output_type": "stream",
     "text": [
      "Epoch 2/20 [Train]: 100%|██████████| 186/186 [00:29<00:00,  6.34it/s, loss=1.8] \n",
      "Epoch 2/20 [Val]: 100%|██████████| 24/24 [00:02<00:00,  8.68it/s, loss=2.18]\n"
     ]
    },
    {
     "name": "stdout",
     "output_type": "stream",
     "text": [
      "Epoch 2/20 | Train Loss: 1.9225 | Val Loss: 1.8111\n"
     ]
    },
    {
     "name": "stderr",
     "output_type": "stream",
     "text": [
      "Epoch 3/20 [Train]: 100%|██████████| 186/186 [00:30<00:00,  6.18it/s, loss=1.85]\n",
      "Epoch 3/20 [Val]: 100%|██████████| 24/24 [00:02<00:00,  9.03it/s, loss=2.03]\n"
     ]
    },
    {
     "name": "stdout",
     "output_type": "stream",
     "text": [
      "Epoch 3/20 | Train Loss: 1.6980 | Val Loss: 1.6475\n"
     ]
    },
    {
     "name": "stderr",
     "output_type": "stream",
     "text": [
      "Epoch 4/20 [Train]: 100%|██████████| 186/186 [00:29<00:00,  6.30it/s, loss=1.7] \n",
      "Epoch 4/20 [Val]: 100%|██████████| 24/24 [00:02<00:00,  8.53it/s, loss=1.91]\n"
     ]
    },
    {
     "name": "stdout",
     "output_type": "stream",
     "text": [
      "Epoch 4/20 | Train Loss: 1.5337 | Val Loss: 1.5236\n"
     ]
    },
    {
     "name": "stderr",
     "output_type": "stream",
     "text": [
      "Epoch 5/20 [Train]: 100%|██████████| 186/186 [00:29<00:00,  6.27it/s, loss=1.37]\n",
      "Epoch 5/20 [Val]: 100%|██████████| 24/24 [00:02<00:00,  8.12it/s, loss=1.9] \n"
     ]
    },
    {
     "name": "stdout",
     "output_type": "stream",
     "text": [
      "Epoch 5/20 | Train Loss: 1.4182 | Val Loss: 1.4526\n"
     ]
    },
    {
     "name": "stderr",
     "output_type": "stream",
     "text": [
      "Epoch 6/20 [Train]: 100%|██████████| 186/186 [00:29<00:00,  6.33it/s, loss=1.41]\n",
      "Epoch 6/20 [Val]: 100%|██████████| 24/24 [00:02<00:00,  9.73it/s, loss=1.84]\n"
     ]
    },
    {
     "name": "stdout",
     "output_type": "stream",
     "text": [
      "Epoch 6/20 | Train Loss: 1.3373 | Val Loss: 1.4030\n"
     ]
    },
    {
     "name": "stderr",
     "output_type": "stream",
     "text": [
      "Epoch 7/20 [Train]: 100%|██████████| 186/186 [00:29<00:00,  6.30it/s, loss=1.42]\n",
      "Epoch 7/20 [Val]: 100%|██████████| 24/24 [00:03<00:00,  7.79it/s, loss=1.79]\n"
     ]
    },
    {
     "name": "stdout",
     "output_type": "stream",
     "text": [
      "Epoch 7/20 | Train Loss: 1.2738 | Val Loss: 1.3595\n"
     ]
    },
    {
     "name": "stderr",
     "output_type": "stream",
     "text": [
      "Epoch 8/20 [Train]: 100%|██████████| 186/186 [00:29<00:00,  6.34it/s, loss=1.69]\n",
      "Epoch 8/20 [Val]: 100%|██████████| 24/24 [00:02<00:00,  9.18it/s, loss=1.76]\n"
     ]
    },
    {
     "name": "stdout",
     "output_type": "stream",
     "text": [
      "Epoch 8/20 | Train Loss: 1.2185 | Val Loss: 1.3366\n"
     ]
    },
    {
     "name": "stderr",
     "output_type": "stream",
     "text": [
      "Epoch 9/20 [Train]: 100%|██████████| 186/186 [00:29<00:00,  6.29it/s, loss=1.14] \n",
      "Epoch 9/20 [Val]: 100%|██████████| 24/24 [00:02<00:00,  9.12it/s, loss=1.73]\n"
     ]
    },
    {
     "name": "stdout",
     "output_type": "stream",
     "text": [
      "Epoch 9/20 | Train Loss: 1.1714 | Val Loss: 1.3178\n"
     ]
    },
    {
     "name": "stderr",
     "output_type": "stream",
     "text": [
      "Epoch 10/20 [Train]: 100%|██████████| 186/186 [00:29<00:00,  6.27it/s, loss=0.78] \n",
      "Epoch 10/20 [Val]: 100%|██████████| 24/24 [00:02<00:00,  8.71it/s, loss=1.71]\n"
     ]
    },
    {
     "name": "stdout",
     "output_type": "stream",
     "text": [
      "Epoch 10/20 | Train Loss: 1.1246 | Val Loss: 1.3045\n"
     ]
    },
    {
     "name": "stderr",
     "output_type": "stream",
     "text": [
      "Epoch 11/20 [Train]: 100%|██████████| 186/186 [00:29<00:00,  6.29it/s, loss=1.3]  \n",
      "Epoch 11/20 [Val]: 100%|██████████| 24/24 [00:02<00:00,  9.49it/s, loss=1.75]\n"
     ]
    },
    {
     "name": "stdout",
     "output_type": "stream",
     "text": [
      "Epoch 11/20 | Train Loss: 1.0898 | Val Loss: 1.2937\n"
     ]
    },
    {
     "name": "stderr",
     "output_type": "stream",
     "text": [
      "Epoch 12/20 [Train]: 100%|██████████| 186/186 [00:29<00:00,  6.29it/s, loss=1.44] \n",
      "Epoch 12/20 [Val]: 100%|██████████| 24/24 [00:02<00:00,  9.49it/s, loss=1.75]\n"
     ]
    },
    {
     "name": "stdout",
     "output_type": "stream",
     "text": [
      "Epoch 12/20 | Train Loss: 1.0512 | Val Loss: 1.2859\n"
     ]
    },
    {
     "name": "stderr",
     "output_type": "stream",
     "text": [
      "Epoch 13/20 [Train]: 100%|██████████| 186/186 [00:29<00:00,  6.34it/s, loss=1.11] \n",
      "Epoch 13/20 [Val]: 100%|██████████| 24/24 [00:02<00:00,  8.55it/s, loss=1.8] \n"
     ]
    },
    {
     "name": "stdout",
     "output_type": "stream",
     "text": [
      "Epoch 13/20 | Train Loss: 1.0123 | Val Loss: 1.2869\n"
     ]
    },
    {
     "name": "stderr",
     "output_type": "stream",
     "text": [
      "Epoch 14/20 [Train]: 100%|██████████| 186/186 [00:29<00:00,  6.26it/s, loss=0.925]\n",
      "Epoch 14/20 [Val]: 100%|██████████| 24/24 [00:02<00:00,  8.41it/s, loss=1.77]\n"
     ]
    },
    {
     "name": "stdout",
     "output_type": "stream",
     "text": [
      "Epoch 14/20 | Train Loss: 0.9768 | Val Loss: 1.2904\n"
     ]
    },
    {
     "name": "stderr",
     "output_type": "stream",
     "text": [
      "Epoch 15/20 [Train]: 100%|██████████| 186/186 [00:29<00:00,  6.22it/s, loss=1.16] \n",
      "Epoch 15/20 [Val]: 100%|██████████| 24/24 [00:02<00:00,  8.77it/s, loss=1.84]\n"
     ]
    },
    {
     "name": "stdout",
     "output_type": "stream",
     "text": [
      "Epoch 15/20 | Train Loss: 0.9460 | Val Loss: 1.2962\n"
     ]
    },
    {
     "name": "stderr",
     "output_type": "stream",
     "text": [
      "Epoch 16/20 [Train]: 100%|██████████| 186/186 [00:29<00:00,  6.39it/s, loss=0.565]\n",
      "Epoch 16/20 [Val]: 100%|██████████| 24/24 [00:02<00:00,  8.25it/s, loss=1.85]\n"
     ]
    },
    {
     "name": "stdout",
     "output_type": "stream",
     "text": [
      "Epoch 16/20 | Train Loss: 0.9095 | Val Loss: 1.3018\n"
     ]
    },
    {
     "name": "stderr",
     "output_type": "stream",
     "text": [
      "Epoch 17/20 [Train]:  12%|█▏        | 22/186 [00:04<00:25,  6.54it/s, loss=0.892]Exception ignored in: <bound method IPythonKernel._clean_thread_parent_frames of <ipykernel.ipkernel.IPythonKernel object at 0x7fe5b2ed7b50>>\n",
      "Traceback (most recent call last):\n",
      "  File \"/opt/conda/lib/python3.11/site-packages/ipykernel/ipkernel.py\", line 770, in _clean_thread_parent_frames\n",
      "    def _clean_thread_parent_frames(\n",
      "\n",
      "KeyboardInterrupt: \n",
      "Exception ignored in: <bound method IPythonKernel._clean_thread_parent_frames of <ipykernel.ipkernel.IPythonKernel object at 0x7fe5b2ed7b50>>\n",
      "Traceback (most recent call last):\n",
      "  File \"/opt/conda/lib/python3.11/site-packages/ipykernel/ipkernel.py\", line 770, in _clean_thread_parent_frames\n",
      "    def _clean_thread_parent_frames(\n",
      "\n",
      "KeyboardInterrupt: \n",
      "Epoch 17/20 [Train]:  12%|█▏        | 22/186 [00:04<00:35,  4.63it/s, loss=0.892]\n"
     ]
    },
    {
     "ename": "KeyboardInterrupt",
     "evalue": "",
     "output_type": "error",
     "traceback": [
      "\u001b[0;31m---------------------------------------------------------------------------\u001b[0m",
      "\u001b[0;31mKeyboardInterrupt\u001b[0m                         Traceback (most recent call last)",
      "Cell \u001b[0;32mIn[20], line 41\u001b[0m\n\u001b[1;32m     38\u001b[0m num_layers \u001b[38;5;241m=\u001b[39m \u001b[38;5;241m2\u001b[39m\n\u001b[1;32m     40\u001b[0m model \u001b[38;5;241m=\u001b[39m MusicRNN(vocab_size, embedding_dim, hidden_dim, num_layers)\n\u001b[0;32m---> 41\u001b[0m \u001b[43mtrain\u001b[49m\u001b[43m(\u001b[49m\u001b[43mmodel\u001b[49m\u001b[43m,\u001b[49m\u001b[43m \u001b[49m\u001b[43mtrain_loader\u001b[49m\u001b[43m,\u001b[49m\u001b[43m \u001b[49m\u001b[43mval_loader\u001b[49m\u001b[43m,\u001b[49m\u001b[43m \u001b[49m\u001b[43mvocab_size\u001b[49m\u001b[43m)\u001b[49m\n",
      "Cell \u001b[0;32mIn[18], line 26\u001b[0m, in \u001b[0;36mtrain\u001b[0;34m(model, train_loader, val_loader, vocab_size, num_epochs, lr, device)\u001b[0m\n\u001b[1;32m     23\u001b[0m targets \u001b[38;5;241m=\u001b[39m targets\u001b[38;5;241m.\u001b[39mreshape(\u001b[38;5;241m-\u001b[39m\u001b[38;5;241m1\u001b[39m)\n\u001b[1;32m     25\u001b[0m loss \u001b[38;5;241m=\u001b[39m criterion(outputs, targets)\n\u001b[0;32m---> 26\u001b[0m \u001b[43mloss\u001b[49m\u001b[38;5;241;43m.\u001b[39;49m\u001b[43mbackward\u001b[49m\u001b[43m(\u001b[49m\u001b[43m)\u001b[49m\n\u001b[1;32m     27\u001b[0m optimizer\u001b[38;5;241m.\u001b[39mstep()\n\u001b[1;32m     29\u001b[0m total_train_loss \u001b[38;5;241m+\u001b[39m\u001b[38;5;241m=\u001b[39m loss\u001b[38;5;241m.\u001b[39mitem()\n",
      "File \u001b[0;32m/opt/conda/lib/python3.11/site-packages/torch/_tensor.py:522\u001b[0m, in \u001b[0;36mTensor.backward\u001b[0;34m(self, gradient, retain_graph, create_graph, inputs)\u001b[0m\n\u001b[1;32m    512\u001b[0m \u001b[38;5;28;01mif\u001b[39;00m has_torch_function_unary(\u001b[38;5;28mself\u001b[39m):\n\u001b[1;32m    513\u001b[0m     \u001b[38;5;28;01mreturn\u001b[39;00m handle_torch_function(\n\u001b[1;32m    514\u001b[0m         Tensor\u001b[38;5;241m.\u001b[39mbackward,\n\u001b[1;32m    515\u001b[0m         (\u001b[38;5;28mself\u001b[39m,),\n\u001b[0;32m   (...)\u001b[0m\n\u001b[1;32m    520\u001b[0m         inputs\u001b[38;5;241m=\u001b[39minputs,\n\u001b[1;32m    521\u001b[0m     )\n\u001b[0;32m--> 522\u001b[0m \u001b[43mtorch\u001b[49m\u001b[38;5;241;43m.\u001b[39;49m\u001b[43mautograd\u001b[49m\u001b[38;5;241;43m.\u001b[39;49m\u001b[43mbackward\u001b[49m\u001b[43m(\u001b[49m\n\u001b[1;32m    523\u001b[0m \u001b[43m    \u001b[49m\u001b[38;5;28;43mself\u001b[39;49m\u001b[43m,\u001b[49m\u001b[43m \u001b[49m\u001b[43mgradient\u001b[49m\u001b[43m,\u001b[49m\u001b[43m \u001b[49m\u001b[43mretain_graph\u001b[49m\u001b[43m,\u001b[49m\u001b[43m \u001b[49m\u001b[43mcreate_graph\u001b[49m\u001b[43m,\u001b[49m\u001b[43m \u001b[49m\u001b[43minputs\u001b[49m\u001b[38;5;241;43m=\u001b[39;49m\u001b[43minputs\u001b[49m\n\u001b[1;32m    524\u001b[0m \u001b[43m\u001b[49m\u001b[43m)\u001b[49m\n",
      "File \u001b[0;32m/opt/conda/lib/python3.11/site-packages/torch/autograd/__init__.py:266\u001b[0m, in \u001b[0;36mbackward\u001b[0;34m(tensors, grad_tensors, retain_graph, create_graph, grad_variables, inputs)\u001b[0m\n\u001b[1;32m    261\u001b[0m     retain_graph \u001b[38;5;241m=\u001b[39m create_graph\n\u001b[1;32m    263\u001b[0m \u001b[38;5;66;03m# The reason we repeat the same comment below is that\u001b[39;00m\n\u001b[1;32m    264\u001b[0m \u001b[38;5;66;03m# some Python versions print out the first line of a multi-line function\u001b[39;00m\n\u001b[1;32m    265\u001b[0m \u001b[38;5;66;03m# calls in the traceback and some print out the last line\u001b[39;00m\n\u001b[0;32m--> 266\u001b[0m \u001b[43mVariable\u001b[49m\u001b[38;5;241;43m.\u001b[39;49m\u001b[43m_execution_engine\u001b[49m\u001b[38;5;241;43m.\u001b[39;49m\u001b[43mrun_backward\u001b[49m\u001b[43m(\u001b[49m\u001b[43m  \u001b[49m\u001b[38;5;66;43;03m# Calls into the C++ engine to run the backward pass\u001b[39;49;00m\n\u001b[1;32m    267\u001b[0m \u001b[43m    \u001b[49m\u001b[43mtensors\u001b[49m\u001b[43m,\u001b[49m\n\u001b[1;32m    268\u001b[0m \u001b[43m    \u001b[49m\u001b[43mgrad_tensors_\u001b[49m\u001b[43m,\u001b[49m\n\u001b[1;32m    269\u001b[0m \u001b[43m    \u001b[49m\u001b[43mretain_graph\u001b[49m\u001b[43m,\u001b[49m\n\u001b[1;32m    270\u001b[0m \u001b[43m    \u001b[49m\u001b[43mcreate_graph\u001b[49m\u001b[43m,\u001b[49m\n\u001b[1;32m    271\u001b[0m \u001b[43m    \u001b[49m\u001b[43minputs\u001b[49m\u001b[43m,\u001b[49m\n\u001b[1;32m    272\u001b[0m \u001b[43m    \u001b[49m\u001b[43mallow_unreachable\u001b[49m\u001b[38;5;241;43m=\u001b[39;49m\u001b[38;5;28;43;01mTrue\u001b[39;49;00m\u001b[43m,\u001b[49m\n\u001b[1;32m    273\u001b[0m \u001b[43m    \u001b[49m\u001b[43maccumulate_grad\u001b[49m\u001b[38;5;241;43m=\u001b[39;49m\u001b[38;5;28;43;01mTrue\u001b[39;49;00m\u001b[43m,\u001b[49m\n\u001b[1;32m    274\u001b[0m \u001b[43m\u001b[49m\u001b[43m)\u001b[49m\n",
      "\u001b[0;31mKeyboardInterrupt\u001b[0m: "
     ]
    }
   ],
   "source": [
    "vocab_size = tokenizer.vocab_size\n",
    "embedding_dim = 256\n",
    "hidden_dim = 512\n",
    "num_layers = 2\n",
    "\n",
    "model = MusicRNN(vocab_size, embedding_dim, hidden_dim, num_layers)\n",
    "train(model, train_loader, val_loader, vocab_size)"
   ]
  },
  {
   "cell_type": "code",
   "execution_count": 25,
   "metadata": {},
   "outputs": [
    {
     "name": "stderr",
     "output_type": "stream",
     "text": [
      "Epoch 1/20 [Train]: 100%|██████████| 186/186 [00:50<00:00,  3.67it/s, loss=1.38]\n",
      "Epoch 1/20 [Val]: 100%|██████████| 24/24 [00:03<00:00,  6.07it/s, loss=2.34]\n"
     ]
    },
    {
     "name": "stdout",
     "output_type": "stream",
     "text": [
      "Epoch 1/20 | Train Loss: 2.8404 | Val Loss: 2.0374\n"
     ]
    },
    {
     "name": "stderr",
     "output_type": "stream",
     "text": [
      "Epoch 2/20 [Train]: 100%|██████████| 186/186 [00:51<00:00,  3.59it/s, loss=2.06]\n",
      "Epoch 2/20 [Val]: 100%|██████████| 24/24 [00:03<00:00,  6.26it/s, loss=2.06]\n"
     ]
    },
    {
     "name": "stdout",
     "output_type": "stream",
     "text": [
      "Epoch 2/20 | Train Loss: 1.8542 | Val Loss: 1.7474\n"
     ]
    },
    {
     "name": "stderr",
     "output_type": "stream",
     "text": [
      "Epoch 3/20 [Train]: 100%|██████████| 186/186 [00:50<00:00,  3.66it/s, loss=1.46]\n",
      "Epoch 3/20 [Val]: 100%|██████████| 24/24 [00:03<00:00,  6.45it/s, loss=1.96]\n"
     ]
    },
    {
     "name": "stdout",
     "output_type": "stream",
     "text": [
      "Epoch 3/20 | Train Loss: 1.6149 | Val Loss: 1.5613\n"
     ]
    },
    {
     "name": "stderr",
     "output_type": "stream",
     "text": [
      "Epoch 4/20 [Train]: 100%|██████████| 186/186 [00:50<00:00,  3.65it/s, loss=1.22]\n",
      "Epoch 4/20 [Val]: 100%|██████████| 24/24 [00:03<00:00,  6.58it/s, loss=1.82]\n"
     ]
    },
    {
     "name": "stdout",
     "output_type": "stream",
     "text": [
      "Epoch 4/20 | Train Loss: 1.4414 | Val Loss: 1.4486\n"
     ]
    },
    {
     "name": "stderr",
     "output_type": "stream",
     "text": [
      "Epoch 5/20 [Train]: 100%|██████████| 186/186 [00:51<00:00,  3.63it/s, loss=1.32]\n",
      "Epoch 5/20 [Val]: 100%|██████████| 24/24 [00:03<00:00,  6.27it/s, loss=1.77]\n"
     ]
    },
    {
     "name": "stdout",
     "output_type": "stream",
     "text": [
      "Epoch 5/20 | Train Loss: 1.3312 | Val Loss: 1.3863\n"
     ]
    },
    {
     "name": "stderr",
     "output_type": "stream",
     "text": [
      "Epoch 6/20 [Train]: 100%|██████████| 186/186 [00:50<00:00,  3.65it/s, loss=1.22]\n",
      "Epoch 6/20 [Val]: 100%|██████████| 24/24 [00:03<00:00,  6.10it/s, loss=1.76]\n"
     ]
    },
    {
     "name": "stdout",
     "output_type": "stream",
     "text": [
      "Epoch 6/20 | Train Loss: 1.2505 | Val Loss: 1.3352\n"
     ]
    },
    {
     "name": "stderr",
     "output_type": "stream",
     "text": [
      "Epoch 7/20 [Train]: 100%|██████████| 186/186 [00:51<00:00,  3.60it/s, loss=1.11] \n",
      "Epoch 7/20 [Val]: 100%|██████████| 24/24 [00:03<00:00,  6.20it/s, loss=1.76]\n"
     ]
    },
    {
     "name": "stdout",
     "output_type": "stream",
     "text": [
      "Epoch 7/20 | Train Loss: 1.1788 | Val Loss: 1.3086\n"
     ]
    },
    {
     "name": "stderr",
     "output_type": "stream",
     "text": [
      "Epoch 8/20 [Train]: 100%|██████████| 186/186 [00:51<00:00,  3.64it/s, loss=1.35] \n",
      "Epoch 8/20 [Val]: 100%|██████████| 24/24 [00:04<00:00,  5.69it/s, loss=1.68]\n"
     ]
    },
    {
     "name": "stdout",
     "output_type": "stream",
     "text": [
      "Epoch 8/20 | Train Loss: 1.1218 | Val Loss: 1.2849\n"
     ]
    },
    {
     "name": "stderr",
     "output_type": "stream",
     "text": [
      "Epoch 9/20 [Train]: 100%|██████████| 186/186 [00:51<00:00,  3.63it/s, loss=1]    \n",
      "Epoch 9/20 [Val]: 100%|██████████| 24/24 [00:03<00:00,  6.49it/s, loss=1.69]\n"
     ]
    },
    {
     "name": "stdout",
     "output_type": "stream",
     "text": [
      "Epoch 9/20 | Train Loss: 1.0612 | Val Loss: 1.2696\n"
     ]
    },
    {
     "name": "stderr",
     "output_type": "stream",
     "text": [
      "Epoch 10/20 [Train]: 100%|██████████| 186/186 [00:51<00:00,  3.63it/s, loss=0.971]\n",
      "Epoch 10/20 [Val]: 100%|██████████| 24/24 [00:04<00:00,  5.94it/s, loss=1.73]\n"
     ]
    },
    {
     "name": "stdout",
     "output_type": "stream",
     "text": [
      "Epoch 10/20 | Train Loss: 1.0053 | Val Loss: 1.2656\n"
     ]
    },
    {
     "name": "stderr",
     "output_type": "stream",
     "text": [
      "Epoch 11/20 [Train]: 100%|██████████| 186/186 [00:51<00:00,  3.64it/s, loss=0.99] \n",
      "Epoch 11/20 [Val]: 100%|██████████| 24/24 [00:04<00:00,  5.71it/s, loss=1.69]\n"
     ]
    },
    {
     "name": "stdout",
     "output_type": "stream",
     "text": [
      "Epoch 11/20 | Train Loss: 0.9518 | Val Loss: 1.2638\n"
     ]
    },
    {
     "name": "stderr",
     "output_type": "stream",
     "text": [
      "Epoch 12/20 [Train]: 100%|██████████| 186/186 [00:51<00:00,  3.64it/s, loss=0.894]\n",
      "Epoch 12/20 [Val]: 100%|██████████| 24/24 [00:03<00:00,  6.05it/s, loss=1.75]\n"
     ]
    },
    {
     "name": "stdout",
     "output_type": "stream",
     "text": [
      "Epoch 12/20 | Train Loss: 0.8999 | Val Loss: 1.2725\n"
     ]
    },
    {
     "name": "stderr",
     "output_type": "stream",
     "text": [
      "Epoch 13/20 [Train]: 100%|██████████| 186/186 [00:51<00:00,  3.63it/s, loss=0.908]\n",
      "Epoch 13/20 [Val]: 100%|██████████| 24/24 [00:03<00:00,  6.40it/s, loss=1.75]\n"
     ]
    },
    {
     "name": "stdout",
     "output_type": "stream",
     "text": [
      "Epoch 13/20 | Train Loss: 0.8492 | Val Loss: 1.2834\n"
     ]
    },
    {
     "name": "stderr",
     "output_type": "stream",
     "text": [
      "Epoch 14/20 [Train]: 100%|██████████| 186/186 [00:50<00:00,  3.65it/s, loss=1.19] \n",
      "Epoch 14/20 [Val]: 100%|██████████| 24/24 [00:03<00:00,  6.46it/s, loss=1.73]\n"
     ]
    },
    {
     "name": "stdout",
     "output_type": "stream",
     "text": [
      "Epoch 14/20 | Train Loss: 0.7994 | Val Loss: 1.2945\n"
     ]
    },
    {
     "name": "stderr",
     "output_type": "stream",
     "text": [
      "Epoch 15/20 [Train]:   5%|▌         | 10/186 [00:03<00:49,  3.57it/s, loss=0.753]Exception ignored in: <function tqdm.__del__ at 0x7fe2bfd320c0>\n",
      "Traceback (most recent call last):\n",
      "  File \"/opt/conda/lib/python3.11/site-packages/tqdm/std.py\", line 1147, in __del__\n",
      "    def __del__(self):\n",
      "\n",
      "KeyboardInterrupt: \n",
      "Epoch 15/20 [Train]:   5%|▌         | 10/186 [00:03<01:09,  2.54it/s, loss=0.753]\n"
     ]
    },
    {
     "ename": "KeyboardInterrupt",
     "evalue": "",
     "output_type": "error",
     "traceback": [
      "\u001b[0;31m---------------------------------------------------------------------------\u001b[0m",
      "\u001b[0;31mKeyboardInterrupt\u001b[0m                         Traceback (most recent call last)",
      "Cell \u001b[0;32mIn[25], line 37\u001b[0m\n\u001b[1;32m     34\u001b[0m num_layers \u001b[38;5;241m=\u001b[39m \u001b[38;5;241m2\u001b[39m\n\u001b[1;32m     36\u001b[0m model \u001b[38;5;241m=\u001b[39m MusicRNN(vocab_size, embedding_dim, hidden_dim, num_layers)\n\u001b[0;32m---> 37\u001b[0m \u001b[43mtrain\u001b[49m\u001b[43m(\u001b[49m\u001b[43mmodel\u001b[49m\u001b[43m,\u001b[49m\u001b[43m \u001b[49m\u001b[43mtrain_loader\u001b[49m\u001b[43m,\u001b[49m\u001b[43m \u001b[49m\u001b[43mval_loader\u001b[49m\u001b[43m,\u001b[49m\u001b[43m \u001b[49m\u001b[43mvocab_size\u001b[49m\u001b[43m)\u001b[49m\n",
      "Cell \u001b[0;32mIn[18], line 21\u001b[0m, in \u001b[0;36mtrain\u001b[0;34m(model, train_loader, val_loader, vocab_size, num_epochs, lr, device)\u001b[0m\n\u001b[1;32m     18\u001b[0m targets \u001b[38;5;241m=\u001b[39m batch[:, \u001b[38;5;241m1\u001b[39m:]\n\u001b[1;32m     20\u001b[0m optimizer\u001b[38;5;241m.\u001b[39mzero_grad()\n\u001b[0;32m---> 21\u001b[0m outputs, _ \u001b[38;5;241m=\u001b[39m \u001b[43mmodel\u001b[49m\u001b[43m(\u001b[49m\u001b[43minputs\u001b[49m\u001b[43m)\u001b[49m\n\u001b[1;32m     22\u001b[0m outputs \u001b[38;5;241m=\u001b[39m outputs\u001b[38;5;241m.\u001b[39mreshape(\u001b[38;5;241m-\u001b[39m\u001b[38;5;241m1\u001b[39m, vocab_size)\n\u001b[1;32m     23\u001b[0m targets \u001b[38;5;241m=\u001b[39m targets\u001b[38;5;241m.\u001b[39mreshape(\u001b[38;5;241m-\u001b[39m\u001b[38;5;241m1\u001b[39m)\n",
      "File \u001b[0;32m/opt/conda/lib/python3.11/site-packages/torch/nn/modules/module.py:1511\u001b[0m, in \u001b[0;36mModule._wrapped_call_impl\u001b[0;34m(self, *args, **kwargs)\u001b[0m\n\u001b[1;32m   1509\u001b[0m     \u001b[38;5;28;01mreturn\u001b[39;00m \u001b[38;5;28mself\u001b[39m\u001b[38;5;241m.\u001b[39m_compiled_call_impl(\u001b[38;5;241m*\u001b[39margs, \u001b[38;5;241m*\u001b[39m\u001b[38;5;241m*\u001b[39mkwargs)  \u001b[38;5;66;03m# type: ignore[misc]\u001b[39;00m\n\u001b[1;32m   1510\u001b[0m \u001b[38;5;28;01melse\u001b[39;00m:\n\u001b[0;32m-> 1511\u001b[0m     \u001b[38;5;28;01mreturn\u001b[39;00m \u001b[38;5;28;43mself\u001b[39;49m\u001b[38;5;241;43m.\u001b[39;49m\u001b[43m_call_impl\u001b[49m\u001b[43m(\u001b[49m\u001b[38;5;241;43m*\u001b[39;49m\u001b[43margs\u001b[49m\u001b[43m,\u001b[49m\u001b[43m \u001b[49m\u001b[38;5;241;43m*\u001b[39;49m\u001b[38;5;241;43m*\u001b[39;49m\u001b[43mkwargs\u001b[49m\u001b[43m)\u001b[49m\n",
      "File \u001b[0;32m/opt/conda/lib/python3.11/site-packages/torch/nn/modules/module.py:1520\u001b[0m, in \u001b[0;36mModule._call_impl\u001b[0;34m(self, *args, **kwargs)\u001b[0m\n\u001b[1;32m   1515\u001b[0m \u001b[38;5;66;03m# If we don't have any hooks, we want to skip the rest of the logic in\u001b[39;00m\n\u001b[1;32m   1516\u001b[0m \u001b[38;5;66;03m# this function, and just call forward.\u001b[39;00m\n\u001b[1;32m   1517\u001b[0m \u001b[38;5;28;01mif\u001b[39;00m \u001b[38;5;129;01mnot\u001b[39;00m (\u001b[38;5;28mself\u001b[39m\u001b[38;5;241m.\u001b[39m_backward_hooks \u001b[38;5;129;01mor\u001b[39;00m \u001b[38;5;28mself\u001b[39m\u001b[38;5;241m.\u001b[39m_backward_pre_hooks \u001b[38;5;129;01mor\u001b[39;00m \u001b[38;5;28mself\u001b[39m\u001b[38;5;241m.\u001b[39m_forward_hooks \u001b[38;5;129;01mor\u001b[39;00m \u001b[38;5;28mself\u001b[39m\u001b[38;5;241m.\u001b[39m_forward_pre_hooks\n\u001b[1;32m   1518\u001b[0m         \u001b[38;5;129;01mor\u001b[39;00m _global_backward_pre_hooks \u001b[38;5;129;01mor\u001b[39;00m _global_backward_hooks\n\u001b[1;32m   1519\u001b[0m         \u001b[38;5;129;01mor\u001b[39;00m _global_forward_hooks \u001b[38;5;129;01mor\u001b[39;00m _global_forward_pre_hooks):\n\u001b[0;32m-> 1520\u001b[0m     \u001b[38;5;28;01mreturn\u001b[39;00m \u001b[43mforward_call\u001b[49m\u001b[43m(\u001b[49m\u001b[38;5;241;43m*\u001b[39;49m\u001b[43margs\u001b[49m\u001b[43m,\u001b[49m\u001b[43m \u001b[49m\u001b[38;5;241;43m*\u001b[39;49m\u001b[38;5;241;43m*\u001b[39;49m\u001b[43mkwargs\u001b[49m\u001b[43m)\u001b[49m\n\u001b[1;32m   1522\u001b[0m \u001b[38;5;28;01mtry\u001b[39;00m:\n\u001b[1;32m   1523\u001b[0m     result \u001b[38;5;241m=\u001b[39m \u001b[38;5;28;01mNone\u001b[39;00m\n",
      "Cell \u001b[0;32mIn[25], line 26\u001b[0m, in \u001b[0;36mMusicRNN.forward\u001b[0;34m(self, x, hidden)\u001b[0m\n\u001b[1;32m     23\u001b[0m \u001b[38;5;28;01mdef\u001b[39;00m \u001b[38;5;21mforward\u001b[39m(\u001b[38;5;28mself\u001b[39m, x, hidden\u001b[38;5;241m=\u001b[39m\u001b[38;5;28;01mNone\u001b[39;00m):\n\u001b[1;32m     24\u001b[0m     \u001b[38;5;66;03m# x: (batch_size, seq_length)\u001b[39;00m\n\u001b[1;32m     25\u001b[0m     x \u001b[38;5;241m=\u001b[39m \u001b[38;5;28mself\u001b[39m\u001b[38;5;241m.\u001b[39membedding(x)  \u001b[38;5;66;03m# (batch_size, seq_length, embedding_dim)\u001b[39;00m\n\u001b[0;32m---> 26\u001b[0m     out, hidden \u001b[38;5;241m=\u001b[39m \u001b[38;5;28;43mself\u001b[39;49m\u001b[38;5;241;43m.\u001b[39;49m\u001b[43mrnn\u001b[49m\u001b[43m(\u001b[49m\u001b[43mx\u001b[49m\u001b[43m,\u001b[49m\u001b[43m \u001b[49m\u001b[43mhidden\u001b[49m\u001b[43m)\u001b[49m  \u001b[38;5;66;03m# out: (batch_size, seq_length, hidden_dim)\u001b[39;00m\n\u001b[1;32m     27\u001b[0m     out \u001b[38;5;241m=\u001b[39m \u001b[38;5;28mself\u001b[39m\u001b[38;5;241m.\u001b[39mfc(out)  \u001b[38;5;66;03m# (batch_size, seq_length, vocab_size)\u001b[39;00m\n\u001b[1;32m     28\u001b[0m     \u001b[38;5;28;01mreturn\u001b[39;00m out, hidden\n",
      "File \u001b[0;32m/opt/conda/lib/python3.11/site-packages/torch/nn/modules/module.py:1511\u001b[0m, in \u001b[0;36mModule._wrapped_call_impl\u001b[0;34m(self, *args, **kwargs)\u001b[0m\n\u001b[1;32m   1509\u001b[0m     \u001b[38;5;28;01mreturn\u001b[39;00m \u001b[38;5;28mself\u001b[39m\u001b[38;5;241m.\u001b[39m_compiled_call_impl(\u001b[38;5;241m*\u001b[39margs, \u001b[38;5;241m*\u001b[39m\u001b[38;5;241m*\u001b[39mkwargs)  \u001b[38;5;66;03m# type: ignore[misc]\u001b[39;00m\n\u001b[1;32m   1510\u001b[0m \u001b[38;5;28;01melse\u001b[39;00m:\n\u001b[0;32m-> 1511\u001b[0m     \u001b[38;5;28;01mreturn\u001b[39;00m \u001b[38;5;28;43mself\u001b[39;49m\u001b[38;5;241;43m.\u001b[39;49m\u001b[43m_call_impl\u001b[49m\u001b[43m(\u001b[49m\u001b[38;5;241;43m*\u001b[39;49m\u001b[43margs\u001b[49m\u001b[43m,\u001b[49m\u001b[43m \u001b[49m\u001b[38;5;241;43m*\u001b[39;49m\u001b[38;5;241;43m*\u001b[39;49m\u001b[43mkwargs\u001b[49m\u001b[43m)\u001b[49m\n",
      "File \u001b[0;32m/opt/conda/lib/python3.11/site-packages/torch/nn/modules/module.py:1520\u001b[0m, in \u001b[0;36mModule._call_impl\u001b[0;34m(self, *args, **kwargs)\u001b[0m\n\u001b[1;32m   1515\u001b[0m \u001b[38;5;66;03m# If we don't have any hooks, we want to skip the rest of the logic in\u001b[39;00m\n\u001b[1;32m   1516\u001b[0m \u001b[38;5;66;03m# this function, and just call forward.\u001b[39;00m\n\u001b[1;32m   1517\u001b[0m \u001b[38;5;28;01mif\u001b[39;00m \u001b[38;5;129;01mnot\u001b[39;00m (\u001b[38;5;28mself\u001b[39m\u001b[38;5;241m.\u001b[39m_backward_hooks \u001b[38;5;129;01mor\u001b[39;00m \u001b[38;5;28mself\u001b[39m\u001b[38;5;241m.\u001b[39m_backward_pre_hooks \u001b[38;5;129;01mor\u001b[39;00m \u001b[38;5;28mself\u001b[39m\u001b[38;5;241m.\u001b[39m_forward_hooks \u001b[38;5;129;01mor\u001b[39;00m \u001b[38;5;28mself\u001b[39m\u001b[38;5;241m.\u001b[39m_forward_pre_hooks\n\u001b[1;32m   1518\u001b[0m         \u001b[38;5;129;01mor\u001b[39;00m _global_backward_pre_hooks \u001b[38;5;129;01mor\u001b[39;00m _global_backward_hooks\n\u001b[1;32m   1519\u001b[0m         \u001b[38;5;129;01mor\u001b[39;00m _global_forward_hooks \u001b[38;5;129;01mor\u001b[39;00m _global_forward_pre_hooks):\n\u001b[0;32m-> 1520\u001b[0m     \u001b[38;5;28;01mreturn\u001b[39;00m \u001b[43mforward_call\u001b[49m\u001b[43m(\u001b[49m\u001b[38;5;241;43m*\u001b[39;49m\u001b[43margs\u001b[49m\u001b[43m,\u001b[49m\u001b[43m \u001b[49m\u001b[38;5;241;43m*\u001b[39;49m\u001b[38;5;241;43m*\u001b[39;49m\u001b[43mkwargs\u001b[49m\u001b[43m)\u001b[49m\n\u001b[1;32m   1522\u001b[0m \u001b[38;5;28;01mtry\u001b[39;00m:\n\u001b[1;32m   1523\u001b[0m     result \u001b[38;5;241m=\u001b[39m \u001b[38;5;28;01mNone\u001b[39;00m\n",
      "File \u001b[0;32m/opt/conda/lib/python3.11/site-packages/torch/nn/modules/rnn.py:878\u001b[0m, in \u001b[0;36mLSTM.forward\u001b[0;34m(self, input, hx)\u001b[0m\n\u001b[1;32m    875\u001b[0m         hx \u001b[38;5;241m=\u001b[39m \u001b[38;5;28mself\u001b[39m\u001b[38;5;241m.\u001b[39mpermute_hidden(hx, sorted_indices)\n\u001b[1;32m    877\u001b[0m \u001b[38;5;28;01mif\u001b[39;00m batch_sizes \u001b[38;5;129;01mis\u001b[39;00m \u001b[38;5;28;01mNone\u001b[39;00m:\n\u001b[0;32m--> 878\u001b[0m     result \u001b[38;5;241m=\u001b[39m \u001b[43m_VF\u001b[49m\u001b[38;5;241;43m.\u001b[39;49m\u001b[43mlstm\u001b[49m\u001b[43m(\u001b[49m\u001b[38;5;28;43minput\u001b[39;49m\u001b[43m,\u001b[49m\u001b[43m \u001b[49m\u001b[43mhx\u001b[49m\u001b[43m,\u001b[49m\u001b[43m \u001b[49m\u001b[38;5;28;43mself\u001b[39;49m\u001b[38;5;241;43m.\u001b[39;49m\u001b[43m_flat_weights\u001b[49m\u001b[43m,\u001b[49m\u001b[43m \u001b[49m\u001b[38;5;28;43mself\u001b[39;49m\u001b[38;5;241;43m.\u001b[39;49m\u001b[43mbias\u001b[49m\u001b[43m,\u001b[49m\u001b[43m \u001b[49m\u001b[38;5;28;43mself\u001b[39;49m\u001b[38;5;241;43m.\u001b[39;49m\u001b[43mnum_layers\u001b[49m\u001b[43m,\u001b[49m\n\u001b[1;32m    879\u001b[0m \u001b[43m                      \u001b[49m\u001b[38;5;28;43mself\u001b[39;49m\u001b[38;5;241;43m.\u001b[39;49m\u001b[43mdropout\u001b[49m\u001b[43m,\u001b[49m\u001b[43m \u001b[49m\u001b[38;5;28;43mself\u001b[39;49m\u001b[38;5;241;43m.\u001b[39;49m\u001b[43mtraining\u001b[49m\u001b[43m,\u001b[49m\u001b[43m \u001b[49m\u001b[38;5;28;43mself\u001b[39;49m\u001b[38;5;241;43m.\u001b[39;49m\u001b[43mbidirectional\u001b[49m\u001b[43m,\u001b[49m\u001b[43m \u001b[49m\u001b[38;5;28;43mself\u001b[39;49m\u001b[38;5;241;43m.\u001b[39;49m\u001b[43mbatch_first\u001b[49m\u001b[43m)\u001b[49m\n\u001b[1;32m    880\u001b[0m \u001b[38;5;28;01melse\u001b[39;00m:\n\u001b[1;32m    881\u001b[0m     result \u001b[38;5;241m=\u001b[39m _VF\u001b[38;5;241m.\u001b[39mlstm(\u001b[38;5;28minput\u001b[39m, batch_sizes, hx, \u001b[38;5;28mself\u001b[39m\u001b[38;5;241m.\u001b[39m_flat_weights, \u001b[38;5;28mself\u001b[39m\u001b[38;5;241m.\u001b[39mbias,\n\u001b[1;32m    882\u001b[0m                       \u001b[38;5;28mself\u001b[39m\u001b[38;5;241m.\u001b[39mnum_layers, \u001b[38;5;28mself\u001b[39m\u001b[38;5;241m.\u001b[39mdropout, \u001b[38;5;28mself\u001b[39m\u001b[38;5;241m.\u001b[39mtraining, \u001b[38;5;28mself\u001b[39m\u001b[38;5;241m.\u001b[39mbidirectional)\n",
      "\u001b[0;31mKeyboardInterrupt\u001b[0m: "
     ]
    }
   ],
   "source": [
    "vocab_size = tokenizer.vocab_size\n",
    "embedding_dim = vocab_size\n",
    "hidden_dim = 768\n",
    "num_layers = 2\n",
    "\n",
    "model = MusicRNN(vocab_size, embedding_dim, hidden_dim, num_layers)\n",
    "train(model, train_loader, val_loader, vocab_size)"
   ]
  },
  {
   "cell_type": "markdown",
   "metadata": {},
   "source": [
    "#### The above run has a plateau of validation loss of 1.2638, which is the best so far"
   ]
  },
  {
   "cell_type": "code",
   "execution_count": null,
   "metadata": {},
   "outputs": [],
   "source": []
  },
  {
   "cell_type": "markdown",
   "metadata": {
    "id": "v0NQxTiiT3-t"
   },
   "source": [
    "### Load the best model"
   ]
  },
  {
   "cell_type": "code",
   "execution_count": 48,
   "metadata": {},
   "outputs": [
    {
     "data": {
      "text/plain": [
       "<All keys matched successfully>"
      ]
     },
     "execution_count": 48,
     "metadata": {},
     "output_type": "execute_result"
    }
   ],
   "source": [
    "vocab_size = tokenizer.vocab_size\n",
    "embedding_dim = vocab_size\n",
    "hidden_dim = 768\n",
    "num_layers = 2\n",
    "\n",
    "model = MusicRNN(vocab_size, embedding_dim, hidden_dim, num_layers)\n",
    "model.load_state_dict(torch.load(\"best_LSTM_model.pt\"))"
   ]
  },
  {
   "cell_type": "markdown",
   "metadata": {
    "id": "v0NQxTiiT3-t"
   },
   "source": [
    "### Sampling"
   ]
  },
  {
   "cell_type": "code",
   "execution_count": 29,
   "metadata": {},
   "outputs": [],
   "source": [
    "def sample(model, start_token, max_length=100, temperature=1.0, device='cuda'):\n",
    "    model = model.to(device)\n",
    "    model.eval()\n",
    "\n",
    "    generated = [start_token]\n",
    "    input_token = torch.tensor([[start_token]], device=device)  # (1, 1)\n",
    "\n",
    "    hidden = None\n",
    "\n",
    "    for _ in range(max_length):\n",
    "        output, hidden = model(input_token, hidden)  # output: (1, 1, vocab_size)\n",
    "        output = output[:, -1, :]  # take the last output\n",
    "        output = output / temperature  # adjust randomness\n",
    "\n",
    "        probs = F.softmax(output, dim=-1)  # (1, vocab_size)\n",
    "        next_token = torch.multinomial(probs, num_samples=1).item()\n",
    "        generated.append(next_token)\n",
    "        if next_token == 2 or next_token == 0: # reach end of sequence\n",
    "          break\n",
    "\n",
    "        input_token = torch.tensor([[next_token]], device=device)\n",
    "\n",
    "    return generated"
   ]
  },
  {
   "cell_type": "code",
   "execution_count": 140,
   "metadata": {
    "colab": {
     "base_uri": "https://localhost:8080/"
    },
    "executionInfo": {
     "elapsed": 905,
     "status": "ok",
     "timestamp": 1745714020696,
     "user": {
      "displayName": "Jingyue Huang",
      "userId": "11611851786193480123"
     },
     "user_tz": -120
    },
    "id": "aqGTcuhtT7c6",
    "outputId": "89733c4f-9c1d-439a-f6cf-d96f8ed4d95b"
   },
   "outputs": [
    {
     "name": "stdout",
     "output_type": "stream",
     "text": [
      "Length of generated sequence:  1025\n",
      "First 10 tokens:  [1, 4, 189, 60, 109, 132, 197, 65, 108, 128]\n"
     ]
    }
   ],
   "source": [
    "start_token = tokenizer.special_tokens_ids[1]\n",
    "generated_sequence = sample(model, start_token, max_length=1024, temperature=0.8)\n",
    "\n",
    "#print(\"Generated token sequence:\")\n",
    "print(\"Length of generated sequence: \", len(generated_sequence))\n",
    "print(\"First 10 tokens: \", generated_sequence[:10])"
   ]
  },
  {
   "cell_type": "code",
   "execution_count": 141,
   "metadata": {},
   "outputs": [
    {
     "name": "stderr",
     "output_type": "stream",
     "text": [
      "/tmp/ipykernel_271/3546575264.py:1: UserWarning: miditok: The `tokens_to_midi` method had been renamed `decode`. It is now depreciated and will be removed in future updates.\n",
      "  output_score = tokenizer.tokens_to_midi([generated_sequence])\n"
     ]
    }
   ],
   "source": [
    "output_score = tokenizer.tokens_to_midi([generated_sequence])\n",
    "output_score.dump_midi(f\"lstm/rnn.mid\")"
   ]
  },
  {
   "cell_type": "code",
   "execution_count": null,
   "metadata": {
    "id": "Pm3UPSBQqjU2"
   },
   "outputs": [],
   "source": [
    "from midi2audio import FluidSynth # Import library\n",
    "from IPython.display import Audio, display\n",
    "fs = FluidSynth(\"FluidR3Mono_GM.sf3\") # Initialize FluidSynth\n",
    "\n",
    "output_score = tokenizer.tokens_to_midi([generated_sequence])\n",
    "output_score.dump_midi(f\"rnn.mid\")\n",
    "fs.midi_to_audio(\"rnn.mid\", \"rnn.wav\")\n",
    "display(Audio(\"rnn.wav\"))"
   ]
  },
  {
   "cell_type": "markdown",
   "metadata": {
    "id": "OcYgd70BiyDY"
   },
   "source": [
    "#### Generating a lot of samples with the LSTM"
   ]
  },
  {
   "cell_type": "code",
   "execution_count": 145,
   "metadata": {},
   "outputs": [
    {
     "name": "stderr",
     "output_type": "stream",
     "text": [
      "/tmp/ipykernel_271/4026358655.py:5: UserWarning: miditok: The `tokens_to_midi` method had been renamed `decode`. It is now depreciated and will be removed in future updates.\n",
      "  output_score = tokenizer.tokens_to_midi([generated_sequence])\n"
     ]
    }
   ],
   "source": [
    "for i in range(len(test_dataset)):\n",
    "    start_token = tokenizer.special_tokens_ids[1]\n",
    "    generated_sequence = sample(model, start_token, max_length=1024, temperature=0.8)\n",
    "\n",
    "    output_score = tokenizer.tokens_to_midi([generated_sequence])\n",
    "    output_score.dump_midi(f\"lstm/{i}.mid\")"
   ]
  },
  {
   "cell_type": "code",
   "execution_count": null,
   "metadata": {},
   "outputs": [],
   "source": []
  },
  {
   "cell_type": "markdown",
   "metadata": {},
   "source": [
    "## Evaluation of LSTM"
   ]
  },
  {
   "cell_type": "code",
   "execution_count": 44,
   "metadata": {},
   "outputs": [],
   "source": [
    "def compute_lstm_perplexity(model, test_loader, vocab_size, device='cuda'):\n",
    "    model.eval()\n",
    "    model.to(device)\n",
    "\n",
    "    criterion = nn.CrossEntropyLoss(ignore_index=tokenizer.pad_token_id, reduction='sum')\n",
    "    total_loss = 0\n",
    "    total_tokens = 0\n",
    "\n",
    "    with torch.no_grad():\n",
    "        for batch in tqdm(test_loader, desc=\"Evaluating LSTM\"):\n",
    "            input_ids = batch['input_ids'].to(device)\n",
    "\n",
    "            inputs = input_ids[:, :-1]\n",
    "            targets = input_ids[:, 1:]\n",
    "\n",
    "            outputs, _ = model(inputs)  # (batch_size, seq_len, vocab_size)\n",
    "            logits = outputs.reshape(-1, vocab_size)\n",
    "            targets = targets.reshape(-1)\n",
    "\n",
    "            loss = criterion(logits, targets)\n",
    "            total_loss += loss.item()\n",
    "            total_tokens += (targets != tokenizer.pad_token_id).sum().item()\n",
    "\n",
    "    avg_loss = total_loss / total_tokens\n",
    "    perplexity = math.exp(avg_loss)\n",
    "    #print(f\"LSTM Test Perplexity: {perplexity:.4f}\")\n",
    "    return perplexity\n"
   ]
  },
  {
   "cell_type": "code",
   "execution_count": 50,
   "metadata": {},
   "outputs": [
    {
     "name": "stderr",
     "output_type": "stream",
     "text": [
      "Evaluating LSTM: 100%|██████████| 186/186 [00:23<00:00,  8.05it/s]"
     ]
    },
    {
     "name": "stdout",
     "output_type": "stream",
     "text": [
      "LSTM Train Perplexity 2.5897968052260874\n"
     ]
    },
    {
     "name": "stderr",
     "output_type": "stream",
     "text": [
      "\n"
     ]
    }
   ],
   "source": [
    "print(\"LSTM Train Perplexity\", compute_lstm_perplexity(model, train_loader, vocab_size))"
   ]
  },
  {
   "cell_type": "code",
   "execution_count": 51,
   "metadata": {},
   "outputs": [
    {
     "name": "stderr",
     "output_type": "stream",
     "text": [
      "Evaluating LSTM: 100%|██████████| 24/24 [00:04<00:00,  5.60it/s]"
     ]
    },
    {
     "name": "stdout",
     "output_type": "stream",
     "text": [
      "LSTM Validation Perplexity 3.8543762886927193\n"
     ]
    },
    {
     "name": "stderr",
     "output_type": "stream",
     "text": [
      "\n"
     ]
    }
   ],
   "source": [
    "print(\"LSTM Validation Perplexity\", compute_lstm_perplexity(model, val_loader, vocab_size))"
   ]
  },
  {
   "cell_type": "code",
   "execution_count": 52,
   "metadata": {},
   "outputs": [
    {
     "name": "stderr",
     "output_type": "stream",
     "text": [
      "Evaluating LSTM: 100%|██████████| 24/24 [00:04<00:00,  5.67it/s]"
     ]
    },
    {
     "name": "stdout",
     "output_type": "stream",
     "text": [
      "LSTM Test Perplexity 3.7817340616269988\n"
     ]
    },
    {
     "name": "stderr",
     "output_type": "stream",
     "text": [
      "\n"
     ]
    }
   ],
   "source": [
    "print(\"LSTM Test Perplexity\", compute_lstm_perplexity(model, test_loader, vocab_size))"
   ]
  },
  {
   "cell_type": "markdown",
   "metadata": {},
   "source": [
    "## Training a Transformer (from scratch)"
   ]
  },
  {
   "cell_type": "code",
   "execution_count": 147,
   "metadata": {},
   "outputs": [
    {
     "name": "stdout",
     "output_type": "stream",
     "text": [
      "\n",
      "\n",
      "\n"
     ]
    }
   ],
   "source": [
    "tokenizer = REMI()\n",
    "tokenizer.train(vocab_size=1000, files_paths=train_files) \n",
    "tokenizer.save(\"transformer_tokenizer.json\")"
   ]
  },
  {
   "cell_type": "code",
   "execution_count": null,
   "metadata": {},
   "outputs": [],
   "source": [
    "from transformers import GPT2Config, GPT2LMHeadModel, Trainer, TrainingArguments"
   ]
  },
  {
   "cell_type": "code",
   "execution_count": 10,
   "metadata": {},
   "outputs": [],
   "source": [
    "tokenizer = REMI(params=\"transformer_tokenizer.json\")"
   ]
  },
  {
   "cell_type": "code",
   "execution_count": 11,
   "metadata": {},
   "outputs": [],
   "source": [
    "train_dataset = DatasetMIDI(\n",
    "    files_paths=train_files,\n",
    "    tokenizer=tokenizer,\n",
    "    max_seq_len=1024,\n",
    "    bos_token_id=tokenizer[\"BOS_None\"],\n",
    "    eos_token_id=tokenizer[\"EOS_None\"],\n",
    ")\n",
    "val_dataset = DatasetMIDI(\n",
    "    files_paths=val_files,\n",
    "    tokenizer=tokenizer,\n",
    "    max_seq_len=1024,\n",
    "    bos_token_id=tokenizer[\"BOS_None\"],\n",
    "    eos_token_id=tokenizer[\"EOS_None\"],\n",
    ")\n",
    "test_dataset = DatasetMIDI(\n",
    "    files_paths=test_files,\n",
    "    tokenizer=tokenizer,\n",
    "    max_seq_len=1024,\n",
    "    bos_token_id=tokenizer[\"BOS_None\"],\n",
    "    eos_token_id=tokenizer[\"EOS_None\"],\n",
    ")\n",
    "collator = DataCollator(tokenizer.pad_token_id)\n",
    "train_loader = DataLoader(train_dataset, batch_size=16, shuffle=True, collate_fn=collator, num_workers=4)\n",
    "val_loader = DataLoader(val_dataset, batch_size=16, shuffle=False, collate_fn=collator, num_workers=4)\n",
    "test_loader = DataLoader(test_dataset, batch_size=16, shuffle=False, collate_fn=collator, num_workers=4)"
   ]
  },
  {
   "cell_type": "code",
   "execution_count": 12,
   "metadata": {},
   "outputs": [],
   "source": [
    "vocab_size = len(tokenizer)\n",
    "\n",
    "config = GPT2Config(\n",
    "    vocab_size=vocab_size,\n",
    "    n_positions=1024,\n",
    "    n_embd=512,\n",
    "    n_layer=8,\n",
    "    n_head=8,\n",
    "    bos_token_id=tokenizer[\"BOS_None\"],\n",
    "    eos_token_id=tokenizer[\"EOS_None\"],\n",
    "    pad_token_id=tokenizer[\"PAD_None\"]\n",
    ")\n",
    "\n",
    "model = GPT2LMHeadModel(config)"
   ]
  },
  {
   "cell_type": "code",
   "execution_count": 13,
   "metadata": {},
   "outputs": [],
   "source": [
    "def train(model, train_loader, val_loader, vocab_size, num_epochs=20, lr=5e-5, device='cuda'):\n",
    "    model = model.to(device)\n",
    "    criterion = nn.CrossEntropyLoss(ignore_index=tokenizer[\"PAD_None\"])\n",
    "    optimizer = optim.Adam(model.parameters(), lr=lr)\n",
    "\n",
    "    best_val_loss = float('inf')\n",
    "    for epoch in range(num_epochs):\n",
    "        # --------- Training ---------\n",
    "        model.train()\n",
    "        total_train_loss = 0\n",
    "        pbar = tqdm(train_loader, desc=f\"Epoch {epoch+1}/{num_epochs} [Train]\")\n",
    "\n",
    "        #for batch in train_loader:\n",
    "        for batch in pbar:\n",
    "            batch = batch['input_ids'].to(device)  # (batch_size, seq_length)\n",
    "\n",
    "            inputs = batch[:, :-1]\n",
    "            targets = batch[:, 1:]\n",
    "\n",
    "            optimizer.zero_grad()\n",
    "            #outputs, _ = model(inputs)\n",
    "            outputs = model(inputs)\n",
    "            logits = outputs.logits\n",
    "            #outputs = outputs.reshape(-1, vocab_size)\n",
    "            logits = logits.reshape(-1, vocab_size)\n",
    "            targets = targets.reshape(-1)\n",
    "\n",
    "            #loss = criterion(outputs, targets)\n",
    "            loss = criterion(logits, targets)\n",
    "            loss.backward()\n",
    "            optimizer.step()\n",
    "\n",
    "            total_train_loss += loss.item()\n",
    "            pbar.set_postfix(loss=loss.item())\n",
    "\n",
    "        avg_train_loss = total_train_loss / len(train_loader)\n",
    "\n",
    "        # --------- Validation ---------\n",
    "        model.eval()\n",
    "        total_val_loss = 0\n",
    "        pbar = tqdm(val_loader, desc=f\"Epoch {epoch+1}/{num_epochs} [Val]\")\n",
    "        \n",
    "        with torch.no_grad():\n",
    "            #for batch in val_loader:\n",
    "            for batch in pbar:\n",
    "                batch = batch['input_ids'].to(device)\n",
    "\n",
    "                inputs = batch[:, :-1]\n",
    "                targets = batch[:, 1:]\n",
    "\n",
    "                #outputs, _ = model(inputs)\n",
    "                outputs = model(inputs)\n",
    "                logits = outputs.logits\n",
    "                #outputs = outputs.reshape(-1, vocab_size)\n",
    "                logits = logits.reshape(-1, vocab_size)\n",
    "                targets = targets.reshape(-1)\n",
    "\n",
    "                #loss = criterion(outputs, targets)\n",
    "                loss = criterion(logits, targets)\n",
    "                total_val_loss += loss.item()\n",
    "                pbar.set_postfix(loss=loss.item())\n",
    "\n",
    "        avg_val_loss = total_val_loss / len(val_loader)\n",
    "\n",
    "        if avg_val_loss < best_val_loss:\n",
    "            best_val_loss = avg_val_loss\n",
    "            torch.save(model.state_dict(), \"best_transformer_model.pt\")\n",
    "\n",
    "        print(f\"Epoch {epoch+1}/{num_epochs} | Train Loss: {avg_train_loss:.4f} | Val Loss: {avg_val_loss:.4f}\")"
   ]
  },
  {
   "cell_type": "code",
   "execution_count": 10,
   "metadata": {},
   "outputs": [],
   "source": [
    "import os\n",
    "os.environ[\"TOKENIZERS_PARALLELISM\"] = \"false\"\n"
   ]
  },
  {
   "cell_type": "code",
   "execution_count": 168,
   "metadata": {},
   "outputs": [
    {
     "name": "stderr",
     "output_type": "stream",
     "text": [
      "Epoch 1/20 [Train]: 100%|██████████| 186/186 [02:13<00:00,  1.39it/s, loss=5.16]\n",
      "Epoch 1/20 [Val]: 100%|██████████| 24/24 [00:06<00:00,  3.82it/s, loss=4.94]\n"
     ]
    },
    {
     "name": "stdout",
     "output_type": "stream",
     "text": [
      "Epoch 1/20 | Train Loss: 5.7664 | Val Loss: 5.0069\n"
     ]
    },
    {
     "name": "stderr",
     "output_type": "stream",
     "text": [
      "Epoch 2/20 [Train]: 100%|██████████| 186/186 [02:14<00:00,  1.39it/s, loss=4.46]\n",
      "Epoch 2/20 [Val]: 100%|██████████| 24/24 [00:06<00:00,  3.89it/s, loss=4.52]\n"
     ]
    },
    {
     "name": "stdout",
     "output_type": "stream",
     "text": [
      "Epoch 2/20 | Train Loss: 4.7413 | Val Loss: 4.4505\n"
     ]
    },
    {
     "name": "stderr",
     "output_type": "stream",
     "text": [
      "Epoch 3/20 [Train]: 100%|██████████| 186/186 [02:14<00:00,  1.39it/s, loss=4]   \n",
      "Epoch 3/20 [Val]: 100%|██████████| 24/24 [00:05<00:00,  4.15it/s, loss=4.3] \n"
     ]
    },
    {
     "name": "stdout",
     "output_type": "stream",
     "text": [
      "Epoch 3/20 | Train Loss: 4.3169 | Val Loss: 4.1505\n"
     ]
    },
    {
     "name": "stderr",
     "output_type": "stream",
     "text": [
      "Epoch 4/20 [Train]: 100%|██████████| 186/186 [02:14<00:00,  1.39it/s, loss=4.06]\n",
      "Epoch 4/20 [Val]: 100%|██████████| 24/24 [00:05<00:00,  4.05it/s, loss=4.16]\n"
     ]
    },
    {
     "name": "stdout",
     "output_type": "stream",
     "text": [
      "Epoch 4/20 | Train Loss: 4.0633 | Val Loss: 3.9729\n"
     ]
    },
    {
     "name": "stderr",
     "output_type": "stream",
     "text": [
      "Epoch 5/20 [Train]: 100%|██████████| 186/186 [02:14<00:00,  1.39it/s, loss=4.08]\n",
      "Epoch 5/20 [Val]: 100%|██████████| 24/24 [00:06<00:00,  3.96it/s, loss=4.05]\n"
     ]
    },
    {
     "name": "stdout",
     "output_type": "stream",
     "text": [
      "Epoch 5/20 | Train Loss: 3.8925 | Val Loss: 3.8445\n"
     ]
    },
    {
     "name": "stderr",
     "output_type": "stream",
     "text": [
      "Epoch 6/20 [Train]: 100%|██████████| 186/186 [02:13<00:00,  1.39it/s, loss=3.61]\n",
      "Epoch 6/20 [Val]: 100%|██████████| 24/24 [00:05<00:00,  4.02it/s, loss=3.99]\n"
     ]
    },
    {
     "name": "stdout",
     "output_type": "stream",
     "text": [
      "Epoch 6/20 | Train Loss: 3.7600 | Val Loss: 3.7386\n"
     ]
    },
    {
     "name": "stderr",
     "output_type": "stream",
     "text": [
      "Epoch 7/20 [Train]: 100%|██████████| 186/186 [02:14<00:00,  1.39it/s, loss=3.67]\n",
      "Epoch 7/20 [Val]: 100%|██████████| 24/24 [00:06<00:00,  3.94it/s, loss=3.92]\n"
     ]
    },
    {
     "name": "stdout",
     "output_type": "stream",
     "text": [
      "Epoch 7/20 | Train Loss: 3.6457 | Val Loss: 3.6491\n"
     ]
    },
    {
     "name": "stderr",
     "output_type": "stream",
     "text": [
      "Epoch 8/20 [Train]: 100%|██████████| 186/186 [02:13<00:00,  1.39it/s, loss=3.41]\n",
      "Epoch 8/20 [Val]: 100%|██████████| 24/24 [00:06<00:00,  3.97it/s, loss=3.82]\n"
     ]
    },
    {
     "name": "stdout",
     "output_type": "stream",
     "text": [
      "Epoch 8/20 | Train Loss: 3.5410 | Val Loss: 3.5638\n"
     ]
    },
    {
     "name": "stderr",
     "output_type": "stream",
     "text": [
      "Epoch 9/20 [Train]: 100%|██████████| 186/186 [02:14<00:00,  1.39it/s, loss=3.53]\n",
      "Epoch 9/20 [Val]: 100%|██████████| 24/24 [00:06<00:00,  3.84it/s, loss=3.75]\n"
     ]
    },
    {
     "name": "stdout",
     "output_type": "stream",
     "text": [
      "Epoch 9/20 | Train Loss: 3.4390 | Val Loss: 3.4609\n"
     ]
    },
    {
     "name": "stderr",
     "output_type": "stream",
     "text": [
      "Epoch 10/20 [Train]: 100%|██████████| 186/186 [02:13<00:00,  1.39it/s, loss=3.4] \n",
      "Epoch 10/20 [Val]: 100%|██████████| 24/24 [00:06<00:00,  3.90it/s, loss=3.71]\n"
     ]
    },
    {
     "name": "stdout",
     "output_type": "stream",
     "text": [
      "Epoch 10/20 | Train Loss: 3.3337 | Val Loss: 3.3426\n"
     ]
    },
    {
     "name": "stderr",
     "output_type": "stream",
     "text": [
      "Epoch 11/20 [Train]: 100%|██████████| 186/186 [02:14<00:00,  1.39it/s, loss=3.32]\n",
      "Epoch 11/20 [Val]: 100%|██████████| 24/24 [00:06<00:00,  3.93it/s, loss=3.57]\n"
     ]
    },
    {
     "name": "stdout",
     "output_type": "stream",
     "text": [
      "Epoch 11/20 | Train Loss: 3.2176 | Val Loss: 3.2225\n"
     ]
    },
    {
     "name": "stderr",
     "output_type": "stream",
     "text": [
      "Epoch 12/20 [Train]: 100%|██████████| 186/186 [02:14<00:00,  1.38it/s, loss=3.3] \n",
      "Epoch 12/20 [Val]: 100%|██████████| 24/24 [00:05<00:00,  4.10it/s, loss=3.46]\n"
     ]
    },
    {
     "name": "stdout",
     "output_type": "stream",
     "text": [
      "Epoch 12/20 | Train Loss: 3.0876 | Val Loss: 3.0693\n"
     ]
    },
    {
     "name": "stderr",
     "output_type": "stream",
     "text": [
      "Epoch 13/20 [Train]: 100%|██████████| 186/186 [02:13<00:00,  1.39it/s, loss=3.42]\n",
      "Epoch 13/20 [Val]: 100%|██████████| 24/24 [00:06<00:00,  3.98it/s, loss=3.28]\n"
     ]
    },
    {
     "name": "stdout",
     "output_type": "stream",
     "text": [
      "Epoch 13/20 | Train Loss: 2.9554 | Val Loss: 2.9182\n"
     ]
    },
    {
     "name": "stderr",
     "output_type": "stream",
     "text": [
      "Epoch 14/20 [Train]: 100%|██████████| 186/186 [02:13<00:00,  1.39it/s, loss=2.23]\n",
      "Epoch 14/20 [Val]: 100%|██████████| 24/24 [00:05<00:00,  4.06it/s, loss=3.05]\n"
     ]
    },
    {
     "name": "stdout",
     "output_type": "stream",
     "text": [
      "Epoch 14/20 | Train Loss: 2.8145 | Val Loss: 2.7529\n"
     ]
    },
    {
     "name": "stderr",
     "output_type": "stream",
     "text": [
      "Epoch 15/20 [Train]: 100%|██████████| 186/186 [02:13<00:00,  1.39it/s, loss=2.73]\n",
      "Epoch 15/20 [Val]: 100%|██████████| 24/24 [00:06<00:00,  3.70it/s, loss=2.91]\n"
     ]
    },
    {
     "name": "stdout",
     "output_type": "stream",
     "text": [
      "Epoch 15/20 | Train Loss: 2.6800 | Val Loss: 2.6142\n"
     ]
    },
    {
     "name": "stderr",
     "output_type": "stream",
     "text": [
      "Epoch 16/20 [Train]: 100%|██████████| 186/186 [02:14<00:00,  1.38it/s, loss=2.04]\n",
      "Epoch 16/20 [Val]: 100%|██████████| 24/24 [00:05<00:00,  4.02it/s, loss=2.71]\n"
     ]
    },
    {
     "name": "stdout",
     "output_type": "stream",
     "text": [
      "Epoch 16/20 | Train Loss: 2.5386 | Val Loss: 2.4706\n"
     ]
    },
    {
     "name": "stderr",
     "output_type": "stream",
     "text": [
      "Epoch 17/20 [Train]: 100%|██████████| 186/186 [02:14<00:00,  1.39it/s, loss=2.66]\n",
      "Epoch 17/20 [Val]: 100%|██████████| 24/24 [00:06<00:00,  3.92it/s, loss=2.55]\n"
     ]
    },
    {
     "name": "stdout",
     "output_type": "stream",
     "text": [
      "Epoch 17/20 | Train Loss: 2.4153 | Val Loss: 2.3364\n"
     ]
    },
    {
     "name": "stderr",
     "output_type": "stream",
     "text": [
      "Epoch 18/20 [Train]: 100%|██████████| 186/186 [02:13<00:00,  1.39it/s, loss=2.7] \n",
      "Epoch 18/20 [Val]: 100%|██████████| 24/24 [00:06<00:00,  3.95it/s, loss=2.33]\n"
     ]
    },
    {
     "name": "stdout",
     "output_type": "stream",
     "text": [
      "Epoch 18/20 | Train Loss: 2.2972 | Val Loss: 2.2262\n"
     ]
    },
    {
     "name": "stderr",
     "output_type": "stream",
     "text": [
      "Epoch 19/20 [Train]: 100%|██████████| 186/186 [02:13<00:00,  1.39it/s, loss=2.48]\n",
      "Epoch 19/20 [Val]: 100%|██████████| 24/24 [00:05<00:00,  4.05it/s, loss=2.17]\n"
     ]
    },
    {
     "name": "stdout",
     "output_type": "stream",
     "text": [
      "Epoch 19/20 | Train Loss: 2.1881 | Val Loss: 2.1255\n"
     ]
    },
    {
     "name": "stderr",
     "output_type": "stream",
     "text": [
      "Epoch 20/20 [Train]: 100%|██████████| 186/186 [02:14<00:00,  1.39it/s, loss=3.19]\n",
      "Epoch 20/20 [Val]: 100%|██████████| 24/24 [00:06<00:00,  4.00it/s, loss=2.03]\n"
     ]
    },
    {
     "name": "stdout",
     "output_type": "stream",
     "text": [
      "Epoch 20/20 | Train Loss: 2.0971 | Val Loss: 2.0097\n"
     ]
    }
   ],
   "source": [
    "vocab_size = tokenizer.vocab_size\n",
    "train(model, train_loader, val_loader, vocab_size)"
   ]
  },
  {
   "cell_type": "code",
   "execution_count": null,
   "metadata": {},
   "outputs": [
    {
     "name": "stderr",
     "output_type": "stream",
     "text": [
      "Epoch 1/10 [Train]: 100%|██████████| 186/186 [02:13<00:00,  1.39it/s, loss=1.91]\n",
      "Epoch 1/10 [Val]: 100%|██████████| 24/24 [00:06<00:00,  3.81it/s, loss=1.97]\n"
     ]
    },
    {
     "name": "stdout",
     "output_type": "stream",
     "text": [
      "Epoch 1/10 | Train Loss: 1.9978 | Val Loss: 1.9415\n"
     ]
    },
    {
     "name": "stderr",
     "output_type": "stream",
     "text": [
      "Epoch 2/10 [Train]: 100%|██████████| 186/186 [02:13<00:00,  1.39it/s, loss=1.35]\n",
      "Epoch 2/10 [Val]: 100%|██████████| 24/24 [00:06<00:00,  3.94it/s, loss=1.84]\n"
     ]
    },
    {
     "name": "stdout",
     "output_type": "stream",
     "text": [
      "Epoch 2/10 | Train Loss: 1.9133 | Val Loss: 1.8503\n"
     ]
    },
    {
     "name": "stderr",
     "output_type": "stream",
     "text": [
      "Epoch 3/10 [Train]: 100%|██████████| 186/186 [02:13<00:00,  1.39it/s, loss=1.71]\n",
      "Epoch 3/10 [Val]: 100%|██████████| 24/24 [00:06<00:00,  3.92it/s, loss=1.76]\n"
     ]
    },
    {
     "name": "stdout",
     "output_type": "stream",
     "text": [
      "Epoch 3/10 | Train Loss: 1.8359 | Val Loss: 1.7856\n"
     ]
    },
    {
     "name": "stderr",
     "output_type": "stream",
     "text": [
      "Epoch 4/10 [Train]:  56%|█████▌    | 104/186 [01:16<00:58,  1.40it/s, loss=1.89]"
     ]
    }
   ],
   "source": [
    "train(model, train_loader, val_loader, vocab_size, num_epochs=10)"
   ]
  },
  {
   "cell_type": "code",
   "execution_count": 16,
   "metadata": {},
   "outputs": [
    {
     "name": "stderr",
     "output_type": "stream",
     "text": [
      "Epoch 1/10 [Train]:   0%|          | 0/186 [00:00<?, ?it/s]We strongly recommend passing in an `attention_mask` since your input_ids may be padded. See https://huggingface.co/docs/transformers/troubleshooting#incorrect-output-when-padding-tokens-arent-masked.\n",
      "Epoch 1/10 [Train]: 100%|██████████| 186/186 [02:18<00:00,  1.34it/s, loss=1.84]\n",
      "Epoch 1/10 [Val]: 100%|██████████| 24/24 [00:05<00:00,  4.14it/s, loss=1.65]\n"
     ]
    },
    {
     "name": "stdout",
     "output_type": "stream",
     "text": [
      "Epoch 1/10 | Train Loss: 1.7138 | Val Loss: 1.6768\n"
     ]
    },
    {
     "name": "stderr",
     "output_type": "stream",
     "text": [
      "Epoch 2/10 [Train]: 100%|██████████| 186/186 [02:17<00:00,  1.35it/s, loss=1.39]\n",
      "Epoch 2/10 [Val]: 100%|██████████| 24/24 [00:05<00:00,  4.08it/s, loss=1.6] \n"
     ]
    },
    {
     "name": "stdout",
     "output_type": "stream",
     "text": [
      "Epoch 2/10 | Train Loss: 1.6495 | Val Loss: 1.6430\n"
     ]
    },
    {
     "name": "stderr",
     "output_type": "stream",
     "text": [
      "Epoch 3/10 [Train]: 100%|██████████| 186/186 [02:17<00:00,  1.35it/s, loss=1.68]\n",
      "Epoch 3/10 [Val]: 100%|██████████| 24/24 [00:06<00:00,  4.00it/s, loss=1.56]\n"
     ]
    },
    {
     "name": "stdout",
     "output_type": "stream",
     "text": [
      "Epoch 3/10 | Train Loss: 1.5981 | Val Loss: 1.5965\n"
     ]
    },
    {
     "name": "stderr",
     "output_type": "stream",
     "text": [
      "Epoch 4/10 [Train]: 100%|██████████| 186/186 [02:17<00:00,  1.35it/s, loss=2.75]\n",
      "Epoch 4/10 [Val]: 100%|██████████| 24/24 [00:05<00:00,  4.09it/s, loss=1.54]\n"
     ]
    },
    {
     "name": "stdout",
     "output_type": "stream",
     "text": [
      "Epoch 4/10 | Train Loss: 1.5631 | Val Loss: 1.5553\n"
     ]
    },
    {
     "name": "stderr",
     "output_type": "stream",
     "text": [
      "Epoch 5/10 [Train]: 100%|██████████| 186/186 [02:16<00:00,  1.36it/s, loss=1.06]\n",
      "Epoch 5/10 [Val]: 100%|██████████| 24/24 [00:06<00:00,  3.96it/s, loss=1.52]\n"
     ]
    },
    {
     "name": "stdout",
     "output_type": "stream",
     "text": [
      "Epoch 5/10 | Train Loss: 1.5094 | Val Loss: 1.5391\n"
     ]
    },
    {
     "name": "stderr",
     "output_type": "stream",
     "text": [
      "Epoch 6/10 [Train]: 100%|██████████| 186/186 [02:17<00:00,  1.36it/s, loss=1.84]\n",
      "Epoch 6/10 [Val]: 100%|██████████| 24/24 [00:06<00:00,  3.80it/s, loss=1.5] \n"
     ]
    },
    {
     "name": "stdout",
     "output_type": "stream",
     "text": [
      "Epoch 6/10 | Train Loss: 1.4771 | Val Loss: 1.5142\n"
     ]
    },
    {
     "name": "stderr",
     "output_type": "stream",
     "text": [
      "Epoch 7/10 [Train]: 100%|██████████| 186/186 [02:17<00:00,  1.36it/s, loss=1.23]\n",
      "Epoch 7/10 [Val]: 100%|██████████| 24/24 [00:06<00:00,  3.99it/s, loss=1.48]\n"
     ]
    },
    {
     "name": "stdout",
     "output_type": "stream",
     "text": [
      "Epoch 7/10 | Train Loss: 1.4370 | Val Loss: 1.4948\n"
     ]
    },
    {
     "name": "stderr",
     "output_type": "stream",
     "text": [
      "Epoch 8/10 [Train]: 100%|██████████| 186/186 [02:17<00:00,  1.35it/s, loss=0.985]\n",
      "Epoch 8/10 [Val]: 100%|██████████| 24/24 [00:06<00:00,  3.93it/s, loss=1.47]\n"
     ]
    },
    {
     "name": "stdout",
     "output_type": "stream",
     "text": [
      "Epoch 8/10 | Train Loss: 1.4019 | Val Loss: 1.4872\n"
     ]
    },
    {
     "name": "stderr",
     "output_type": "stream",
     "text": [
      "Epoch 9/10 [Train]: 100%|██████████| 186/186 [02:16<00:00,  1.36it/s, loss=0.933]\n",
      "Epoch 9/10 [Val]: 100%|██████████| 24/24 [00:06<00:00,  3.91it/s, loss=1.46]\n"
     ]
    },
    {
     "name": "stdout",
     "output_type": "stream",
     "text": [
      "Epoch 9/10 | Train Loss: 1.3727 | Val Loss: 1.4627\n"
     ]
    },
    {
     "name": "stderr",
     "output_type": "stream",
     "text": [
      "Epoch 10/10 [Train]: 100%|██████████| 186/186 [02:17<00:00,  1.35it/s, loss=0.936]\n",
      "Epoch 10/10 [Val]: 100%|██████████| 24/24 [00:06<00:00,  3.86it/s, loss=1.47]\n"
     ]
    },
    {
     "name": "stdout",
     "output_type": "stream",
     "text": [
      "Epoch 10/10 | Train Loss: 1.3442 | Val Loss: 1.4611\n"
     ]
    }
   ],
   "source": [
    "train(model, train_loader, val_loader, vocab_size, num_epochs=10)"
   ]
  },
  {
   "cell_type": "code",
   "execution_count": 17,
   "metadata": {},
   "outputs": [
    {
     "name": "stderr",
     "output_type": "stream",
     "text": [
      "Epoch 1/50 [Train]: 100%|██████████| 186/186 [02:15<00:00,  1.38it/s, loss=1.16]\n",
      "Epoch 1/50 [Val]: 100%|██████████| 24/24 [00:05<00:00,  4.13it/s, loss=1.42]\n"
     ]
    },
    {
     "name": "stdout",
     "output_type": "stream",
     "text": [
      "Epoch 1/50 | Train Loss: 1.2642 | Val Loss: 1.4252\n"
     ]
    },
    {
     "name": "stderr",
     "output_type": "stream",
     "text": [
      "Epoch 2/50 [Train]: 100%|██████████| 186/186 [02:14<00:00,  1.38it/s, loss=1.14] \n",
      "Epoch 2/50 [Val]: 100%|██████████| 24/24 [00:05<00:00,  4.04it/s, loss=1.42]\n"
     ]
    },
    {
     "name": "stdout",
     "output_type": "stream",
     "text": [
      "Epoch 2/50 | Train Loss: 1.2462 | Val Loss: 1.4210\n"
     ]
    },
    {
     "name": "stderr",
     "output_type": "stream",
     "text": [
      "Epoch 3/50 [Train]: 100%|██████████| 186/186 [02:14<00:00,  1.39it/s, loss=1.24]\n",
      "Epoch 3/50 [Val]: 100%|██████████| 24/24 [00:05<00:00,  4.07it/s, loss=1.41]\n"
     ]
    },
    {
     "name": "stdout",
     "output_type": "stream",
     "text": [
      "Epoch 3/50 | Train Loss: 1.2367 | Val Loss: 1.4174\n"
     ]
    },
    {
     "name": "stderr",
     "output_type": "stream",
     "text": [
      "Epoch 4/50 [Train]: 100%|██████████| 186/186 [02:14<00:00,  1.39it/s, loss=1.4]  \n",
      "Epoch 4/50 [Val]: 100%|██████████| 24/24 [00:05<00:00,  4.12it/s, loss=1.42]\n"
     ]
    },
    {
     "name": "stdout",
     "output_type": "stream",
     "text": [
      "Epoch 4/50 | Train Loss: 1.2315 | Val Loss: 1.4163\n"
     ]
    },
    {
     "name": "stderr",
     "output_type": "stream",
     "text": [
      "Epoch 5/50 [Train]: 100%|██████████| 186/186 [02:14<00:00,  1.38it/s, loss=1.68] \n",
      "Epoch 5/50 [Val]: 100%|██████████| 24/24 [00:05<00:00,  4.19it/s, loss=1.42]\n"
     ]
    },
    {
     "name": "stdout",
     "output_type": "stream",
     "text": [
      "Epoch 5/50 | Train Loss: 1.2241 | Val Loss: 1.4107\n"
     ]
    },
    {
     "name": "stderr",
     "output_type": "stream",
     "text": [
      "Epoch 6/50 [Train]: 100%|██████████| 186/186 [02:14<00:00,  1.39it/s, loss=1.28] \n",
      "Epoch 6/50 [Val]: 100%|██████████| 24/24 [00:06<00:00,  3.87it/s, loss=1.42]\n"
     ]
    },
    {
     "name": "stdout",
     "output_type": "stream",
     "text": [
      "Epoch 6/50 | Train Loss: 1.2133 | Val Loss: 1.4138\n"
     ]
    },
    {
     "name": "stderr",
     "output_type": "stream",
     "text": [
      "Epoch 7/50 [Train]: 100%|██████████| 186/186 [02:15<00:00,  1.38it/s, loss=1.06] \n",
      "Epoch 7/50 [Val]: 100%|██████████| 24/24 [00:05<00:00,  4.04it/s, loss=1.41]\n"
     ]
    },
    {
     "name": "stdout",
     "output_type": "stream",
     "text": [
      "Epoch 7/50 | Train Loss: 1.2056 | Val Loss: 1.4111\n"
     ]
    },
    {
     "name": "stderr",
     "output_type": "stream",
     "text": [
      "Epoch 8/50 [Train]: 100%|██████████| 186/186 [02:14<00:00,  1.38it/s, loss=1.24] \n",
      "Epoch 8/50 [Val]: 100%|██████████| 24/24 [00:05<00:00,  4.10it/s, loss=1.42]\n"
     ]
    },
    {
     "name": "stdout",
     "output_type": "stream",
     "text": [
      "Epoch 8/50 | Train Loss: 1.1987 | Val Loss: 1.4116\n"
     ]
    },
    {
     "name": "stderr",
     "output_type": "stream",
     "text": [
      "Epoch 9/50 [Train]: 100%|██████████| 186/186 [02:13<00:00,  1.39it/s, loss=1.11] \n",
      "Epoch 9/50 [Val]: 100%|██████████| 24/24 [00:06<00:00,  3.90it/s, loss=1.42]\n"
     ]
    },
    {
     "name": "stdout",
     "output_type": "stream",
     "text": [
      "Epoch 9/50 | Train Loss: 1.1917 | Val Loss: 1.4142\n"
     ]
    },
    {
     "name": "stderr",
     "output_type": "stream",
     "text": [
      "Epoch 10/50 [Train]: 100%|██████████| 186/186 [02:14<00:00,  1.38it/s, loss=0.758]\n",
      "Epoch 10/50 [Val]: 100%|██████████| 24/24 [00:05<00:00,  4.02it/s, loss=1.42]\n"
     ]
    },
    {
     "name": "stdout",
     "output_type": "stream",
     "text": [
      "Epoch 10/50 | Train Loss: 1.1832 | Val Loss: 1.4105\n"
     ]
    },
    {
     "name": "stderr",
     "output_type": "stream",
     "text": [
      "Epoch 11/50 [Train]: 100%|██████████| 186/186 [02:15<00:00,  1.38it/s, loss=1.3]  \n",
      "Epoch 11/50 [Val]: 100%|██████████| 24/24 [00:05<00:00,  4.02it/s, loss=1.43]\n"
     ]
    },
    {
     "name": "stdout",
     "output_type": "stream",
     "text": [
      "Epoch 11/50 | Train Loss: 1.1784 | Val Loss: 1.4182\n"
     ]
    },
    {
     "name": "stderr",
     "output_type": "stream",
     "text": [
      "Epoch 12/50 [Train]: 100%|██████████| 186/186 [02:14<00:00,  1.38it/s, loss=1.08] \n",
      "Epoch 12/50 [Val]: 100%|██████████| 24/24 [00:05<00:00,  4.15it/s, loss=1.42]\n"
     ]
    },
    {
     "name": "stdout",
     "output_type": "stream",
     "text": [
      "Epoch 12/50 | Train Loss: 1.1721 | Val Loss: 1.4147\n"
     ]
    },
    {
     "name": "stderr",
     "output_type": "stream",
     "text": [
      "Epoch 13/50 [Train]: 100%|██████████| 186/186 [02:14<00:00,  1.39it/s, loss=0.791]\n",
      "Epoch 13/50 [Val]: 100%|██████████| 24/24 [00:05<00:00,  4.09it/s, loss=1.42]\n"
     ]
    },
    {
     "name": "stdout",
     "output_type": "stream",
     "text": [
      "Epoch 13/50 | Train Loss: 1.1630 | Val Loss: 1.4172\n"
     ]
    },
    {
     "name": "stderr",
     "output_type": "stream",
     "text": [
      "Epoch 14/50 [Train]: 100%|██████████| 186/186 [02:14<00:00,  1.39it/s, loss=1.36] \n",
      "Epoch 14/50 [Val]: 100%|██████████| 24/24 [00:06<00:00,  3.96it/s, loss=1.42]\n"
     ]
    },
    {
     "name": "stdout",
     "output_type": "stream",
     "text": [
      "Epoch 14/50 | Train Loss: 1.1607 | Val Loss: 1.4035\n"
     ]
    },
    {
     "name": "stderr",
     "output_type": "stream",
     "text": [
      "Epoch 15/50 [Train]: 100%|██████████| 186/186 [02:14<00:00,  1.39it/s, loss=0.882]\n",
      "Epoch 15/50 [Val]: 100%|██████████| 24/24 [00:05<00:00,  4.17it/s, loss=1.42]\n"
     ]
    },
    {
     "name": "stdout",
     "output_type": "stream",
     "text": [
      "Epoch 15/50 | Train Loss: 1.1530 | Val Loss: 1.4123\n"
     ]
    },
    {
     "name": "stderr",
     "output_type": "stream",
     "text": [
      "Epoch 16/50 [Train]: 100%|██████████| 186/186 [02:14<00:00,  1.39it/s, loss=0.894]\n",
      "Epoch 16/50 [Val]: 100%|██████████| 24/24 [00:05<00:00,  4.17it/s, loss=1.42]\n"
     ]
    },
    {
     "name": "stdout",
     "output_type": "stream",
     "text": [
      "Epoch 16/50 | Train Loss: 1.1442 | Val Loss: 1.4110\n"
     ]
    },
    {
     "name": "stderr",
     "output_type": "stream",
     "text": [
      "Epoch 17/50 [Train]: 100%|██████████| 186/186 [02:14<00:00,  1.39it/s, loss=0.825]\n",
      "Epoch 17/50 [Val]: 100%|██████████| 24/24 [00:05<00:00,  4.26it/s, loss=1.41]\n"
     ]
    },
    {
     "name": "stdout",
     "output_type": "stream",
     "text": [
      "Epoch 17/50 | Train Loss: 1.1394 | Val Loss: 1.4117\n"
     ]
    },
    {
     "name": "stderr",
     "output_type": "stream",
     "text": [
      "Epoch 18/50 [Train]: 100%|██████████| 186/186 [02:14<00:00,  1.39it/s, loss=0.923]\n",
      "Epoch 18/50 [Val]: 100%|██████████| 24/24 [00:05<00:00,  4.05it/s, loss=1.43]\n"
     ]
    },
    {
     "name": "stdout",
     "output_type": "stream",
     "text": [
      "Epoch 18/50 | Train Loss: 1.1323 | Val Loss: 1.4066\n"
     ]
    },
    {
     "name": "stderr",
     "output_type": "stream",
     "text": [
      "Epoch 19/50 [Train]: 100%|██████████| 186/186 [02:14<00:00,  1.39it/s, loss=0.957]\n",
      "Epoch 19/50 [Val]: 100%|██████████| 24/24 [00:05<00:00,  4.16it/s, loss=1.43]\n"
     ]
    },
    {
     "name": "stdout",
     "output_type": "stream",
     "text": [
      "Epoch 19/50 | Train Loss: 1.1288 | Val Loss: 1.4081\n"
     ]
    },
    {
     "name": "stderr",
     "output_type": "stream",
     "text": [
      "Epoch 20/50 [Train]: 100%|██████████| 186/186 [02:14<00:00,  1.38it/s, loss=1.54] \n",
      "Epoch 20/50 [Val]: 100%|██████████| 24/24 [00:05<00:00,  4.06it/s, loss=1.41]\n"
     ]
    },
    {
     "name": "stdout",
     "output_type": "stream",
     "text": [
      "Epoch 20/50 | Train Loss: 1.1236 | Val Loss: 1.4067\n"
     ]
    },
    {
     "name": "stderr",
     "output_type": "stream",
     "text": [
      "Epoch 21/50 [Train]: 100%|██████████| 186/186 [02:14<00:00,  1.38it/s, loss=1.18] \n",
      "Epoch 21/50 [Val]: 100%|██████████| 24/24 [00:05<00:00,  4.12it/s, loss=1.43]\n"
     ]
    },
    {
     "name": "stdout",
     "output_type": "stream",
     "text": [
      "Epoch 21/50 | Train Loss: 1.1169 | Val Loss: 1.4115\n"
     ]
    },
    {
     "name": "stderr",
     "output_type": "stream",
     "text": [
      "Epoch 22/50 [Train]: 100%|██████████| 186/186 [02:14<00:00,  1.38it/s, loss=1.43] \n",
      "Epoch 22/50 [Val]: 100%|██████████| 24/24 [00:06<00:00,  4.00it/s, loss=1.43]\n"
     ]
    },
    {
     "name": "stdout",
     "output_type": "stream",
     "text": [
      "Epoch 22/50 | Train Loss: 1.1130 | Val Loss: 1.4127\n"
     ]
    },
    {
     "name": "stderr",
     "output_type": "stream",
     "text": [
      "Epoch 23/50 [Train]: 100%|██████████| 186/186 [02:14<00:00,  1.38it/s, loss=0.885]\n",
      "Epoch 23/50 [Val]: 100%|██████████| 24/24 [00:06<00:00,  3.97it/s, loss=1.42]\n"
     ]
    },
    {
     "name": "stdout",
     "output_type": "stream",
     "text": [
      "Epoch 23/50 | Train Loss: 1.1040 | Val Loss: 1.4104\n"
     ]
    },
    {
     "name": "stderr",
     "output_type": "stream",
     "text": [
      "Epoch 24/50 [Train]: 100%|██████████| 186/186 [02:14<00:00,  1.39it/s, loss=0.569]\n",
      "Epoch 24/50 [Val]: 100%|██████████| 24/24 [00:05<00:00,  4.23it/s, loss=1.43]\n"
     ]
    },
    {
     "name": "stdout",
     "output_type": "stream",
     "text": [
      "Epoch 24/50 | Train Loss: 1.0976 | Val Loss: 1.4136\n"
     ]
    },
    {
     "name": "stderr",
     "output_type": "stream",
     "text": [
      "Epoch 25/50 [Train]: 100%|██████████| 186/186 [02:14<00:00,  1.38it/s, loss=1.05] \n",
      "Epoch 25/50 [Val]: 100%|██████████| 24/24 [00:06<00:00,  4.00it/s, loss=1.43]\n"
     ]
    },
    {
     "name": "stdout",
     "output_type": "stream",
     "text": [
      "Epoch 25/50 | Train Loss: 1.0939 | Val Loss: 1.4150\n"
     ]
    },
    {
     "name": "stderr",
     "output_type": "stream",
     "text": [
      "Epoch 26/50 [Train]: 100%|██████████| 186/186 [02:14<00:00,  1.38it/s, loss=1.56] \n",
      "Epoch 26/50 [Val]: 100%|██████████| 24/24 [00:05<00:00,  4.11it/s, loss=1.44]\n"
     ]
    },
    {
     "name": "stdout",
     "output_type": "stream",
     "text": [
      "Epoch 26/50 | Train Loss: 1.0901 | Val Loss: 1.4139\n"
     ]
    },
    {
     "name": "stderr",
     "output_type": "stream",
     "text": [
      "Epoch 27/50 [Train]: 100%|██████████| 186/186 [02:14<00:00,  1.39it/s, loss=0.672]\n",
      "Epoch 27/50 [Val]: 100%|██████████| 24/24 [00:05<00:00,  4.17it/s, loss=1.43]\n"
     ]
    },
    {
     "name": "stdout",
     "output_type": "stream",
     "text": [
      "Epoch 27/50 | Train Loss: 1.0797 | Val Loss: 1.4171\n"
     ]
    },
    {
     "name": "stderr",
     "output_type": "stream",
     "text": [
      "Epoch 28/50 [Train]: 100%|██████████| 186/186 [02:14<00:00,  1.38it/s, loss=0.867]\n",
      "Epoch 28/50 [Val]: 100%|██████████| 24/24 [00:06<00:00,  3.89it/s, loss=1.44]\n"
     ]
    },
    {
     "name": "stdout",
     "output_type": "stream",
     "text": [
      "Epoch 28/50 | Train Loss: 1.0743 | Val Loss: 1.4130\n"
     ]
    },
    {
     "name": "stderr",
     "output_type": "stream",
     "text": [
      "Epoch 29/50 [Train]: 100%|██████████| 186/186 [02:14<00:00,  1.38it/s, loss=1.11] \n",
      "Epoch 29/50 [Val]: 100%|██████████| 24/24 [00:05<00:00,  4.05it/s, loss=1.44]\n"
     ]
    },
    {
     "name": "stdout",
     "output_type": "stream",
     "text": [
      "Epoch 29/50 | Train Loss: 1.0710 | Val Loss: 1.4157\n"
     ]
    },
    {
     "name": "stderr",
     "output_type": "stream",
     "text": [
      "Epoch 30/50 [Train]: 100%|██████████| 186/186 [02:14<00:00,  1.38it/s, loss=1.1]  \n",
      "Epoch 30/50 [Val]: 100%|██████████| 24/24 [00:06<00:00,  3.97it/s, loss=1.43]\n"
     ]
    },
    {
     "name": "stdout",
     "output_type": "stream",
     "text": [
      "Epoch 30/50 | Train Loss: 1.0655 | Val Loss: 1.4120\n"
     ]
    },
    {
     "name": "stderr",
     "output_type": "stream",
     "text": [
      "Epoch 31/50 [Train]: 100%|██████████| 186/186 [02:14<00:00,  1.38it/s, loss=0.808]\n",
      "Epoch 31/50 [Val]: 100%|██████████| 24/24 [00:05<00:00,  4.18it/s, loss=1.44]\n"
     ]
    },
    {
     "name": "stdout",
     "output_type": "stream",
     "text": [
      "Epoch 31/50 | Train Loss: 1.0578 | Val Loss: 1.4175\n"
     ]
    },
    {
     "name": "stderr",
     "output_type": "stream",
     "text": [
      "Epoch 32/50 [Train]: 100%|██████████| 186/186 [02:14<00:00,  1.38it/s, loss=0.904]\n",
      "Epoch 32/50 [Val]: 100%|██████████| 24/24 [00:05<00:00,  4.14it/s, loss=1.44]\n"
     ]
    },
    {
     "name": "stdout",
     "output_type": "stream",
     "text": [
      "Epoch 32/50 | Train Loss: 1.0526 | Val Loss: 1.4204\n"
     ]
    },
    {
     "name": "stderr",
     "output_type": "stream",
     "text": [
      "Epoch 33/50 [Train]: 100%|██████████| 186/186 [02:14<00:00,  1.39it/s, loss=0.947]\n",
      "Epoch 33/50 [Val]: 100%|██████████| 24/24 [00:05<00:00,  4.00it/s, loss=1.45]\n"
     ]
    },
    {
     "name": "stdout",
     "output_type": "stream",
     "text": [
      "Epoch 33/50 | Train Loss: 1.0477 | Val Loss: 1.4286\n"
     ]
    },
    {
     "name": "stderr",
     "output_type": "stream",
     "text": [
      "Epoch 34/50 [Train]: 100%|██████████| 186/186 [02:14<00:00,  1.39it/s, loss=0.787]\n",
      "Epoch 34/50 [Val]: 100%|██████████| 24/24 [00:06<00:00,  3.95it/s, loss=1.44]\n"
     ]
    },
    {
     "name": "stdout",
     "output_type": "stream",
     "text": [
      "Epoch 34/50 | Train Loss: 1.0419 | Val Loss: 1.4160\n"
     ]
    },
    {
     "name": "stderr",
     "output_type": "stream",
     "text": [
      "Epoch 35/50 [Train]: 100%|██████████| 186/186 [02:14<00:00,  1.38it/s, loss=1.61] \n",
      "Epoch 35/50 [Val]: 100%|██████████| 24/24 [00:05<00:00,  4.19it/s, loss=1.44]\n"
     ]
    },
    {
     "name": "stdout",
     "output_type": "stream",
     "text": [
      "Epoch 35/50 | Train Loss: 1.0403 | Val Loss: 1.4224\n"
     ]
    },
    {
     "name": "stderr",
     "output_type": "stream",
     "text": [
      "Epoch 36/50 [Train]: 100%|██████████| 186/186 [02:14<00:00,  1.39it/s, loss=0.942]\n",
      "Epoch 36/50 [Val]: 100%|██████████| 24/24 [00:05<00:00,  4.13it/s, loss=1.46]\n"
     ]
    },
    {
     "name": "stdout",
     "output_type": "stream",
     "text": [
      "Epoch 36/50 | Train Loss: 1.0327 | Val Loss: 1.4277\n"
     ]
    },
    {
     "name": "stderr",
     "output_type": "stream",
     "text": [
      "Epoch 37/50 [Train]: 100%|██████████| 186/186 [02:14<00:00,  1.39it/s, loss=1.44] \n",
      "Epoch 37/50 [Val]: 100%|██████████| 24/24 [00:05<00:00,  4.13it/s, loss=1.47]\n"
     ]
    },
    {
     "name": "stdout",
     "output_type": "stream",
     "text": [
      "Epoch 37/50 | Train Loss: 1.0297 | Val Loss: 1.4285\n"
     ]
    },
    {
     "name": "stderr",
     "output_type": "stream",
     "text": [
      "Epoch 38/50 [Train]: 100%|██████████| 186/186 [02:14<00:00,  1.38it/s, loss=0.789]\n",
      "Epoch 38/50 [Val]: 100%|██████████| 24/24 [00:06<00:00,  3.98it/s, loss=1.46]\n"
     ]
    },
    {
     "name": "stdout",
     "output_type": "stream",
     "text": [
      "Epoch 38/50 | Train Loss: 1.0212 | Val Loss: 1.4240\n"
     ]
    },
    {
     "name": "stderr",
     "output_type": "stream",
     "text": [
      "Epoch 39/50 [Train]: 100%|██████████| 186/186 [02:14<00:00,  1.39it/s, loss=1.6]  \n",
      "Epoch 39/50 [Val]: 100%|██████████| 24/24 [00:05<00:00,  4.03it/s, loss=1.45]\n"
     ]
    },
    {
     "name": "stdout",
     "output_type": "stream",
     "text": [
      "Epoch 39/50 | Train Loss: 1.0200 | Val Loss: 1.4212\n"
     ]
    },
    {
     "name": "stderr",
     "output_type": "stream",
     "text": [
      "Epoch 40/50 [Train]: 100%|██████████| 186/186 [02:13<00:00,  1.39it/s, loss=0.854]\n",
      "Epoch 40/50 [Val]: 100%|██████████| 24/24 [00:05<00:00,  4.03it/s, loss=1.46]\n"
     ]
    },
    {
     "name": "stdout",
     "output_type": "stream",
     "text": [
      "Epoch 40/50 | Train Loss: 1.0108 | Val Loss: 1.4300\n"
     ]
    },
    {
     "name": "stderr",
     "output_type": "stream",
     "text": [
      "Epoch 41/50 [Train]: 100%|██████████| 186/186 [02:14<00:00,  1.38it/s, loss=1.41] \n",
      "Epoch 41/50 [Val]: 100%|██████████| 24/24 [00:05<00:00,  4.01it/s, loss=1.46]\n"
     ]
    },
    {
     "name": "stdout",
     "output_type": "stream",
     "text": [
      "Epoch 41/50 | Train Loss: 1.0080 | Val Loss: 1.4262\n"
     ]
    },
    {
     "name": "stderr",
     "output_type": "stream",
     "text": [
      "Epoch 42/50 [Train]: 100%|██████████| 186/186 [02:14<00:00,  1.39it/s, loss=0.689]\n",
      "Epoch 42/50 [Val]: 100%|██████████| 24/24 [00:06<00:00,  3.81it/s, loss=1.47]\n"
     ]
    },
    {
     "name": "stdout",
     "output_type": "stream",
     "text": [
      "Epoch 42/50 | Train Loss: 0.9996 | Val Loss: 1.4313\n"
     ]
    },
    {
     "name": "stderr",
     "output_type": "stream",
     "text": [
      "Epoch 43/50 [Train]: 100%|██████████| 186/186 [02:14<00:00,  1.39it/s, loss=1.43] \n",
      "Epoch 43/50 [Val]: 100%|██████████| 24/24 [00:05<00:00,  4.18it/s, loss=1.46]\n"
     ]
    },
    {
     "name": "stdout",
     "output_type": "stream",
     "text": [
      "Epoch 43/50 | Train Loss: 0.9987 | Val Loss: 1.4305\n"
     ]
    },
    {
     "name": "stderr",
     "output_type": "stream",
     "text": [
      "Epoch 44/50 [Train]: 100%|██████████| 186/186 [02:14<00:00,  1.38it/s, loss=0.721]\n",
      "Epoch 44/50 [Val]: 100%|██████████| 24/24 [00:05<00:00,  4.21it/s, loss=1.46]\n"
     ]
    },
    {
     "name": "stdout",
     "output_type": "stream",
     "text": [
      "Epoch 44/50 | Train Loss: 0.9891 | Val Loss: 1.4309\n"
     ]
    },
    {
     "name": "stderr",
     "output_type": "stream",
     "text": [
      "Epoch 45/50 [Train]: 100%|██████████| 186/186 [02:14<00:00,  1.39it/s, loss=1.06] \n",
      "Epoch 45/50 [Val]: 100%|██████████| 24/24 [00:05<00:00,  4.14it/s, loss=1.48]\n"
     ]
    },
    {
     "name": "stdout",
     "output_type": "stream",
     "text": [
      "Epoch 45/50 | Train Loss: 0.9861 | Val Loss: 1.4416\n"
     ]
    },
    {
     "name": "stderr",
     "output_type": "stream",
     "text": [
      "Epoch 46/50 [Train]: 100%|██████████| 186/186 [02:14<00:00,  1.39it/s, loss=0.55] \n",
      "Epoch 46/50 [Val]: 100%|██████████| 24/24 [00:05<00:00,  4.22it/s, loss=1.47]\n"
     ]
    },
    {
     "name": "stdout",
     "output_type": "stream",
     "text": [
      "Epoch 46/50 | Train Loss: 0.9792 | Val Loss: 1.4426\n"
     ]
    },
    {
     "name": "stderr",
     "output_type": "stream",
     "text": [
      "Epoch 47/50 [Train]: 100%|██████████| 186/186 [02:14<00:00,  1.39it/s, loss=0.915]\n",
      "Epoch 47/50 [Val]: 100%|██████████| 24/24 [00:05<00:00,  4.18it/s, loss=1.47]\n"
     ]
    },
    {
     "name": "stdout",
     "output_type": "stream",
     "text": [
      "Epoch 47/50 | Train Loss: 0.9764 | Val Loss: 1.4390\n"
     ]
    },
    {
     "name": "stderr",
     "output_type": "stream",
     "text": [
      "Epoch 48/50 [Train]: 100%|██████████| 186/186 [02:14<00:00,  1.38it/s, loss=0.687]\n",
      "Epoch 48/50 [Val]: 100%|██████████| 24/24 [00:05<00:00,  4.02it/s, loss=1.47]\n"
     ]
    },
    {
     "name": "stdout",
     "output_type": "stream",
     "text": [
      "Epoch 48/50 | Train Loss: 0.9699 | Val Loss: 1.4458\n"
     ]
    },
    {
     "name": "stderr",
     "output_type": "stream",
     "text": [
      "Epoch 49/50 [Train]: 100%|██████████| 186/186 [02:14<00:00,  1.39it/s, loss=0.954]\n",
      "Epoch 49/50 [Val]: 100%|██████████| 24/24 [00:05<00:00,  4.15it/s, loss=1.47]\n"
     ]
    },
    {
     "name": "stdout",
     "output_type": "stream",
     "text": [
      "Epoch 49/50 | Train Loss: 0.9667 | Val Loss: 1.4422\n"
     ]
    },
    {
     "name": "stderr",
     "output_type": "stream",
     "text": [
      "Epoch 50/50 [Train]: 100%|██████████| 186/186 [02:14<00:00,  1.39it/s, loss=0.822]\n",
      "Epoch 50/50 [Val]: 100%|██████████| 24/24 [00:05<00:00,  4.23it/s, loss=1.48]"
     ]
    },
    {
     "name": "stdout",
     "output_type": "stream",
     "text": [
      "Epoch 50/50 | Train Loss: 0.9607 | Val Loss: 1.4525\n"
     ]
    },
    {
     "name": "stderr",
     "output_type": "stream",
     "text": [
      "\n"
     ]
    }
   ],
   "source": [
    "train(model, train_loader, val_loader, vocab_size, num_epochs=50, lr=1e-5)"
   ]
  },
  {
   "cell_type": "markdown",
   "metadata": {},
   "source": [
    "### The above run wasn't good. Let's make the tokenizer have default settings, and learning rate should increase."
   ]
  },
  {
   "cell_type": "code",
   "execution_count": 11,
   "metadata": {},
   "outputs": [],
   "source": [
    "\n",
    "tokenizer = REMI()  # using defaults parameters (constants.py)\n",
    "train_dataset = DatasetMIDI(\n",
    "    files_paths=train_files,\n",
    "    tokenizer=tokenizer,\n",
    "    max_seq_len=1024,\n",
    "    bos_token_id=tokenizer[\"BOS_None\"],\n",
    "    eos_token_id=tokenizer[\"EOS_None\"],\n",
    ")\n",
    "val_dataset = DatasetMIDI(\n",
    "    files_paths=val_files,\n",
    "    tokenizer=tokenizer,\n",
    "    max_seq_len=1024,\n",
    "    bos_token_id=tokenizer[\"BOS_None\"],\n",
    "    eos_token_id=tokenizer[\"EOS_None\"],\n",
    ")\n",
    "test_dataset = DatasetMIDI(\n",
    "    files_paths=test_files,\n",
    "    tokenizer=tokenizer,\n",
    "    max_seq_len=1024,\n",
    "    bos_token_id=tokenizer[\"BOS_None\"],\n",
    "    eos_token_id=tokenizer[\"EOS_None\"],\n",
    ")\n",
    "collator = DataCollator(tokenizer.pad_token_id)\n",
    "train_loader = DataLoader(train_dataset, batch_size=16, shuffle=True, collate_fn=collator, num_workers=4)\n",
    "val_loader = DataLoader(val_dataset, batch_size=16, shuffle=False, collate_fn=collator, num_workers=4)\n",
    "test_loader = DataLoader(test_dataset, batch_size=16, shuffle=False, collate_fn=collator, num_workers=4)\n",
    "\n",
    "vocab_size = len(tokenizer)\n",
    "\n",
    "config = GPT2Config(\n",
    "    vocab_size=vocab_size,\n",
    "    n_positions=1024,\n",
    "    n_embd=512,\n",
    "    n_layer=8,\n",
    "    n_head=8,\n",
    "    bos_token_id=tokenizer[\"BOS_None\"],\n",
    "    eos_token_id=tokenizer[\"EOS_None\"],\n",
    "    pad_token_id=tokenizer[\"PAD_None\"]\n",
    ")\n",
    "\n",
    "model = GPT2LMHeadModel(config)"
   ]
  },
  {
   "cell_type": "code",
   "execution_count": 42,
   "metadata": {},
   "outputs": [
    {
     "name": "stderr",
     "output_type": "stream",
     "text": [
      "Epoch 1/20 [Train]: 100%|██████████| 186/186 [02:13<00:00,  1.40it/s, loss=2.69]\n",
      "Epoch 1/20 [Val]: 100%|██████████| 24/24 [00:05<00:00,  4.49it/s, loss=2.75]\n"
     ]
    },
    {
     "name": "stdout",
     "output_type": "stream",
     "text": [
      "Epoch 1/20 | Train Loss: 3.0979 | Val Loss: 2.6663\n"
     ]
    },
    {
     "name": "stderr",
     "output_type": "stream",
     "text": [
      "Epoch 2/20 [Train]: 100%|██████████| 186/186 [02:13<00:00,  1.39it/s, loss=2.47]\n",
      "Epoch 2/20 [Val]: 100%|██████████| 24/24 [00:05<00:00,  4.39it/s, loss=2.63]\n"
     ]
    },
    {
     "name": "stdout",
     "output_type": "stream",
     "text": [
      "Epoch 2/20 | Train Loss: 2.5471 | Val Loss: 2.4509\n"
     ]
    },
    {
     "name": "stderr",
     "output_type": "stream",
     "text": [
      "Epoch 3/20 [Train]: 100%|██████████| 186/186 [02:13<00:00,  1.39it/s, loss=2.51]\n",
      "Epoch 3/20 [Val]: 100%|██████████| 24/24 [00:05<00:00,  4.27it/s, loss=2.58]\n"
     ]
    },
    {
     "name": "stdout",
     "output_type": "stream",
     "text": [
      "Epoch 3/20 | Train Loss: 2.3758 | Val Loss: 2.3310\n"
     ]
    },
    {
     "name": "stderr",
     "output_type": "stream",
     "text": [
      "Epoch 4/20 [Train]: 100%|██████████| 186/186 [02:13<00:00,  1.39it/s, loss=2.02]\n",
      "Epoch 4/20 [Val]: 100%|██████████| 24/24 [00:05<00:00,  4.27it/s, loss=2.5] \n"
     ]
    },
    {
     "name": "stdout",
     "output_type": "stream",
     "text": [
      "Epoch 4/20 | Train Loss: 2.2744 | Val Loss: 2.2504\n"
     ]
    },
    {
     "name": "stderr",
     "output_type": "stream",
     "text": [
      "Epoch 5/20 [Train]: 100%|██████████| 186/186 [02:13<00:00,  1.39it/s, loss=1.86]\n",
      "Epoch 5/20 [Val]: 100%|██████████| 24/24 [00:05<00:00,  4.28it/s, loss=2.18]\n"
     ]
    },
    {
     "name": "stdout",
     "output_type": "stream",
     "text": [
      "Epoch 5/20 | Train Loss: 2.0680 | Val Loss: 1.9234\n"
     ]
    },
    {
     "name": "stderr",
     "output_type": "stream",
     "text": [
      "Epoch 6/20 [Train]: 100%|██████████| 186/186 [02:13<00:00,  1.39it/s, loss=1.48]\n",
      "Epoch 6/20 [Val]: 100%|██████████| 24/24 [00:05<00:00,  4.32it/s, loss=2.02]\n"
     ]
    },
    {
     "name": "stdout",
     "output_type": "stream",
     "text": [
      "Epoch 6/20 | Train Loss: 1.8559 | Val Loss: 1.8143\n"
     ]
    },
    {
     "name": "stderr",
     "output_type": "stream",
     "text": [
      "Epoch 7/20 [Train]: 100%|██████████| 186/186 [02:13<00:00,  1.40it/s, loss=2.09]\n",
      "Epoch 7/20 [Val]: 100%|██████████| 24/24 [00:05<00:00,  4.34it/s, loss=2]   \n"
     ]
    },
    {
     "name": "stdout",
     "output_type": "stream",
     "text": [
      "Epoch 7/20 | Train Loss: 1.7666 | Val Loss: 1.7549\n"
     ]
    },
    {
     "name": "stderr",
     "output_type": "stream",
     "text": [
      "Epoch 8/20 [Train]: 100%|██████████| 186/186 [02:13<00:00,  1.39it/s, loss=1.49]\n",
      "Epoch 8/20 [Val]: 100%|██████████| 24/24 [00:05<00:00,  4.32it/s, loss=1.91]\n"
     ]
    },
    {
     "name": "stdout",
     "output_type": "stream",
     "text": [
      "Epoch 8/20 | Train Loss: 1.7070 | Val Loss: 1.6964\n"
     ]
    },
    {
     "name": "stderr",
     "output_type": "stream",
     "text": [
      "Epoch 9/20 [Train]: 100%|██████████| 186/186 [02:13<00:00,  1.39it/s, loss=1.77]\n",
      "Epoch 9/20 [Val]: 100%|██████████| 24/24 [00:05<00:00,  4.32it/s, loss=1.91]\n"
     ]
    },
    {
     "name": "stdout",
     "output_type": "stream",
     "text": [
      "Epoch 9/20 | Train Loss: 1.6597 | Val Loss: 1.6295\n"
     ]
    },
    {
     "name": "stderr",
     "output_type": "stream",
     "text": [
      "Epoch 10/20 [Train]: 100%|██████████| 186/186 [02:13<00:00,  1.39it/s, loss=1.7] \n",
      "Epoch 10/20 [Val]: 100%|██████████| 24/24 [00:05<00:00,  4.38it/s, loss=1.82]\n"
     ]
    },
    {
     "name": "stdout",
     "output_type": "stream",
     "text": [
      "Epoch 10/20 | Train Loss: 1.6072 | Val Loss: 1.5838\n"
     ]
    },
    {
     "name": "stderr",
     "output_type": "stream",
     "text": [
      "Epoch 11/20 [Train]: 100%|██████████| 186/186 [02:13<00:00,  1.39it/s, loss=1.51]\n",
      "Epoch 11/20 [Val]: 100%|██████████| 24/24 [00:05<00:00,  4.38it/s, loss=1.7] \n"
     ]
    },
    {
     "name": "stdout",
     "output_type": "stream",
     "text": [
      "Epoch 11/20 | Train Loss: 1.5445 | Val Loss: 1.5020\n"
     ]
    },
    {
     "name": "stderr",
     "output_type": "stream",
     "text": [
      "Epoch 12/20 [Train]: 100%|██████████| 186/186 [02:13<00:00,  1.39it/s, loss=1.36]\n",
      "Epoch 12/20 [Val]: 100%|██████████| 24/24 [00:05<00:00,  4.40it/s, loss=1.65]\n"
     ]
    },
    {
     "name": "stdout",
     "output_type": "stream",
     "text": [
      "Epoch 12/20 | Train Loss: 1.4745 | Val Loss: 1.4189\n"
     ]
    },
    {
     "name": "stderr",
     "output_type": "stream",
     "text": [
      "Epoch 13/20 [Train]: 100%|██████████| 186/186 [02:13<00:00,  1.39it/s, loss=1.08]\n",
      "Epoch 13/20 [Val]: 100%|██████████| 24/24 [00:05<00:00,  4.42it/s, loss=1.54]\n"
     ]
    },
    {
     "name": "stdout",
     "output_type": "stream",
     "text": [
      "Epoch 13/20 | Train Loss: 1.3908 | Val Loss: 1.3245\n"
     ]
    },
    {
     "name": "stderr",
     "output_type": "stream",
     "text": [
      "Epoch 14/20 [Train]: 100%|██████████| 186/186 [02:13<00:00,  1.39it/s, loss=1.26]\n",
      "Epoch 14/20 [Val]: 100%|██████████| 24/24 [00:05<00:00,  4.50it/s, loss=1.43]\n"
     ]
    },
    {
     "name": "stdout",
     "output_type": "stream",
     "text": [
      "Epoch 14/20 | Train Loss: 1.3098 | Val Loss: 1.2255\n"
     ]
    },
    {
     "name": "stderr",
     "output_type": "stream",
     "text": [
      "Epoch 15/20 [Train]: 100%|██████████| 186/186 [02:13<00:00,  1.39it/s, loss=1.26] \n",
      "Epoch 15/20 [Val]: 100%|██████████| 24/24 [00:05<00:00,  4.38it/s, loss=1.3] \n"
     ]
    },
    {
     "name": "stdout",
     "output_type": "stream",
     "text": [
      "Epoch 15/20 | Train Loss: 1.2261 | Val Loss: 1.1531\n"
     ]
    },
    {
     "name": "stderr",
     "output_type": "stream",
     "text": [
      "Epoch 16/20 [Train]: 100%|██████████| 186/186 [02:13<00:00,  1.39it/s, loss=1]    \n",
      "Epoch 16/20 [Val]: 100%|██████████| 24/24 [00:05<00:00,  4.31it/s, loss=1.24] \n"
     ]
    },
    {
     "name": "stdout",
     "output_type": "stream",
     "text": [
      "Epoch 16/20 | Train Loss: 1.1528 | Val Loss: 1.0929\n"
     ]
    },
    {
     "name": "stderr",
     "output_type": "stream",
     "text": [
      "Epoch 17/20 [Train]: 100%|██████████| 186/186 [02:13<00:00,  1.39it/s, loss=1.41] \n",
      "Epoch 17/20 [Val]: 100%|██████████| 24/24 [00:05<00:00,  4.16it/s, loss=1.2]  \n"
     ]
    },
    {
     "name": "stdout",
     "output_type": "stream",
     "text": [
      "Epoch 17/20 | Train Loss: 1.0963 | Val Loss: 1.0314\n"
     ]
    },
    {
     "name": "stderr",
     "output_type": "stream",
     "text": [
      "Epoch 18/20 [Train]: 100%|██████████| 186/186 [02:13<00:00,  1.39it/s, loss=1.08] \n",
      "Epoch 18/20 [Val]: 100%|██████████| 24/24 [00:05<00:00,  4.43it/s, loss=1.14] \n"
     ]
    },
    {
     "name": "stdout",
     "output_type": "stream",
     "text": [
      "Epoch 18/20 | Train Loss: 1.0308 | Val Loss: 0.9887\n"
     ]
    },
    {
     "name": "stderr",
     "output_type": "stream",
     "text": [
      "Epoch 19/20 [Train]: 100%|██████████| 186/186 [02:13<00:00,  1.39it/s, loss=1.17] \n",
      "Epoch 19/20 [Val]: 100%|██████████| 24/24 [00:05<00:00,  4.50it/s, loss=1.11] \n"
     ]
    },
    {
     "name": "stdout",
     "output_type": "stream",
     "text": [
      "Epoch 19/20 | Train Loss: 0.9794 | Val Loss: 0.9487\n"
     ]
    },
    {
     "name": "stderr",
     "output_type": "stream",
     "text": [
      "Epoch 20/20 [Train]: 100%|██████████| 186/186 [02:13<00:00,  1.40it/s, loss=0.507]\n",
      "Epoch 20/20 [Val]: 100%|██████████| 24/24 [00:05<00:00,  4.38it/s, loss=1.07] \n"
     ]
    },
    {
     "name": "stdout",
     "output_type": "stream",
     "text": [
      "Epoch 20/20 | Train Loss: 0.9306 | Val Loss: 0.9280\n"
     ]
    }
   ],
   "source": [
    "vocab_size = tokenizer.vocab_size\n",
    "train(model, train_loader, val_loader, vocab_size, lr=1e-3)"
   ]
  },
  {
   "cell_type": "code",
   "execution_count": 43,
   "metadata": {},
   "outputs": [
    {
     "name": "stderr",
     "output_type": "stream",
     "text": [
      "Epoch 1/20 [Train]: 100%|██████████| 186/186 [02:13<00:00,  1.40it/s, loss=1.26] \n",
      "Epoch 1/20 [Val]: 100%|██████████| 24/24 [00:05<00:00,  4.26it/s, loss=1.06] \n"
     ]
    },
    {
     "name": "stdout",
     "output_type": "stream",
     "text": [
      "Epoch 1/20 | Train Loss: 0.9086 | Val Loss: 0.8915\n"
     ]
    },
    {
     "name": "stderr",
     "output_type": "stream",
     "text": [
      "Epoch 2/20 [Train]: 100%|██████████| 186/186 [02:13<00:00,  1.39it/s, loss=1.07] \n",
      "Epoch 2/20 [Val]: 100%|██████████| 24/24 [00:05<00:00,  4.35it/s, loss=1.02] \n"
     ]
    },
    {
     "name": "stdout",
     "output_type": "stream",
     "text": [
      "Epoch 2/20 | Train Loss: 0.8648 | Val Loss: 0.8798\n"
     ]
    },
    {
     "name": "stderr",
     "output_type": "stream",
     "text": [
      "Epoch 3/20 [Train]: 100%|██████████| 186/186 [02:13<00:00,  1.40it/s, loss=0.765]\n",
      "Epoch 3/20 [Val]: 100%|██████████| 24/24 [00:05<00:00,  4.38it/s, loss=1.03] \n"
     ]
    },
    {
     "name": "stdout",
     "output_type": "stream",
     "text": [
      "Epoch 3/20 | Train Loss: 0.8276 | Val Loss: 0.8549\n"
     ]
    },
    {
     "name": "stderr",
     "output_type": "stream",
     "text": [
      "Epoch 4/20 [Train]: 100%|██████████| 186/186 [02:13<00:00,  1.39it/s, loss=0.897]\n",
      "Epoch 4/20 [Val]: 100%|██████████| 24/24 [00:05<00:00,  4.47it/s, loss=1.02] \n"
     ]
    },
    {
     "name": "stdout",
     "output_type": "stream",
     "text": [
      "Epoch 4/20 | Train Loss: 0.7969 | Val Loss: 0.8447\n"
     ]
    },
    {
     "name": "stderr",
     "output_type": "stream",
     "text": [
      "Epoch 5/20 [Train]: 100%|██████████| 186/186 [02:13<00:00,  1.39it/s, loss=0.907]\n",
      "Epoch 5/20 [Val]: 100%|██████████| 24/24 [00:05<00:00,  4.48it/s, loss=0.992]\n"
     ]
    },
    {
     "name": "stdout",
     "output_type": "stream",
     "text": [
      "Epoch 5/20 | Train Loss: 0.7683 | Val Loss: 0.8354\n"
     ]
    },
    {
     "name": "stderr",
     "output_type": "stream",
     "text": [
      "Epoch 6/20 [Train]: 100%|██████████| 186/186 [02:13<00:00,  1.39it/s, loss=1.17] \n",
      "Epoch 6/20 [Val]: 100%|██████████| 24/24 [00:05<00:00,  4.21it/s, loss=0.991]\n"
     ]
    },
    {
     "name": "stdout",
     "output_type": "stream",
     "text": [
      "Epoch 6/20 | Train Loss: 0.7459 | Val Loss: 0.8166\n"
     ]
    },
    {
     "name": "stderr",
     "output_type": "stream",
     "text": [
      "Epoch 7/20 [Train]: 100%|██████████| 186/186 [02:13<00:00,  1.39it/s, loss=0.724]\n",
      "Epoch 7/20 [Val]: 100%|██████████| 24/24 [00:05<00:00,  4.29it/s, loss=0.999]\n"
     ]
    },
    {
     "name": "stdout",
     "output_type": "stream",
     "text": [
      "Epoch 7/20 | Train Loss: 0.7208 | Val Loss: 0.8155\n"
     ]
    },
    {
     "name": "stderr",
     "output_type": "stream",
     "text": [
      "Epoch 8/20 [Train]: 100%|██████████| 186/186 [02:13<00:00,  1.39it/s, loss=0.731]\n",
      "Epoch 8/20 [Val]: 100%|██████████| 24/24 [00:05<00:00,  4.30it/s, loss=0.975]\n"
     ]
    },
    {
     "name": "stdout",
     "output_type": "stream",
     "text": [
      "Epoch 8/20 | Train Loss: 0.6946 | Val Loss: 0.8087\n"
     ]
    },
    {
     "name": "stderr",
     "output_type": "stream",
     "text": [
      "Epoch 9/20 [Train]: 100%|██████████| 186/186 [02:13<00:00,  1.39it/s, loss=0.557]\n",
      "Epoch 9/20 [Val]: 100%|██████████| 24/24 [00:05<00:00,  4.27it/s, loss=0.977]\n"
     ]
    },
    {
     "name": "stdout",
     "output_type": "stream",
     "text": [
      "Epoch 9/20 | Train Loss: 0.6693 | Val Loss: 0.8110\n"
     ]
    },
    {
     "name": "stderr",
     "output_type": "stream",
     "text": [
      "Epoch 10/20 [Train]: 100%|██████████| 186/186 [02:13<00:00,  1.39it/s, loss=0.647]\n",
      "Epoch 10/20 [Val]: 100%|██████████| 24/24 [00:05<00:00,  4.34it/s, loss=0.988]\n"
     ]
    },
    {
     "name": "stdout",
     "output_type": "stream",
     "text": [
      "Epoch 10/20 | Train Loss: 0.6563 | Val Loss: 0.8140\n"
     ]
    },
    {
     "name": "stderr",
     "output_type": "stream",
     "text": [
      "Epoch 11/20 [Train]: 100%|██████████| 186/186 [02:13<00:00,  1.39it/s, loss=1.36] \n",
      "Epoch 11/20 [Val]: 100%|██████████| 24/24 [00:05<00:00,  4.18it/s, loss=0.97] \n"
     ]
    },
    {
     "name": "stdout",
     "output_type": "stream",
     "text": [
      "Epoch 11/20 | Train Loss: 0.6367 | Val Loss: 0.7977\n"
     ]
    },
    {
     "name": "stderr",
     "output_type": "stream",
     "text": [
      "Epoch 12/20 [Train]: 100%|██████████| 186/186 [02:13<00:00,  1.39it/s, loss=0.51] \n",
      "Epoch 12/20 [Val]: 100%|██████████| 24/24 [00:05<00:00,  4.39it/s, loss=0.965]\n"
     ]
    },
    {
     "name": "stdout",
     "output_type": "stream",
     "text": [
      "Epoch 12/20 | Train Loss: 0.6143 | Val Loss: 0.8087\n"
     ]
    },
    {
     "name": "stderr",
     "output_type": "stream",
     "text": [
      "Epoch 13/20 [Train]: 100%|██████████| 186/186 [02:13<00:00,  1.39it/s, loss=0.536]\n",
      "Epoch 13/20 [Val]: 100%|██████████| 24/24 [00:05<00:00,  4.52it/s, loss=1.02] \n"
     ]
    },
    {
     "name": "stdout",
     "output_type": "stream",
     "text": [
      "Epoch 13/20 | Train Loss: 0.5914 | Val Loss: 0.8192\n"
     ]
    },
    {
     "name": "stderr",
     "output_type": "stream",
     "text": [
      "Epoch 14/20 [Train]: 100%|██████████| 186/186 [02:13<00:00,  1.39it/s, loss=0.951]\n",
      "Epoch 14/20 [Val]: 100%|██████████| 24/24 [00:05<00:00,  4.19it/s, loss=0.986]\n"
     ]
    },
    {
     "name": "stdout",
     "output_type": "stream",
     "text": [
      "Epoch 14/20 | Train Loss: 0.5758 | Val Loss: 0.8125\n"
     ]
    },
    {
     "name": "stderr",
     "output_type": "stream",
     "text": [
      "Epoch 15/20 [Train]:  13%|█▎        | 25/186 [00:19<02:05,  1.29it/s, loss=0.61] \n"
     ]
    },
    {
     "ename": "KeyboardInterrupt",
     "evalue": "",
     "output_type": "error",
     "traceback": [
      "\u001b[0;31m---------------------------------------------------------------------------\u001b[0m",
      "\u001b[0;31mKeyboardInterrupt\u001b[0m                         Traceback (most recent call last)",
      "Cell \u001b[0;32mIn[43], line 1\u001b[0m\n\u001b[0;32m----> 1\u001b[0m \u001b[43mtrain\u001b[49m\u001b[43m(\u001b[49m\u001b[43mmodel\u001b[49m\u001b[43m,\u001b[49m\u001b[43m \u001b[49m\u001b[43mtrain_loader\u001b[49m\u001b[43m,\u001b[49m\u001b[43m \u001b[49m\u001b[43mval_loader\u001b[49m\u001b[43m,\u001b[49m\u001b[43m \u001b[49m\u001b[43mvocab_size\u001b[49m\u001b[43m,\u001b[49m\u001b[43m \u001b[49m\u001b[43mlr\u001b[49m\u001b[38;5;241;43m=\u001b[39;49m\u001b[38;5;241;43m1e-3\u001b[39;49m\u001b[43m)\u001b[49m\n",
      "Cell \u001b[0;32mIn[13], line 33\u001b[0m, in \u001b[0;36mtrain\u001b[0;34m(model, train_loader, val_loader, vocab_size, num_epochs, lr, device)\u001b[0m\n\u001b[1;32m     30\u001b[0m     loss\u001b[38;5;241m.\u001b[39mbackward()\n\u001b[1;32m     31\u001b[0m     optimizer\u001b[38;5;241m.\u001b[39mstep()\n\u001b[0;32m---> 33\u001b[0m     total_train_loss \u001b[38;5;241m+\u001b[39m\u001b[38;5;241m=\u001b[39m \u001b[43mloss\u001b[49m\u001b[38;5;241;43m.\u001b[39;49m\u001b[43mitem\u001b[49m\u001b[43m(\u001b[49m\u001b[43m)\u001b[49m\n\u001b[1;32m     34\u001b[0m     pbar\u001b[38;5;241m.\u001b[39mset_postfix(loss\u001b[38;5;241m=\u001b[39mloss\u001b[38;5;241m.\u001b[39mitem())\n\u001b[1;32m     36\u001b[0m avg_train_loss \u001b[38;5;241m=\u001b[39m total_train_loss \u001b[38;5;241m/\u001b[39m \u001b[38;5;28mlen\u001b[39m(train_loader)\n",
      "\u001b[0;31mKeyboardInterrupt\u001b[0m: "
     ]
    }
   ],
   "source": [
    "train(model, train_loader, val_loader, vocab_size, lr=1e-3)"
   ]
  },
  {
   "cell_type": "code",
   "execution_count": 33,
   "metadata": {},
   "outputs": [],
   "source": [
    "vocab_size = len(tokenizer)\n",
    "\n",
    "config = GPT2Config(\n",
    "    vocab_size=vocab_size,\n",
    "    n_positions=1024,\n",
    "    n_embd=512,\n",
    "    n_layer=8,\n",
    "    n_head=8,\n",
    "    bos_token_id=tokenizer[\"BOS_None\"],\n",
    "    eos_token_id=tokenizer[\"EOS_None\"],\n",
    "    pad_token_id=tokenizer[\"PAD_None\"]\n",
    ")\n",
    "\n",
    "model = GPT2LMHeadModel(config)"
   ]
  },
  {
   "cell_type": "code",
   "execution_count": 12,
   "metadata": {},
   "outputs": [
    {
     "data": {
      "text/plain": [
       "<All keys matched successfully>"
      ]
     },
     "execution_count": 12,
     "metadata": {},
     "output_type": "execute_result"
    }
   ],
   "source": [
    "model.load_state_dict(torch.load(\"best_transformer_model.pt\"))"
   ]
  },
  {
   "cell_type": "code",
   "execution_count": 32,
   "metadata": {},
   "outputs": [
    {
     "name": "stderr",
     "output_type": "stream",
     "text": [
      "/tmp/ipykernel_269/2442309378.py:24: UserWarning: miditok: The `tokens_to_midi` method had been renamed `decode`. It is now depreciated and will be removed in future updates.\n",
      "  midi_obj = tokenizer.tokens_to_midi([tokens])\n"
     ]
    }
   ],
   "source": [
    "model.eval().to(\"cuda\")\n",
    "\n",
    "for i in range(len(test_dataset)):\n",
    "\n",
    "    # Prepare generation input\n",
    "    bos_token = tokenizer[\"BOS_None\"]\n",
    "    input_ids = torch.tensor([[bos_token]], device=\"cuda\")  # shape: (1, 1)\n",
    "    \n",
    "    # Generate tokens\n",
    "    with torch.no_grad():\n",
    "        generated_ids = model.generate(\n",
    "            input_ids=input_ids,\n",
    "            max_length=1024,\n",
    "            do_sample=True,\n",
    "            temperature=1.11,\n",
    "            top_k=50,\n",
    "            top_p=0.95,\n",
    "            eos_token_id=tokenizer[\"EOS_None\"],\n",
    "            pad_token_id=tokenizer[\"PAD_None\"],\n",
    "        )\n",
    "    \n",
    "    # Decode back to MIDI\n",
    "    tokens = generated_ids[0].tolist()\n",
    "    midi_obj = tokenizer.tokens_to_midi([tokens])\n",
    "    #midi_obj.dump_midi(\"generated_sample.mid\")\n",
    "    midi_obj.dump_midi(f\"transformer/{i}.mid\")\n"
   ]
  },
  {
   "cell_type": "code",
   "execution_count": null,
   "metadata": {},
   "outputs": [],
   "source": []
  },
  {
   "cell_type": "markdown",
   "metadata": {},
   "source": [
    "## Evaluation of Transformer"
   ]
  },
  {
   "cell_type": "code",
   "execution_count": 39,
   "metadata": {},
   "outputs": [],
   "source": [
    "def compute_perplexity(model, test_loader, device='cuda'):\n",
    "    model.eval()\n",
    "    model.to(device)\n",
    "\n",
    "    criterion = nn.CrossEntropyLoss(ignore_index=tokenizer.pad_token_id, reduction='sum')  # sum to compute avg later\n",
    "    total_loss = 0\n",
    "    total_tokens = 0\n",
    "\n",
    "    with torch.no_grad():\n",
    "        for batch in tqdm(test_loader, desc=\"Evaluating\"):\n",
    "            input_ids = batch['input_ids'].to(device)\n",
    "\n",
    "            inputs = input_ids[:, :-1]        # shift inputs\n",
    "            targets = input_ids[:, 1:]        # shift targets\n",
    "\n",
    "            outputs = model(inputs)\n",
    "            logits = outputs.logits           # (batch_size, seq_len, vocab_size)\n",
    "\n",
    "            logits = logits.reshape(-1, logits.size(-1))\n",
    "            targets = targets.reshape(-1)\n",
    "\n",
    "            loss = criterion(logits, targets)\n",
    "            total_loss += loss.item()\n",
    "            total_tokens += (targets != tokenizer.pad_token_id).sum().item()\n",
    "\n",
    "    avg_loss = total_loss / total_tokens\n",
    "    perplexity = math.exp(avg_loss)\n",
    "    #print(f\"Perplexity: {perplexity:.4f}\")\n",
    "    return perplexity\n"
   ]
  },
  {
   "cell_type": "code",
   "execution_count": 41,
   "metadata": {},
   "outputs": [
    {
     "name": "stderr",
     "output_type": "stream",
     "text": [
      "Evaluating: 100%|██████████| 186/186 [00:37<00:00,  4.99it/s]"
     ]
    },
    {
     "name": "stdout",
     "output_type": "stream",
     "text": [
      "Transformer Train Perplexity 1.6511208143361296\n"
     ]
    },
    {
     "name": "stderr",
     "output_type": "stream",
     "text": [
      "\n"
     ]
    }
   ],
   "source": [
    "print(\"Transformer Train Perplexity\", compute_perplexity(model, train_loader))"
   ]
  },
  {
   "cell_type": "code",
   "execution_count": 42,
   "metadata": {},
   "outputs": [
    {
     "name": "stderr",
     "output_type": "stream",
     "text": [
      "Evaluating: 100%|██████████| 24/24 [00:06<00:00,  3.77it/s]"
     ]
    },
    {
     "name": "stdout",
     "output_type": "stream",
     "text": [
      "Transformer Validation Perplexity 2.2039724552282984\n"
     ]
    },
    {
     "name": "stderr",
     "output_type": "stream",
     "text": [
      "\n"
     ]
    }
   ],
   "source": [
    "print(\"Transformer Validation Perplexity\", compute_perplexity(model, val_loader))"
   ]
  },
  {
   "cell_type": "code",
   "execution_count": 40,
   "metadata": {},
   "outputs": [
    {
     "name": "stderr",
     "output_type": "stream",
     "text": [
      "Evaluating: 100%|██████████| 24/24 [00:05<00:00,  4.13it/s]"
     ]
    },
    {
     "name": "stdout",
     "output_type": "stream",
     "text": [
      "Transformer Test Perplexity 2.203942218495373\n"
     ]
    },
    {
     "name": "stderr",
     "output_type": "stream",
     "text": [
      "\n"
     ]
    }
   ],
   "source": [
    "print(\"Transformer Test Perplexity\", compute_perplexity(model, test_loader))"
   ]
  },
  {
   "cell_type": "code",
   "execution_count": null,
   "metadata": {},
   "outputs": [],
   "source": []
  },
  {
   "cell_type": "markdown",
   "metadata": {},
   "source": [
    "## Evaluation of all models based on Maximum Mean Discrepancy"
   ]
  },
  {
   "cell_type": "code",
   "execution_count": 47,
   "metadata": {},
   "outputs": [],
   "source": [
    "def features(path):\n",
    "    midi_obj = miditoolkit.MidiFile(path)\n",
    "    ticks_per_beat = midi_obj.ticks_per_beat\n",
    "    notes = [n for inst in midi_obj.instruments for n in inst.notes if not inst.is_drum]\n",
    "\n",
    "    if len(notes) <= 1:\n",
    "        return None\n",
    "    \n",
    "    max_tick = max(n.end for n in notes)\n",
    "\n",
    "    # Pitch features (6)\n",
    "    pitches = np.array([n.pitch for n in notes])\n",
    "    mean_pitch = np.mean(pitches)\n",
    "    pitch_std = np.std(pitches)\n",
    "    max_pitch = np.max(pitches)\n",
    "    min_pitch = np.min(pitches)\n",
    "    pitch_range = max_pitch - min_pitch\n",
    "    pitch_entropy = stats.entropy(np.bincount(pitches) / len(pitches))\n",
    "    pitch_range_90 = max_pitch - np.percentile(pitches, 90)\n",
    "    pitch_range_10 = np.percentile(pitches, 10) - min_pitch\n",
    "\n",
    "    durations = np.array([(n.end - n.start) / ticks_per_beat for n in notes])\n",
    "    mean_duration = np.mean(durations)\n",
    "    duration_std = np.std(durations)\n",
    "\n",
    "    # 3. Pitch class histogram (12D)\n",
    "    pitch_classes = pitches % 12\n",
    "    histogram = np.zeros(12)\n",
    "    counts = Counter(pitch_classes)\n",
    "    for pc in counts:\n",
    "        histogram[pc] = counts[pc]\n",
    "    pitch_class_histogram = histogram / len(pitches)  # Normalize\n",
    "\n",
    "    intervals = np.diff(pitches)\n",
    "    mean_interval = np.mean(intervals)\n",
    "    std_interval = np.std(intervals)\n",
    "    interval_hist = np.histogram(intervals, bins=np.arange(-12.5, 13.5, 2))[0]\n",
    "    interval_hist = interval_hist / np.sum(interval_hist) if np.sum(interval_hist) else interval_hist\n",
    "    interval_hist = interval_hist.tolist()\n",
    "    \n",
    "    #short_thresh = ticks_per_beat / 4\n",
    "    #pct_short_notes = np.sum(durations < short_thresh) / len(durations)\n",
    "    total_ticks = max(n.end for n in notes)\n",
    "    tempo = 120\n",
    "    avg_tempo = 0\n",
    "    tempo_cnt = 0\n",
    "    if midi_obj.tempo_changes:\n",
    "        tempo = midi_obj.tempo_changes[0].tempo\n",
    "        for temp in midi_obj.tempo_changes:\n",
    "            #avg_tempo += 60000000 / temp.tempo\n",
    "            avg_tempo += temp.tempo\n",
    "            tempo_cnt += 1\n",
    "    avg_tempo = avg_tempo / tempo_cnt if tempo_cnt > 0 else 120\n",
    "    total_sec = (total_ticks / ticks_per_beat) * (60 / avg_tempo)\n",
    "\n",
    "\n",
    "    # Polyphony/Texture features (5)\n",
    "    concurrent = np.zeros(total_ticks + 1)\n",
    "    for n in notes:\n",
    "        concurrent[n.start:n.end] += 1\n",
    "    poly_active = concurrent[concurrent > 0]\n",
    "    avg_polyphony = np.mean(poly_active)\n",
    "    max_polyphony = np.max(poly_active)\n",
    "    monophonic_ratio = np.sum(poly_active == 1) / len(poly_active)\n",
    "    polyphony_std = np.std(poly_active)\n",
    "    pct_time_polyphonic = np.sum(poly_active >= 3) / len(poly_active)\n",
    "    \n",
    "\n",
    "    # Metadata/Time Signature/Tempo (8)\n",
    "    time_sig = (4, 4)\n",
    "    if midi_obj.time_signature_changes:\n",
    "        ts = midi_obj.time_signature_changes[0]\n",
    "        time_sig = (ts.numerator, ts.denominator)\n",
    "    time_sig_onehot = [0, 0, 0, 0]  # 4/4, 3/4, other\n",
    "    if time_sig == (4, 4):\n",
    "        time_sig_onehot[0] = 1\n",
    "    elif time_sig == (3, 4):\n",
    "        time_sig_onehot[1] = 1\n",
    "    elif time_sig == (2, 4):\n",
    "        time_sig_onehot[2] = 1\n",
    "    else:\n",
    "        time_sig_onehot[3] = 1\n",
    "\n",
    "    unique_pitches = len(set(pitches))\n",
    "    \n",
    "    velocities = [note.velocity for note in notes]\n",
    "    avg_velocity = np.mean(velocities)\n",
    "    velocity_std = np.std(velocities)\n",
    "    max_velocity = np.max(velocities)\n",
    "    min_velocity = np.min(velocities)\n",
    "    velocity_range = max_velocity - min_velocity\n",
    "\n",
    "    # crude heuristic: look at minor vs major thirds\n",
    "    third_intervals = [abs(n2.pitch - n1.pitch) for n1, n2 in zip(notes[:-1], notes[1:])]\n",
    "    minor_thirds = sum(1 for i in third_intervals if i == 3)\n",
    "    major_thirds = sum(1 for i in third_intervals if i == 4)\n",
    "    mode_flag = 1 if major_thirds >= minor_thirds else 0  # 1 = major, 0 = minor\n",
    "\n",
    "    \n",
    "    #keysig [0,5,8,10\n",
    "    key_signature = midi_obj.key_signature_changes[0].key_number if midi_obj.key_signature_changes else -1\n",
    "    key_sig_onehot = [0]*5\n",
    "    if key_signature == 0:\n",
    "        key_sig_onehot[0] = 1\n",
    "    elif key_signature == 5:\n",
    "        key_sig_onehot[1] = 1\n",
    "    elif key_signature == 8:\n",
    "        key_sig_onehot[2] = 1\n",
    "    elif key_signature == 10:\n",
    "        key_sig_onehot[3] = 1\n",
    "    else:\n",
    "        key_sig_onehot[4] = 1\n",
    "\n",
    "    \n",
    "    return [\n",
    "        pitch_std, pitch_range, pitch_entropy, unique_pitches,\n",
    "        *pitch_class_histogram[0:3],*pitch_class_histogram[7:9],\n",
    "        *interval_hist[1:6], *interval_hist[7:9],\n",
    "        avg_polyphony, max_polyphony, monophonic_ratio, polyphony_std, #pct_time_polyphonic,\n",
    "        avg_velocity, velocity_std, velocity_range, avg_tempo,\n",
    "        *time_sig_onehot\n",
    "    ]\n",
    "\n"
   ]
  },
  {
   "cell_type": "code",
   "execution_count": 33,
   "metadata": {},
   "outputs": [],
   "source": [
    "test_features = [features(path) for path in test_files]"
   ]
  },
  {
   "cell_type": "code",
   "execution_count": 43,
   "metadata": {},
   "outputs": [
    {
     "data": {
      "text/plain": [
       "(370, 370, 370)"
      ]
     },
     "execution_count": 43,
     "metadata": {},
     "output_type": "execute_result"
    }
   ],
   "source": [
    "markov_generated_files = glob.glob(\"./markov/*.mid\")\n",
    "lstm_generated_files = glob.glob(\"./lstm/*.mid\")\n",
    "transformer_generated_files = glob.glob(\"./transformer/*.mid\")\n",
    "\n",
    "len(markov_generated_files), len(lstm_generated_files), len(transformer_generated_files)"
   ]
  },
  {
   "cell_type": "code",
   "execution_count": 48,
   "metadata": {},
   "outputs": [],
   "source": [
    "markov_features = [features(path) for path in markov_generated_files]\n",
    "lstm_features = [features(path) for path in lstm_generated_files]\n",
    "transformer_features = [features(path) for path in transformer_generated_files]"
   ]
  },
  {
   "cell_type": "code",
   "execution_count": 49,
   "metadata": {},
   "outputs": [
    {
     "data": {
      "text/plain": [
       "(370, 370, 370)"
      ]
     },
     "execution_count": 49,
     "metadata": {},
     "output_type": "execute_result"
    }
   ],
   "source": [
    "len(markov_features), len(lstm_features), len(transformer_features)"
   ]
  },
  {
   "cell_type": "code",
   "execution_count": 50,
   "metadata": {},
   "outputs": [
    {
     "data": {
      "text/plain": [
       "(365, 370, 370)"
      ]
     },
     "execution_count": 50,
     "metadata": {},
     "output_type": "execute_result"
    }
   ],
   "source": [
    "markov_features = [item for item in markov_features if item is not None]\n",
    "lstm_features = [item for item in lstm_features if item is not None]\n",
    "transformer_features = [item for item in transformer_features if item is not None]\n",
    "\n",
    "len(markov_features), len(lstm_features), len(transformer_features)"
   ]
  },
  {
   "cell_type": "code",
   "execution_count": 61,
   "metadata": {},
   "outputs": [],
   "source": [
    "from sklearn.metrics.pairwise import rbf_kernel\n",
    "\n",
    "def mmd(X, Y, gamma=1/28):\n",
    "    K_xx = rbf_kernel(X, X, gamma=gamma)\n",
    "    K_yy = rbf_kernel(Y, Y, gamma=gamma)\n",
    "    K_xy = rbf_kernel(X, Y, gamma=gamma)\n",
    "    return K_xx.mean() + K_yy.mean() - 2 * K_xy.mean()"
   ]
  },
  {
   "cell_type": "code",
   "execution_count": 65,
   "metadata": {},
   "outputs": [
    {
     "name": "stdout",
     "output_type": "stream",
     "text": [
      "Markov MMD: \t\t 0.2302672783930438\n",
      "LSTM MMD: \t\t 0.008489302312201658\n",
      "Transformer MMD: \t 0.0077630416945960465\n"
     ]
    }
   ],
   "source": [
    "print(\"Markov MMD: \\t\\t\", mmd(markov_features, test_features))\n",
    "print(\"LSTM MMD: \\t\\t\", mmd(lstm_features, test_features))\n",
    "print(\"Transformer MMD: \\t\", mmd(transformer_features, test_features))"
   ]
  },
  {
   "cell_type": "code",
   "execution_count": null,
   "metadata": {},
   "outputs": [],
   "source": []
  },
  {
   "cell_type": "markdown",
   "id": "1a4b1309",
   "metadata": {},
   "source": [
    "# Task 2: Symbolic, Conditioned Generation"
   ]
  },
  {
   "cell_type": "markdown",
   "id": "464c6ed9",
   "metadata": {},
   "source": [
    "## Setup"
   ]
  },
  {
   "cell_type": "code",
   "execution_count": 1,
   "id": "6e2ec1ad",
   "metadata": {},
   "outputs": [],
   "source": [
    "import os\n",
    "import random\n",
    "import numpy as np\n",
    "import torch\n",
    "import torch.nn as nn\n",
    "import torch.nn.functional as F\n",
    "from torch.utils.data import Dataset, DataLoader\n",
    "import pandas as pd\n",
    "import matplotlib.pyplot as plt\n",
    "\n",
    "from music21 import corpus, note, chord, stream, interval\n",
    "import mido\n",
    "from collections import defaultdict, Counter\n",
    "\n",
    "SEED           = 420\n",
    "DEVICE         = torch.device(\"cuda\" if torch.cuda.is_available() else \"cpu\")\n",
    "\n",
    "INPUT_DIM      = 12\n",
    "HIDDEN_UNITS   = 512\n",
    "HIDDEN_UNITS2   = 64\n",
    "OUTPUT_DIM     = 12\n",
    "DROPOUT_RATE   = 0.1\n",
    "\n",
    "EPOCHS         = 200\n",
    "BATCH_SIZE     = 32\n",
    "LEARNING_RATE  = 1e-3\n",
    "VAL_RATIO      = 0.2\n",
    "\n",
    "MEASURE_LENGTH = 4.0\n",
    "\n",
    "WEIGHTS_PATH   = \"best_bach_mlp_roots_augmented.pt\"\n",
    "\n",
    "def set_seed(seed=SEED):\n",
    "    random.seed(seed)\n",
    "    np.random.seed(seed)\n",
    "    torch.manual_seed(seed)\n",
    "    if torch.cuda.is_available():\n",
    "        torch.cuda.manual_seed_all(seed)\n",
    "\n",
    "set_seed()"
   ]
  },
  {
   "cell_type": "markdown",
   "id": "ef6f6939",
   "metadata": {},
   "source": [
    "## Exploratory Data Analysis"
   ]
  },
  {
   "cell_type": "code",
   "execution_count": 5,
   "id": "10f356e2",
   "metadata": {},
   "outputs": [
    {
     "name": "stdout",
     "output_type": "stream",
     "text": [
      "    root_pc  count root_name\n",
      "5         0     26         C\n",
      "11        1      4     C♯/D♭\n",
      "4         2     59         D\n",
      "9         3     13     D♯/E♭\n",
      "2         4     38         E\n",
      "3         5     24         F\n",
      "6         6     16     F♯/G♭\n",
      "0         7     83         G\n",
      "10        8      2     G♯/A♭\n",
      "1         9     60         A\n",
      "7        10     29     A♯/B♭\n",
      "8        11     22         B\n"
     ]
    },
    {
     "data": {
      "image/png": "[encoded data removed]",
      "text/plain": [
       "<Figure size 640x480 with 1 Axes>"
      ]
     },
     "metadata": {
      "image/png": {
       "height": 477,
       "width": 563
      }
     },
     "output_type": "display_data"
    }
   ],
   "source": [
    "# 1) Extract bars & roots per chorale\n",
    "def extract_measure_data(score_obj):\n",
    "    MEASURE_LENGTH = 4.0\n",
    "    if isinstance(score_obj, stream.Opus):\n",
    "        seq = []\n",
    "        for sub in score_obj:\n",
    "            seq.extend(extract_measure_data(sub))\n",
    "        return seq\n",
    "\n",
    "    parts = score_obj.parts\n",
    "    soprano_events = [ev for ev in parts[0].recurse()\n",
    "                      .getElementsByClass((note.Note, chord.Chord))]\n",
    "    bass_events = [ev for ev in parts[-1].recurse()\n",
    "                   .getElementsByClass((note.Note, chord.Chord))]\n",
    "\n",
    "    total_q = score_obj.highestTime\n",
    "    n_bars = int(np.ceil(total_q / MEASURE_LENGTH))\n",
    "    bar_data = []\n",
    "\n",
    "    for i in range(n_bars):\n",
    "        start_t, end_t = i*4.0, (i+1)*4.0\n",
    "        hist = np.zeros(12, dtype=int)\n",
    "        for ev in soprano_events:\n",
    "            if start_t <= ev.offset < end_t:\n",
    "                pc = ev.pitch.pitchClass if isinstance(ev, note.Note) \\\n",
    "                     else max(p.pitchClass for p in ev.pitches)\n",
    "                hist[pc] += 1\n",
    "        if hist.sum() == 0: continue\n",
    "\n",
    "        cands = [ev for ev in bass_events if start_t <= ev.offset < end_t]\n",
    "        if not cands: continue\n",
    "        best_b = min(cands, key=lambda ev: abs(ev.offset - start_t))\n",
    "        root_pc = best_b.pitch.pitchClass\n",
    "        bar_data.append((tuple(hist), root_pc))\n",
    "\n",
    "    return bar_data\n",
    "\n",
    "chorale_bar_counts = []\n",
    "root_counts = Counter()\n",
    "\n",
    "for idx, score in enumerate(corpus.chorales.Iterator()):\n",
    "    bars = extract_measure_data(score)\n",
    "    n_bars = len(bars)\n",
    "    if n_bars > 0:\n",
    "        chorale_bar_counts.append({'chorale_id': idx+1, 'n_bars': n_bars})\n",
    "        for _, root in bars:\n",
    "            root_counts[root] += 1\n",
    "\n",
    "# 4) Root distribution (before augmentation)\n",
    "pc_names = ['C','C♯/D♭','D','D♯/E♭','E','F','F♯/G♭','G','G♯/A♭','A','A♯/B♭','B']\n",
    "root_df = pd.DataFrame({'root_pc': list(root_counts.keys()),\n",
    "                        'count': list(root_counts.values())})\n",
    "root_df['root_name'] = root_df['root_pc'].apply(lambda x: pc_names[x])\n",
    "root_df = root_df.sort_values('root_pc')\n",
    "print(root_df)\n",
    "\n",
    "# 5) Plot root distribution\n",
    "plt.bar(root_df['root_name'], root_df['count'], color='skyblue', edgecolor='black')\n",
    "plt.title(\"Root Pitch-Class Distribution (Before Transposition)\")\n",
    "plt.xlabel(\"Root Pitch Class\")\n",
    "plt.ylabel(\"Count of Bars\")\n",
    "plt.xticks(rotation=45)\n",
    "plt.show()"
   ]
  },
  {
   "cell_type": "markdown",
   "id": "db3593d7",
   "metadata": {},
   "source": [
    "## Data Processing"
   ]
  },
  {
   "cell_type": "code",
   "execution_count": 4,
   "id": "baf95c41",
   "metadata": {},
   "outputs": [],
   "source": [
    "# ── 2) EXTRACT (histogram → root) FROM ONE Score or Opus ─────────────────────────\n",
    "def extract_measure_examples(obj):\n",
    "    if isinstance(obj, stream.Opus):\n",
    "        seq = []\n",
    "        for sub in obj:\n",
    "            try:\n",
    "                seq.extend(extract_measure_examples(sub))\n",
    "            except Exception:\n",
    "                continue\n",
    "        return seq\n",
    "\n",
    "    score = obj\n",
    "    parts = score.parts\n",
    "    if len(parts) < 1:\n",
    "        return []\n",
    "\n",
    "    soprano_events = [\n",
    "        ev for ev in parts[0].recurse().getElementsByClass((note.Note, chord.Chord))\n",
    "    ]\n",
    "    bass_events = [\n",
    "        ev for ev in parts[-1].recurse().getElementsByClass((note.Note, chord.Chord))\n",
    "    ]\n",
    "\n",
    "    total_q = score.highestTime\n",
    "    n_bars  = int(np.ceil(total_q / MEASURE_LENGTH))\n",
    "    examples = []\n",
    "\n",
    "    for i in range(n_bars):\n",
    "        start_t = i * MEASURE_LENGTH\n",
    "        end_t   = start_t + MEASURE_LENGTH\n",
    "\n",
    "        # build a 12‐dim histogram over soprano_events in [start_t, end_t)\n",
    "        hist = np.zeros(12, dtype=np.float32)\n",
    "        for ev in soprano_events:\n",
    "            if start_t <= ev.offset < end_t:\n",
    "                if isinstance(ev, note.Note):\n",
    "                    pc = ev.pitch.pitchClass\n",
    "                else:  # chord.Chord\n",
    "                    pc = max(p.pitchClass for p in ev.pitches)\n",
    "                hist[pc] += 1.0\n",
    "        if hist.sum() < 1e-6:\n",
    "            # skip bars with no soprano events\n",
    "            continue\n",
    "        hist /= hist.sum()\n",
    "\n",
    "        # find bass event closest to downbeat\n",
    "        candidates = [ev for ev in bass_events if start_t <= ev.offset < end_t]\n",
    "        if not candidates:\n",
    "            continue\n",
    "        best_bass = min(candidates, key=lambda ev: abs(ev.offset - start_t))\n",
    "        root_pc   = best_bass.pitch.pitchClass\n",
    "\n",
    "        examples.append((hist, root_pc))\n",
    "\n",
    "    return examples\n",
    "\n",
    "\n",
    "# ── 3) BUILD AUGMENTED DATASET FROM BACH CHORALES ─────────────────────────────────\n",
    "def build_bach_chorale_examples_augmented():\n",
    "    \"\"\"\n",
    "    Iterate through each chorale in music21.corpus.chorales.Iterator().\n",
    "    For each Score:\n",
    "      • For each transposition interval from 0 to 11 semitones:\n",
    "          – Make a copy of the Score, transpose by that many semitones.\n",
    "          – Extract (hist, root) pairs via extract_measure_examples().\n",
    "          – Collect all pairs.\n",
    "    Returns a flat list of (hist, root) across all transpositions of all chorales.\n",
    "    \"\"\"\n",
    "    all_examples = []\n",
    "    iterator = corpus.chorales.Iterator()\n",
    "\n",
    "    g = 0\n",
    "    for score in iterator:\n",
    "        for semitone in range(12):\n",
    "            try:\n",
    "                transposed = score.transpose(semitone)\n",
    "            except Exception:\n",
    "                print('E')\n",
    "                continue\n",
    "\n",
    "            try:\n",
    "                exs = extract_measure_examples(transposed)\n",
    "            except Exception:\n",
    "                print('E2')\n",
    "                continue\n",
    "\n",
    "            all_examples.extend(exs)\n",
    "        if g % 10 == 0:\n",
    "            print(f'done with score {g}')\n",
    "        g += 1\n",
    "\n",
    "    return all_examples\n",
    "\n",
    "\n",
    "print(\"⏳ 1) Extracting & augmenting bars from all Bach chorales …\")\n",
    "all_data = build_bach_chorale_examples_augmented()\n",
    "print(f\"   → Total augmented bars: {len(all_data)}\\n\")\n",
    "\n",
    "# Shuffle and split 80/20\n",
    "random.shuffle(all_data)\n",
    "split_idx = int((1 - VAL_RATIO) * len(all_data))\n",
    "train_data = all_data[:split_idx]\n",
    "val_data   = all_data[split_idx:]\n",
    "\n",
    "print(f\"Training bars:   {len(train_data)}\")\n",
    "print(f\"Validation bars: {len(val_data)}\\n\")\n",
    "\n",
    "\n",
    "# ── 4) TORCH DATASET FOR (hist, root) PAIRS ──────────────────────────────────────\n",
    "class BarDataset(Dataset):\n",
    "    def __init__(self, examples):\n",
    "        self.hists = [torch.tensor(e[0], dtype=torch.float32) for e in examples]\n",
    "        self.labs  = [torch.tensor(e[1], dtype=torch.long)   for e in examples]\n",
    "\n",
    "    def __len__(self):\n",
    "        return len(self.hists)\n",
    "\n",
    "    def __getitem__(self, idx):\n",
    "        return self.hists[idx], self.labs[idx]\n",
    "\n",
    "\n",
    "train_ds = BarDataset(train_data)\n",
    "val_ds   = BarDataset(val_data)\n",
    "\n",
    "train_loader = DataLoader(train_ds, batch_size=BATCH_SIZE, shuffle=True)\n",
    "val_loader   = DataLoader(val_ds,   batch_size=BATCH_SIZE, shuffle=False)"
   ]
  },
  {
   "cell_type": "markdown",
   "id": "e4f4727a",
   "metadata": {},
   "source": [
    "## Model Training"
   ]
  },
  {
   "cell_type": "code",
   "execution_count": 253,
   "id": "6e224a92",
   "metadata": {},
   "outputs": [
    {
     "name": "stdout",
     "output_type": "stream",
     "text": [
      "⏳ 2) Training MLP on augmented Bach chorale bars …\n",
      "Epoch 01 | Train Loss: 1.5396 | Val Loss: 1.1341\n",
      "  → Saved new best weights.\n",
      "Epoch 02 | Train Loss: 1.1815 | Val Loss: 1.0469\n",
      "  → Saved new best weights.\n",
      "Epoch 03 | Train Loss: 1.1230 | Val Loss: 1.0163\n",
      "  → Saved new best weights.\n",
      "Epoch 04 | Train Loss: 1.0797 | Val Loss: 1.0164\n",
      "Epoch 05 | Train Loss: 1.0571 | Val Loss: 0.9907\n",
      "  → Saved new best weights.\n",
      "Epoch 06 | Train Loss: 1.0240 | Val Loss: 0.9817\n",
      "  → Saved new best weights.\n",
      "Epoch 07 | Train Loss: 1.0332 | Val Loss: 0.9912\n",
      "Epoch 08 | Train Loss: 1.0043 | Val Loss: 0.9716\n",
      "  → Saved new best weights.\n",
      "Epoch 09 | Train Loss: 0.9855 | Val Loss: 0.9587\n",
      "  → Saved new best weights.\n",
      "Epoch 10 | Train Loss: 0.9803 | Val Loss: 0.9590\n",
      "Epoch 11 | Train Loss: 0.9591 | Val Loss: 0.9444\n",
      "  → Saved new best weights.\n",
      "Epoch 12 | Train Loss: 0.9670 | Val Loss: 0.9270\n",
      "  → Saved new best weights.\n",
      "Epoch 13 | Train Loss: 0.9424 | Val Loss: 0.9377\n",
      "Epoch 14 | Train Loss: 0.9408 | Val Loss: 0.9489\n",
      "Epoch 15 | Train Loss: 0.9289 | Val Loss: 0.9438\n",
      "  → Early stopping.\n",
      "\n",
      "✅ Training complete. Best validation loss = 0.9270\n",
      "\n"
     ]
    }
   ],
   "source": [
    "class ContextualMLP(nn.Module):\n",
    "    def __init__(self, input_dim=12, hidden1=32, hidden2=1024, hidden3=64, output_dim=12, dropout=0.08):\n",
    "        super().__init__()\n",
    "        # Layer 1\n",
    "        self.fc1    = nn.Linear(input_dim, hidden1)\n",
    "        self.bn1    = nn.BatchNorm1d(hidden1)\n",
    "        self.drop1  = nn.Dropout(dropout)\n",
    "\n",
    "        # Layer 2\n",
    "        self.fc2    = nn.Linear(hidden1, hidden2)\n",
    "        self.bn2    = nn.BatchNorm1d(hidden2)\n",
    "        self.drop2  = nn.Dropout(dropout)\n",
    "\n",
    "        # Layer 3\n",
    "        self.fc3    = nn.Linear(hidden2, hidden3)\n",
    "        self.bn3    = nn.BatchNorm1d(hidden3)\n",
    "        self.drop3  = nn.Dropout(dropout)\n",
    "\n",
    "        # Final classification\n",
    "        self.fc4    = nn.Linear(hidden3, output_dim)\n",
    "\n",
    "        # If we want a “residual” from fc1→fc3, we need to map hidden1→hidden3 if dims differ\n",
    "        if hidden1 != hidden3:\n",
    "            self.residual_mapper = nn.Linear(hidden1, hidden3)\n",
    "        else:\n",
    "            self.residual_mapper = None\n",
    "\n",
    "    def forward(self, x):\n",
    "        h1 = self.fc1(x)\n",
    "        h1 = self.bn1(h1)\n",
    "        h1 = F.relu(h1)\n",
    "        h1 = self.drop1(h1)\n",
    "\n",
    "        h2 = self.fc2(h1)\n",
    "        h2 = self.bn2(h2)\n",
    "        h2 = F.relu(h2)\n",
    "        h2 = self.drop2(h2)\n",
    "\n",
    "        h3 = self.fc3(h2\n",
    "        h3 = self.bn3(h3)\n",
    "\n",
    "        if self.residual_mapper is not None:\n",
    "            res = self.residual_mapper(h1)\n",
    "        else:\n",
    "            res = h1\n",
    "\n",
    "        h3 = F.relu(h3 + res)\n",
    "        h3 = self.drop3(h3)\n",
    "\n",
    "        logits = self.fc4(h3)\n",
    "        return logits\n",
    "\n",
    "\n",
    "\n",
    "model = ContextualMLP().to(DEVICE)\n",
    "optimizer = torch.optim.Adam(model.parameters(), lr=LEARNING_RATE, weight_decay=1e-7)\n",
    "criterion = nn.CrossEntropyLoss()\n",
    "\n",
    "\n",
    "# ── 6) TRAIN & VALIDATE ─────────────────────────────────────────────────────────\n",
    "best_val_loss = float(\"inf\")\n",
    "patience = 3\n",
    "no_improve = 0\n",
    "\n",
    "print(\"⏳ 2) Training MLP on augmented Bach chorale bars …\")\n",
    "for epoch in range(1, EPOCHS + 1):\n",
    "    # TRAIN\n",
    "    model.train()\n",
    "    train_loss = 0.0\n",
    "    train_count = 0\n",
    "\n",
    "    for x, y in train_loader:\n",
    "        x = x.to(DEVICE)\n",
    "        y = y.to(DEVICE)\n",
    "        optimizer.zero_grad()\n",
    "        logits = model(x)\n",
    "        loss = criterion(logits, y)\n",
    "        loss.backward()\n",
    "        optimizer.step()\n",
    "\n",
    "        train_loss += loss.item() * x.size(0)\n",
    "        train_count += x.size(0)\n",
    "\n",
    "    train_loss /= train_count\n",
    "\n",
    "    # VALIDATE\n",
    "    model.eval()\n",
    "    val_loss = 0.0\n",
    "    val_count = 0\n",
    "    with torch.no_grad():\n",
    "        for x, y in val_loader:\n",
    "            x = x.to(DEVICE)\n",
    "            y = y.to(DEVICE)\n",
    "            logits = model(x)\n",
    "            loss = criterion(logits, y)\n",
    "            val_loss += loss.item() * x.size(0)\n",
    "            val_count += x.size(0)\n",
    "    val_loss /= val_count\n",
    "\n",
    "    print(f\"Epoch {epoch:02d} | Train Loss: {train_loss:.4f} | Val Loss: {val_loss:.4f}\")\n",
    "\n",
    "    if val_loss < best_val_loss - 1e-4:\n",
    "        best_val_loss = val_loss\n",
    "        no_improve = 0\n",
    "        torch.save(model.state_dict(), WEIGHTS_PATH)\n",
    "        print(\"  → Saved new best weights.\")\n",
    "    else:\n",
    "        no_improve += 1\n",
    "        if no_improve >= patience:\n",
    "            print(\"  → Early stopping.\\n\")\n",
    "            break\n",
    "\n",
    "print(f\"✅ Training complete. Best validation loss = {best_val_loss:.4f}\\n\")"
   ]
  },
  {
   "cell_type": "code",
   "execution_count": 254,
   "id": "a3999e09",
   "metadata": {},
   "outputs": [],
   "source": [
    "# ── 7) INFERENCE: ONE‐CHORD‐PER‐BAR FOR A LOCAL MIDI ─────────────────────────────\n",
    "def harmonize(midi_path):\n",
    "    \"\"\"\n",
    "    1) Load local MIDI via mido (polyphony OK).\n",
    "    2) Extract monophonic soprano: highest note per tick.\n",
    "    3) Split into fixed 4/4 bars by tick: build 12‐dim histogram per bar.\n",
    "    4) Feed each histogram into trained MLP → root_pc.\n",
    "    5) Overlay one major triad per bar under original tracks and save\n",
    "       as <stem>_one_chord_bach_augmented.mid.\n",
    "    \"\"\"\n",
    "    if not os.path.isfile(midi_path):\n",
    "        print(f\"Error: '{midi_path}' not found.\")\n",
    "        return\n",
    "\n",
    "    mid = mido.MidiFile(midi_path)\n",
    "    tpb = mid.ticks_per_beat\n",
    "    ticks_per_bar = tpb * 4\n",
    "\n",
    "    raw_events = []\n",
    "    for tr in mid.tracks:\n",
    "        abs_t = 0\n",
    "        for msg in tr:\n",
    "            abs_t += msg.time\n",
    "            if msg.type == 'note_on' and msg.velocity > 0:\n",
    "                raw_events.append((abs_t, msg.note))\n",
    "    if not raw_events:\n",
    "        print(\"No note_on events found.\")\n",
    "        return\n",
    "\n",
    "    by_tick = defaultdict(list)\n",
    "    for t, n in raw_events:\n",
    "        by_tick[t].append(n)\n",
    "    sopr = [(t, max(ns)) for t, ns in by_tick.items()]\n",
    "\n",
    "    max_tick = max(t for t, _ in sopr)\n",
    "    n_bars = (max_tick // ticks_per_bar) + 1\n",
    "\n",
    "    preds = []\n",
    "    for i in range(n_bars):\n",
    "        st = i * ticks_per_bar\n",
    "        et = st + ticks_per_bar\n",
    "        hist = np.zeros(12, dtype=np.float32)\n",
    "        for t, n in sopr:\n",
    "            if st <= t < et:\n",
    "                hist[n % 12] += 1.0\n",
    "        if hist.sum() < 1e-6:\n",
    "            root_pc = 0\n",
    "        else:\n",
    "            hist /= hist.sum()\n",
    "            ht = torch.tensor(hist, dtype=torch.float32).unsqueeze(0).to(DEVICE)\n",
    "            with torch.no_grad():\n",
    "                logits = model(ht)\n",
    "                root_pc = torch.argmax(logits, dim=-1).item()\n",
    "        preds.append(root_pc)\n",
    "\n",
    "    chord_track = mido.MidiTrack()\n",
    "    for root_pc in preds:\n",
    "        base = 60 + (root_pc % 12)\n",
    "        third = base + 4\n",
    "        fifth = base + 7\n",
    "        chord_track.append(mido.Message('note_on', channel=0, note=base, velocity=64, time=0))\n",
    "        chord_track.append(mido.Message('note_on', channel=0, note=third, velocity=64, time=0))\n",
    "        chord_track.append(mido.Message('note_on', channel=0, note=fifth, velocity=64, time=0))\n",
    "        chord_track.append(mido.Message('note_off', channel=0, note=base, velocity=64, time=ticks_per_bar))\n",
    "        chord_track.append(mido.Message('note_off', channel=0, note=third, velocity=64, time=0))\n",
    "        chord_track.append(mido.Message('note_off', channel=0, note=fifth, velocity=64, time=0))\n",
    "\n",
    "    chord_track.append(mido.MetaMessage('end_of_track', time=1))\n",
    "\n",
    "    new_mid = mido.MidiFile()\n",
    "    new_mid.ticks_per_beat = mid.ticks_per_beat\n",
    "    for tr in mid.tracks:\n",
    "        new_mid.tracks.append(tr.copy())\n",
    "    new_mid.tracks.append(chord_track)\n",
    "\n",
    "    stem = os.path.splitext(os.path.basename(midi_path))[0]\n",
    "    out = f\"{stem}_harmonized.mid\"\n",
    "    new_mid.save(out)\n",
    "    print(f\"Saved → {out}\")"
   ]
  },
  {
   "cell_type": "markdown",
   "id": "67dae624",
   "metadata": {},
   "source": [
    "## Evaluation"
   ]
  },
  {
   "cell_type": "code",
   "execution_count": 261,
   "id": "783f1fe7",
   "metadata": {},
   "outputs": [
    {
     "name": "stdout",
     "output_type": "stream",
     "text": [
      "Validation Accuracy:  74.20%\n"
     ]
    },
    {
     "data": {
      "image/png": "[encoded data removed]",
      "text/plain": [
       "<Figure size 600x500 with 2 Axes>"
      ]
     },
     "metadata": {
      "image/png": {
       "height": 488,
       "width": 558
      }
     },
     "output_type": "display_data"
    }
   ],
   "source": [
    "import torch\n",
    "import matplotlib.pyplot as plt\n",
    "import numpy as np\n",
    "import seaborn as sns\n",
    "from sklearn.metrics import confusion_matrix, accuracy_score, top_k_accuracy_score\n",
    "\n",
    "# 1) Load trained model & validation DataLoader\n",
    "model.load_state_dict(torch.load(WEIGHTS_PATH))\n",
    "model.eval()\n",
    "\n",
    "all_preds = []\n",
    "all_targets = []\n",
    "\n",
    "with torch.no_grad():\n",
    "    for x_batch, y_batch in val_loader:\n",
    "        x = x_batch.to(DEVICE)\n",
    "        y = y_batch.to(DEVICE)\n",
    "        logits = model(x)\n",
    "        preds = torch.argmax(logits, dim=-1).cpu().numpy()\n",
    "        all_preds.append(preds)\n",
    "        all_targets.append(y.cpu().numpy())\n",
    "\n",
    "preds_array   = np.concatenate(all_preds)\n",
    "targets_array = np.concatenate(all_targets)\n",
    "\n",
    "# 2) Compute Overall Accuracy and Top-2 Accuracy\n",
    "acc = accuracy_score(targets_array, preds_array)\n",
    "\n",
    "print(f\"Validation Accuracy:  {acc*100:.2f}%\")\n",
    "\n",
    "# 3) Confusion Matrix\n",
    "cm = confusion_matrix(targets_array, preds_array, labels=list(range(12)))\n",
    "plt.figure(figsize=(6,5))\n",
    "sns.heatmap(cm, annot=True, fmt='d', cmap='Blues',\n",
    "            xticklabels=['C','C♯/D♭','D','D♯/E♭','E','F','F♯/G♭','G','G♯/A♭','A','A♯/B♭','B'],\n",
    "            yticklabels=['C','C♯/D♭','D','D♯/E♭','E','F','F♯/G♭','G','G♯/A♭','A','A♯/B♭','B'])\n",
    "plt.xlabel(\"Predicted Root\")\n",
    "plt.ylabel(\"True Root\")\n",
    "plt.title(\"Confusion Matrix (Validation Set)\")\n",
    "plt.tight_layout()\n",
    "plt.show()\n"
   ]
  },
  {
   "cell_type": "markdown",
   "id": "036418cf",
   "metadata": {},
   "source": [
    "## Harmonizing And Testing Local Midi Files"
   ]
  },
  {
   "cell_type": "code",
   "execution_count": 6,
   "id": "f26b0100",
   "metadata": {},
   "outputs": [],
   "source": [
    "print(\"\\nEnter path to a local MIDI file to harmonize\\n\")\n",
    "path = input(\"MIDI path: \").strip()\n",
    "harmonize(path)"
   ]
  },
  {
   "cell_type": "code",
   "execution_count": 258,
   "id": "c4c071a7",
   "metadata": {},
   "outputs": [],
   "source": [
    "import pygame\n",
    "\n",
    "pygame.init()\n",
    "pygame.mixer.music.load(\"bach_846_harmonized.mid\")\n",
    "pygame.mixer.music.play()"
   ]
  },
  {
   "cell_type": "code",
   "execution_count": null,
   "id": "238f0863",
   "metadata": {},
   "outputs": [],
   "source": []
  }
 ],
 "metadata": {
  "accelerator": "GPU",
  "colab": {
   "gpuType": "T4",
   "provenance": []
  },
  "kernelspec": {
   "display_name": "Python 3 (ipykernel)",
   "language": "python",
   "name": "python3"
  },
  "language_info": {
   "codemirror_mode": {
    "name": "ipython",
    "version": 3
   },
   "file_extension": ".py",
   "mimetype": "text/x-python",
   "name": "python",
   "nbconvert_exporter": "python",
   "pygments_lexer": "ipython3",
   "version": "3.11.9"
  }
 },
 "nbformat": 4,
 "nbformat_minor": 4
}
